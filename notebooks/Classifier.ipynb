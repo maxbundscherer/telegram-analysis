{
 "cells": [
  {
   "cell_type": "markdown",
   "id": "scheduled-edmonton",
   "metadata": {
    "papermill": {
     "duration": 0.017655,
     "end_time": "2021-02-14T10:41:51.199390",
     "exception": false,
     "start_time": "2021-02-14T10:41:51.181735",
     "status": "completed"
    },
    "tags": []
   },
   "source": [
    "# Classifier"
   ]
  },
  {
   "cell_type": "code",
   "execution_count": null,
   "id": "outstanding-greeting",
   "metadata": {
    "execution": {
     "iopub.execute_input": "2021-02-14T10:41:51.240123Z",
     "iopub.status.busy": "2021-02-14T10:41:51.239566Z",
     "iopub.status.idle": "2021-02-14T10:41:51.242224Z",
     "shell.execute_reply": "2021-02-14T10:41:51.241703Z"
    },
    "papermill": {
     "duration": 0.026341,
     "end_time": "2021-02-14T10:41:51.242403",
     "exception": false,
     "start_time": "2021-02-14T10:41:51.216062",
     "status": "completed"
    },
    "tags": []
   },
   "outputs": [],
   "source": [
    "C_USE_CACHE_FILE        = \"long-run-server-28-01.pkl\""
   ]
  },
  {
   "cell_type": "code",
   "execution_count": null,
   "id": "earned-excerpt",
   "metadata": {
    "execution": {
     "iopub.execute_input": "2021-02-14T10:41:51.278828Z",
     "iopub.status.busy": "2021-02-14T10:41:51.278283Z",
     "iopub.status.idle": "2021-02-14T10:41:52.062582Z",
     "shell.execute_reply": "2021-02-14T10:41:52.061934Z"
    },
    "papermill": {
     "duration": 0.803743,
     "end_time": "2021-02-14T10:41:52.062724",
     "exception": false,
     "start_time": "2021-02-14T10:41:51.258981",
     "status": "completed"
    },
    "tags": []
   },
   "outputs": [],
   "source": [
    "# Import default libs\n",
    "import pandas as pd\n",
    "import numpy as np\n",
    "import seaborn as sns\n",
    "import matplotlib.pyplot as plt\n",
    "import time"
   ]
  },
  {
   "cell_type": "code",
   "execution_count": null,
   "id": "foster-parent",
   "metadata": {
    "execution": {
     "iopub.execute_input": "2021-02-14T10:41:52.100088Z",
     "iopub.status.busy": "2021-02-14T10:41:52.099533Z",
     "iopub.status.idle": "2021-02-14T10:41:55.161006Z",
     "shell.execute_reply": "2021-02-14T10:41:55.161426Z"
    },
    "papermill": {
     "duration": 3.082098,
     "end_time": "2021-02-14T10:41:55.161604",
     "exception": false,
     "start_time": "2021-02-14T10:41:52.079506",
     "status": "completed"
    },
    "tags": []
   },
   "outputs": [],
   "source": [
    "# Install and import demoji\n",
    "# Dont exists on conda\n",
    "import sys\n",
    "!{sys.executable} -m pip install demoji\n",
    "\n",
    "import demoji\n",
    "demoji.download_codes()\n",
    "\n",
    "import re"
   ]
  },
  {
   "cell_type": "code",
   "execution_count": null,
   "id": "charming-navigation",
   "metadata": {
    "execution": {
     "iopub.execute_input": "2021-02-14T10:41:55.203291Z",
     "iopub.status.busy": "2021-02-14T10:41:55.202740Z",
     "iopub.status.idle": "2021-02-14T10:41:55.654643Z",
     "shell.execute_reply": "2021-02-14T10:41:55.654138Z"
    },
    "papermill": {
     "duration": 0.47402,
     "end_time": "2021-02-14T10:41:55.654784",
     "exception": false,
     "start_time": "2021-02-14T10:41:55.180764",
     "status": "completed"
    },
    "tags": []
   },
   "outputs": [],
   "source": [
    "import nltk\n",
    "\n",
    "# Stopwords\n",
    "nltk.download(\"stopwords\")"
   ]
  },
  {
   "cell_type": "code",
   "execution_count": null,
   "id": "formal-matrix",
   "metadata": {
    "execution": {
     "iopub.execute_input": "2021-02-14T10:41:55.700376Z",
     "iopub.status.busy": "2021-02-14T10:41:55.699823Z",
     "iopub.status.idle": "2021-02-14T10:41:55.735235Z",
     "shell.execute_reply": "2021-02-14T10:41:55.734787Z"
    },
    "papermill": {
     "duration": 0.059263,
     "end_time": "2021-02-14T10:41:55.735370",
     "exception": false,
     "start_time": "2021-02-14T10:41:55.676107",
     "status": "completed"
    },
    "tags": []
   },
   "outputs": [],
   "source": [
    "# Sklearn\n",
    "from sklearn.model_selection import train_test_split\n",
    "from sklearn.feature_extraction.text import CountVectorizer\n",
    "from sklearn.feature_extraction.text import TfidfTransformer\n",
    "\n",
    "from sklearn.naive_bayes import MultinomialNB\n",
    "from sklearn.linear_model import LogisticRegression\n",
    "from sklearn.ensemble import RandomForestClassifier\n",
    "from sklearn.svm import LinearSVC\n",
    "from sklearn.tree import DecisionTreeClassifier\n",
    "from sklearn.neural_network import MLPClassifier\n",
    "from sklearn.dummy import DummyClassifier\n",
    "\n",
    "from sklearn.metrics import accuracy_score\n",
    "from sklearn.metrics import confusion_matrix"
   ]
  },
  {
   "cell_type": "code",
   "execution_count": null,
   "id": "amazing-consistency",
   "metadata": {
    "execution": {
     "iopub.execute_input": "2021-02-14T10:41:55.778623Z",
     "iopub.status.busy": "2021-02-14T10:41:55.778085Z",
     "iopub.status.idle": "2021-02-14T10:41:55.780210Z",
     "shell.execute_reply": "2021-02-14T10:41:55.780647Z"
    },
    "papermill": {
     "duration": 0.025391,
     "end_time": "2021-02-14T10:41:55.780787",
     "exception": false,
     "start_time": "2021-02-14T10:41:55.755396",
     "status": "completed"
    },
    "tags": []
   },
   "outputs": [],
   "source": [
    "# Show all columns (pandas hides columns by default)\n",
    "pd.set_option('display.max_columns', None)"
   ]
  },
  {
   "cell_type": "code",
   "execution_count": null,
   "id": "tough-number",
   "metadata": {
    "execution": {
     "iopub.execute_input": "2021-02-14T10:41:55.832432Z",
     "iopub.status.busy": "2021-02-14T10:41:55.831827Z",
     "iopub.status.idle": "2021-02-14T10:41:55.834515Z",
     "shell.execute_reply": "2021-02-14T10:41:55.833962Z"
    },
    "papermill": {
     "duration": 0.033762,
     "end_time": "2021-02-14T10:41:55.834670",
     "exception": false,
     "start_time": "2021-02-14T10:41:55.800908",
     "status": "completed"
    },
    "tags": []
   },
   "outputs": [],
   "source": [
    "# Set plot style\n",
    "# TODO: Test different style\n",
    "plt.style.use('ggplot')"
   ]
  },
  {
   "cell_type": "code",
   "execution_count": null,
   "id": "funky-pocket",
   "metadata": {
    "execution": {
     "iopub.execute_input": "2021-02-14T10:41:55.885729Z",
     "iopub.status.busy": "2021-02-14T10:41:55.885101Z",
     "iopub.status.idle": "2021-02-14T10:41:55.887587Z",
     "shell.execute_reply": "2021-02-14T10:41:55.886963Z"
    },
    "papermill": {
     "duration": 0.029618,
     "end_time": "2021-02-14T10:41:55.887720",
     "exception": false,
     "start_time": "2021-02-14T10:41:55.858102",
     "status": "completed"
    },
    "tags": []
   },
   "outputs": [],
   "source": [
    "dir_var                 = \"./work/notebooks/\"\n",
    "dir_var_output          = dir_var + \"output/\"\n",
    "dir_var_pandas_cache    = dir_var + \"cache/pandas/\""
   ]
  },
  {
   "cell_type": "code",
   "execution_count": null,
   "id": "lesser-richards",
   "metadata": {
    "execution": {
     "iopub.execute_input": "2021-02-14T10:41:55.939638Z",
     "iopub.status.busy": "2021-02-14T10:41:55.939022Z",
     "iopub.status.idle": "2021-02-14T10:41:55.941597Z",
     "shell.execute_reply": "2021-02-14T10:41:55.941053Z"
    },
    "papermill": {
     "duration": 0.030748,
     "end_time": "2021-02-14T10:41:55.941745",
     "exception": false,
     "start_time": "2021-02-14T10:41:55.910997",
     "status": "completed"
    },
    "tags": []
   },
   "outputs": [],
   "source": [
    "dictGloStopwatches = dict()\n",
    "\n",
    "# Start timer (for reporting)\n",
    "def gloStartStopwatch(key):\n",
    "    print(\"[Stopwatch started >>\" + str(key) + \"<<]\")\n",
    "    dictGloStopwatches[key] = time.time()\n",
    "\n",
    "# Stop timer (for reporting)\n",
    "def gloStopStopwatch(key):\n",
    "    endTime     = time.time()\n",
    "    startTime   = dictGloStopwatches[key]\n",
    "    print(\"[Stopwatch stopped >>\" + str(key) + \"<< (\" + '{:5.3f}s'.format(endTime-startTime) + \")]\")"
   ]
  },
  {
   "cell_type": "code",
   "execution_count": null,
   "id": "distinguished-calendar",
   "metadata": {
    "execution": {
     "iopub.execute_input": "2021-02-14T10:41:55.989549Z",
     "iopub.status.busy": "2021-02-14T10:41:55.988989Z",
     "iopub.status.idle": "2021-02-14T10:41:55.991525Z",
     "shell.execute_reply": "2021-02-14T10:41:55.991066Z"
    },
    "papermill": {
     "duration": 0.027772,
     "end_time": "2021-02-14T10:41:55.991650",
     "exception": false,
     "start_time": "2021-02-14T10:41:55.963878",
     "status": "completed"
    },
    "tags": []
   },
   "outputs": [],
   "source": [
    "def gloReplaceGermanChars(inputText):\n",
    "\n",
    "    inputText = inputText.replace(\"ö\", \"oe\")\n",
    "    inputText = inputText.replace(\"ü\", \"ue\")\n",
    "    inputText = inputText.replace(\"ä\", \"ae\")\n",
    "\n",
    "    inputText = inputText.replace(\"Ö\", \"Oe\")\n",
    "    inputText = inputText.replace(\"Ü\", \"Ue\")\n",
    "    inputText = inputText.replace(\"Ä\", \"Ae\")\n",
    "\n",
    "    inputText = inputText.replace(\"ß\", \"ss\")\n",
    "    \n",
    "    return inputText"
   ]
  },
  {
   "cell_type": "code",
   "execution_count": null,
   "id": "secret-attraction",
   "metadata": {
    "execution": {
     "iopub.execute_input": "2021-02-14T10:41:56.036347Z",
     "iopub.status.busy": "2021-02-14T10:41:56.035807Z",
     "iopub.status.idle": "2021-02-14T10:41:56.037892Z",
     "shell.execute_reply": "2021-02-14T10:41:56.038327Z"
    },
    "papermill": {
     "duration": 0.026312,
     "end_time": "2021-02-14T10:41:56.038470",
     "exception": false,
     "start_time": "2021-02-14T10:41:56.012158",
     "status": "completed"
    },
    "tags": []
   },
   "outputs": [],
   "source": [
    "# Rm unsafe chars\n",
    "def gloConvertToSafeString(text):\n",
    "    text = demoji.replace(text, \"\")\n",
    "    text = gloReplaceGermanChars(text)\n",
    "    text = re.sub(r'[^a-zA-Z0-9\\s]', '', text)\n",
    "    return text\n",
    "\n",
    "# Generate unique chat name\n",
    "def gloConvertToSafeChatName(chatName):\n",
    "    chatName = gloConvertToSafeString(chatName)\n",
    "    return chatName[:30]"
   ]
  },
  {
   "cell_type": "code",
   "execution_count": null,
   "id": "delayed-section",
   "metadata": {
    "execution": {
     "iopub.execute_input": "2021-02-14T10:41:56.084269Z",
     "iopub.status.busy": "2021-02-14T10:41:56.083725Z",
     "iopub.status.idle": "2021-02-14T10:41:56.086377Z",
     "shell.execute_reply": "2021-02-14T10:41:56.085881Z"
    },
    "papermill": {
     "duration": 0.027869,
     "end_time": "2021-02-14T10:41:56.086507",
     "exception": false,
     "start_time": "2021-02-14T10:41:56.058638",
     "status": "completed"
    },
    "tags": []
   },
   "outputs": [],
   "source": [
    "def gloGetStopWordsList(filterList):\n",
    "\n",
    "    stopwWorldsList = []\n",
    "\n",
    "    deWordsList = nltk.corpus.stopwords.words('german')\n",
    "\n",
    "    enWordsList = nltk.corpus.stopwords.words('english')\n",
    "\n",
    "    aStopwords = []\n",
    "    with open(dir_var + \"additionalStopwords.txt\") as file:\n",
    "        for line in file: \n",
    "            line = line.strip()\n",
    "            if(line != \"\"):\n",
    "                aStopwords.append(line)\n",
    "\n",
    "    for s in filterList:\n",
    "        s = gloReplaceGermanChars(s)\n",
    "        stopwWorldsList.append(s)\n",
    "\n",
    "    for s in deWordsList:\n",
    "        s = gloReplaceGermanChars(s)\n",
    "        stopwWorldsList.append(s)\n",
    "\n",
    "    for s in enWordsList:\n",
    "        stopwWorldsList.append(s)\n",
    "\n",
    "    for s in aStopwords:\n",
    "        s = gloReplaceGermanChars(s)\n",
    "        stopwWorldsList.append(s)\n",
    "\n",
    "    return stopwWorldsList"
   ]
  },
  {
   "cell_type": "code",
   "execution_count": null,
   "id": "white-peter",
   "metadata": {
    "execution": {
     "iopub.execute_input": "2021-02-14T10:41:56.130983Z",
     "iopub.status.busy": "2021-02-14T10:41:56.130443Z",
     "iopub.status.idle": "2021-02-14T10:42:13.436087Z",
     "shell.execute_reply": "2021-02-14T10:42:13.436512Z"
    },
    "papermill": {
     "duration": 17.329565,
     "end_time": "2021-02-14T10:42:13.436685",
     "exception": false,
     "start_time": "2021-02-14T10:41:56.107120",
     "status": "completed"
    },
    "tags": []
   },
   "outputs": [],
   "source": [
    "# Load from cachea\n",
    "dfAllDataMessages = pd.read_pickle(dir_var_pandas_cache + C_USE_CACHE_FILE)"
   ]
  },
  {
   "cell_type": "code",
   "execution_count": null,
   "id": "comfortable-multiple",
   "metadata": {
    "execution": {
     "iopub.execute_input": "2021-02-14T10:42:13.485853Z",
     "iopub.status.busy": "2021-02-14T10:42:13.485253Z",
     "iopub.status.idle": "2021-02-14T10:42:29.768149Z",
     "shell.execute_reply": "2021-02-14T10:42:29.767662Z"
    },
    "papermill": {
     "duration": 16.31032,
     "end_time": "2021-02-14T10:42:29.768289",
     "exception": false,
     "start_time": "2021-02-14T10:42:13.457969",
     "status": "completed"
    },
    "tags": []
   },
   "outputs": [],
   "source": [
    "dfAllDataMessages = dfAllDataMessages[dfAllDataMessages.procEvalIsValidText == True]\n",
    "dfAllDataMessages = dfAllDataMessages[dfAllDataMessages.procTDCleanText != \"\"]\n",
    "dfAllDataMessages = dfAllDataMessages[dfAllDataMessages.procTDTextLength > 5]\n",
    "dfAllDataMessages = dfAllDataMessages[dfAllDataMessages.procChatType == \"public_channel\"]\n",
    "\n",
    "dfAllDataMessages = dfAllDataMessages[dfAllDataMessages[\"from\"].str.contains(\"QUER\") == False]\n",
    "dfAllDataMessages = dfAllDataMessages[dfAllDataMessages[\"from\"].str.contains(\"Quer\") == False]\n",
    "\n",
    "dfAllDataMessages[\"from\"] = dfAllDataMessages[\"from\"].apply(gloConvertToSafeChatName)\n",
    "\n",
    "dfAllDataMessages[\"from\"].value_counts()"
   ]
  },
  {
   "cell_type": "code",
   "execution_count": null,
   "id": "necessary-queue",
   "metadata": {
    "execution": {
     "iopub.execute_input": "2021-02-14T10:42:29.815624Z",
     "iopub.status.busy": "2021-02-14T10:42:29.815078Z",
     "iopub.status.idle": "2021-02-14T10:42:29.818385Z",
     "shell.execute_reply": "2021-02-14T10:42:29.817919Z"
    },
    "papermill": {
     "duration": 0.028413,
     "end_time": "2021-02-14T10:42:29.818515",
     "exception": false,
     "start_time": "2021-02-14T10:42:29.790102",
     "status": "completed"
    },
    "tags": []
   },
   "outputs": [],
   "source": [
    "dfAllDataMessages.columns"
   ]
  },
  {
   "cell_type": "markdown",
   "id": "indie-romance",
   "metadata": {
    "papermill": {
     "duration": 0.021612,
     "end_time": "2021-02-14T10:42:29.861546",
     "exception": false,
     "start_time": "2021-02-14T10:42:29.839934",
     "status": "completed"
    },
    "tags": []
   },
   "source": [
    "## Let's get started..."
   ]
  },
  {
   "cell_type": "code",
   "execution_count": null,
   "id": "shared-filter",
   "metadata": {
    "execution": {
     "iopub.execute_input": "2021-02-14T10:42:29.912066Z",
     "iopub.status.busy": "2021-02-14T10:42:29.911508Z",
     "iopub.status.idle": "2021-02-14T10:42:29.974127Z",
     "shell.execute_reply": "2021-02-14T10:42:29.973597Z"
    },
    "papermill": {
     "duration": 0.090059,
     "end_time": "2021-02-14T10:42:29.974278",
     "exception": false,
     "start_time": "2021-02-14T10:42:29.884219",
     "status": "completed"
    },
    "tags": []
   },
   "outputs": [],
   "source": [
    "df = dfAllDataMessages[[\n",
    " 'date',\n",
    " 'from',\n",
    " 'procEvalIsValidText',\n",
    " 'procIsJsonFormatted',\n",
    " 'procTDCleanText',\n",
    " 'procTDSafeText',\n",
    " 'procTDSafeLowercaseText',\n",
    " 'procTDTextLength',\n",
    " 'procEvalContainsUrl',\n",
    " 'procTDURLs',\n",
    " 'procEvalContainsHashtag',\n",
    " 'procTDHashtags',\n",
    " 'procEvalContainsBoldItem',\n",
    " 'procTDBolds',\n",
    " 'procEvalContainsItalicItem',\n",
    " 'procTDItalics',\n",
    " 'procEvalContainsUnderlineItem',\n",
    " 'procTDUnderlines',\n",
    " 'procEvalContainsEmailItem',\n",
    " 'procTDEmails',\n",
    " 'procEvalContainsEmojiItem',\n",
    " 'procTDEmojis',\n",
    " 'procTDEmojisDesc',\n",
    " 'procEvalContainsPhoto',\n",
    " 'procEvalContainsFile',\n",
    " 'procEvalIsEdited',\n",
    " 'procEvalIsForwarded',\n",
    " 'procPipeline-ner-xlm-roberta',\n",
    " 'procPipeline-ner-bert',\n",
    " 'procPipeline-sen-bert',\n",
    " 'procPipeline-sentiment']].copy()"
   ]
  },
  {
   "cell_type": "code",
   "execution_count": null,
   "id": "rotary-replica",
   "metadata": {
    "execution": {
     "iopub.execute_input": "2021-02-14T10:42:30.024887Z",
     "iopub.status.busy": "2021-02-14T10:42:30.024335Z",
     "iopub.status.idle": "2021-02-14T10:42:30.034294Z",
     "shell.execute_reply": "2021-02-14T10:42:30.034710Z"
    },
    "papermill": {
     "duration": 0.038721,
     "end_time": "2021-02-14T10:42:30.034878",
     "exception": false,
     "start_time": "2021-02-14T10:42:29.996157",
     "status": "completed"
    },
    "tags": []
   },
   "outputs": [],
   "source": [
    "df['clFrom']    = df['from']\n",
    "df['clFromId']  = df['from'].factorize()[0]\n",
    "df['clText']    = df['procTDCleanText']"
   ]
  },
  {
   "cell_type": "code",
   "execution_count": null,
   "id": "acknowledged-feeling",
   "metadata": {
    "execution": {
     "iopub.execute_input": "2021-02-14T10:42:30.082684Z",
     "iopub.status.busy": "2021-02-14T10:42:30.082133Z",
     "iopub.status.idle": "2021-02-14T10:42:30.177807Z",
     "shell.execute_reply": "2021-02-14T10:42:30.178265Z"
    },
    "papermill": {
     "duration": 0.121764,
     "end_time": "2021-02-14T10:42:30.178439",
     "exception": false,
     "start_time": "2021-02-14T10:42:30.056675",
     "status": "completed"
    },
    "tags": []
   },
   "outputs": [],
   "source": [
    "dfFromId            = df[['clFrom', 'clFromId']].drop_duplicates().sort_values('clFromId')\n",
    "\n",
    "dictFrom_to_id      = dict(dfFromId.values)\n",
    "dictId_to_from      = dict(dfFromId[['clFromId', 'clFrom']].values)"
   ]
  },
  {
   "cell_type": "code",
   "execution_count": null,
   "id": "radio-modern",
   "metadata": {
    "execution": {
     "iopub.execute_input": "2021-02-14T10:42:30.226449Z",
     "iopub.status.busy": "2021-02-14T10:42:30.225865Z",
     "iopub.status.idle": "2021-02-14T10:42:30.229201Z",
     "shell.execute_reply": "2021-02-14T10:42:30.228652Z"
    },
    "papermill": {
     "duration": 0.028542,
     "end_time": "2021-02-14T10:42:30.229327",
     "exception": false,
     "start_time": "2021-02-14T10:42:30.200785",
     "status": "completed"
    },
    "tags": []
   },
   "outputs": [],
   "source": [
    "dictId_to_from"
   ]
  },
  {
   "cell_type": "code",
   "execution_count": null,
   "id": "continuing-account",
   "metadata": {
    "execution": {
     "iopub.execute_input": "2021-02-14T10:42:30.285696Z",
     "iopub.status.busy": "2021-02-14T10:42:30.285153Z",
     "iopub.status.idle": "2021-02-14T10:42:30.472317Z",
     "shell.execute_reply": "2021-02-14T10:42:30.472744Z"
    },
    "papermill": {
     "duration": 0.221727,
     "end_time": "2021-02-14T10:42:30.472918",
     "exception": false,
     "start_time": "2021-02-14T10:42:30.251191",
     "status": "completed"
    },
    "tags": []
   },
   "outputs": [],
   "source": [
    "_ = df[\"clFrom\"].value_counts().plot.bar()"
   ]
  },
  {
   "cell_type": "markdown",
   "id": "amended-replica",
   "metadata": {
    "papermill": {
     "duration": 0.023178,
     "end_time": "2021-02-14T10:42:30.519676",
     "exception": false,
     "start_time": "2021-02-14T10:42:30.496498",
     "status": "completed"
    },
    "tags": []
   },
   "source": [
    "### TODO\n",
    "\n",
    "Thank you https://towardsdatascience.com/multi-class-text-classification-with-scikit-learn-12f1e60e0a9f\n",
    "\n",
    "```\n",
    "len(df.index)\n",
    "\n",
    "from sklearn.feature_extraction.text import TfidfVectorizer\n",
    "\n",
    "tfidf = TfidfVectorizer(sublinear_tf=True, min_df=5, norm='l2', encoding='utf-8', ngram_range=(1, 2), stop_words=gloGetStopWordsList([])) # , stop_words='german' TODO: Stop Words\n",
    "\n",
    "features    = tfidf.fit_transform(df[\"clText\"]).toarray()\n",
    "labels      = df[\"clFromId\"]\n",
    "\n",
    "features.shape\n",
    "\n",
    "from sklearn.feature_selection import chi2\n",
    "import numpy as np\n",
    "\n",
    "N = 2\n",
    "for clFrom, clFromId in sorted(dictFrom_to_id.items()):\n",
    "\n",
    "    print(\"Got \" + str(clFrom) + \"/\" + str(clFromId) + \" and \" + str(N))\n",
    "\n",
    "    features_chi2   = chi2(features, labels == clFromId)\n",
    "    indices         = np.argsort(features_chi2[0])\n",
    "    feature_names   = np.array(tfidf.get_feature_names())[indices]\n",
    "\n",
    "    unigrams = [v for v in feature_names if len(v.split(' ')) == 1]\n",
    "    bigrams = [v for v in feature_names if len(v.split(' ')) == 2]\n",
    "    print(\"# '{}':\".format(clFrom))\n",
    "    print(\"  . Most correlated unigrams:\\n. {}\".format('\\n. '.join(unigrams[-N:])))\n",
    "    print(\"  . Most correlated bigrams:\\n. {}\".format('\\n. '.join(bigrams[-N:])))\n",
    "```"
   ]
  },
  {
   "cell_type": "code",
   "execution_count": null,
   "id": "physical-convert",
   "metadata": {
    "execution": {
     "iopub.execute_input": "2021-02-14T10:42:30.574208Z",
     "iopub.status.busy": "2021-02-14T10:42:30.572708Z",
     "iopub.status.idle": "2021-02-14T10:42:30.594705Z",
     "shell.execute_reply": "2021-02-14T10:42:30.595125Z"
    },
    "papermill": {
     "duration": 0.052416,
     "end_time": "2021-02-14T10:42:30.595295",
     "exception": false,
     "start_time": "2021-02-14T10:42:30.542879",
     "status": "completed"
    },
    "tags": []
   },
   "outputs": [],
   "source": [
    "X_train, X_test, y_train, y_test = train_test_split(df['clText'], df['clFrom'], random_state = 42, test_size=0.20)\n",
    "\n",
    "print(\"Train size:\\t\" + str(len(X_train.index)))\n",
    "print(\"Test size:\\t\" + str(len(X_test.index)))"
   ]
  },
  {
   "cell_type": "code",
   "execution_count": null,
   "id": "precious-paragraph",
   "metadata": {
    "execution": {
     "iopub.execute_input": "2021-02-14T10:42:30.648332Z",
     "iopub.status.busy": "2021-02-14T10:42:30.647786Z",
     "iopub.status.idle": "2021-02-14T10:42:34.967584Z",
     "shell.execute_reply": "2021-02-14T10:42:34.968018Z"
    },
    "papermill": {
     "duration": 4.348265,
     "end_time": "2021-02-14T10:42:34.968191",
     "exception": false,
     "start_time": "2021-02-14T10:42:30.619926",
     "status": "completed"
    },
    "tags": []
   },
   "outputs": [],
   "source": [
    "gloStartStopwatch(\"Transform messages\")\n",
    "\n",
    "count_vect          = CountVectorizer()\n",
    "tfidf_transformer   = TfidfTransformer()\n",
    "\n",
    "# Transform and fit train\n",
    "X_train_counts      = count_vect.fit_transform(X_train)\n",
    "X_train_tfidf       = tfidf_transformer.fit_transform(X_train_counts)\n",
    "\n",
    "# Transform test\n",
    "X_test_counts       = count_vect.transform(X_test)\n",
    "X_test_tfidf        = tfidf_transformer.transform(X_test_counts)\n",
    "\n",
    "gloStopStopwatch(\"Transform messages\")"
   ]
  },
  {
   "cell_type": "code",
   "execution_count": null,
   "id": "threaded-recycling",
   "metadata": {
    "execution": {
     "iopub.execute_input": "2021-02-14T10:42:35.027917Z",
     "iopub.status.busy": "2021-02-14T10:42:35.027338Z",
     "iopub.status.idle": "2021-02-14T10:42:35.029876Z",
     "shell.execute_reply": "2021-02-14T10:42:35.029320Z"
    },
    "papermill": {
     "duration": 0.035708,
     "end_time": "2021-02-14T10:42:35.030006",
     "exception": false,
     "start_time": "2021-02-14T10:42:34.994298",
     "status": "completed"
    },
    "tags": []
   },
   "outputs": [],
   "source": [
    "def trainAndEvalModel(model, outputFilename):\n",
    "\n",
    "    gloStartStopwatch(\"- Train now model \" + str(model))\n",
    "    model.fit(X_train_tfidf, y_train)\n",
    "    gloStopStopwatch(\"- Train now model \" + str(model))\n",
    "\n",
    "    searchStrings = [\"Folge Attila Hildmann\", \"Liebe Eva\", \"Premium Kanal\"]\n",
    "\n",
    "    for sS in searchStrings:\n",
    "\n",
    "        sS = str(sS)\n",
    "        print()\n",
    "        print(\"Who has written '\" + sS + \"'?\")\n",
    "        t = tfidf_transformer.transform(count_vect.transform([sS]))\n",
    "        r = model.predict(t)\n",
    "        print(str(r))\n",
    "\n",
    "    y_pred_train        = model.predict(X_train_tfidf)\n",
    "    y_pred_test         = model.predict(X_test_tfidf)\n",
    "\n",
    "    print()\n",
    "    print(\"Train Score:\\t\"  + str(accuracy_score(y_true=y_train, y_pred=y_pred_train)))\n",
    "    print(\"Test Score:\\t\"   + str(accuracy_score(y_true=y_test, y_pred=y_pred_test)))\n",
    "\n",
    "    print()\n",
    "    print(\"Confusion Matrix on test:\")\n",
    "    conf_mat = confusion_matrix(y_true = y_test, y_pred = y_pred_test)\n",
    "    fig, ax  = plt.subplots(figsize=(10,10))\n",
    "\n",
    "    sns.heatmap(conf_mat, annot=True, fmt='d',\n",
    "                xticklabels=dfFromId.clFrom.values, yticklabels=dfFromId.clFrom.values)\n",
    "                \n",
    "    plt.ylabel('Is')\n",
    "    plt.xlabel('Predicted')\n",
    "\n",
    "    if(outputFilename != \"\"):\n",
    "        plt.savefig(dir_var_output + outputFilename)\n",
    "\n",
    "    plt.show()"
   ]
  },
  {
   "cell_type": "code",
   "execution_count": null,
   "id": "equipped-update",
   "metadata": {
    "execution": {
     "iopub.execute_input": "2021-02-14T10:42:35.085659Z",
     "iopub.status.busy": "2021-02-14T10:42:35.085100Z",
     "iopub.status.idle": "2021-02-14T10:42:40.080605Z",
     "shell.execute_reply": "2021-02-14T10:42:40.080055Z"
    },
    "papermill": {
     "duration": 5.024568,
     "end_time": "2021-02-14T10:42:40.080742",
     "exception": false,
     "start_time": "2021-02-14T10:42:35.056174",
     "status": "completed"
    },
    "tags": []
   },
   "outputs": [],
   "source": [
    "trainAndEvalModel(LinearSVC(), \"class-linearsvc.svg\")"
   ]
  },
  {
   "cell_type": "code",
   "execution_count": null,
   "id": "determined-contents",
   "metadata": {
    "execution": {
     "iopub.execute_input": "2021-02-14T10:42:40.152255Z",
     "iopub.status.busy": "2021-02-14T10:42:40.151703Z",
     "iopub.status.idle": "2021-02-14T10:42:41.667912Z",
     "shell.execute_reply": "2021-02-14T10:42:41.667456Z"
    },
    "papermill": {
     "duration": 1.552761,
     "end_time": "2021-02-14T10:42:41.668054",
     "exception": false,
     "start_time": "2021-02-14T10:42:40.115293",
     "status": "completed"
    },
    "tags": []
   },
   "outputs": [],
   "source": [
    "trainAndEvalModel(MultinomialNB(), \"class-multinomialnb.svg\")"
   ]
  },
  {
   "cell_type": "code",
   "execution_count": null,
   "id": "expected-strength",
   "metadata": {
    "execution": {
     "iopub.execute_input": "2021-02-14T10:42:41.755360Z",
     "iopub.status.busy": "2021-02-14T10:42:41.754803Z",
     "iopub.status.idle": "2021-02-14T10:43:08.140348Z",
     "shell.execute_reply": "2021-02-14T10:43:08.140784Z"
    },
    "papermill": {
     "duration": 26.431116,
     "end_time": "2021-02-14T10:43:08.140950",
     "exception": false,
     "start_time": "2021-02-14T10:42:41.709834",
     "status": "completed"
    },
    "tags": []
   },
   "outputs": [],
   "source": [
    "trainAndEvalModel(LogisticRegression(), \"class-logisticregression.svg\")"
   ]
  },
  {
   "cell_type": "code",
   "execution_count": null,
   "id": "worse-pioneer",
   "metadata": {
    "execution": {
     "iopub.execute_input": "2021-02-14T10:43:08.246367Z",
     "iopub.status.busy": "2021-02-14T10:43:08.245771Z",
     "iopub.status.idle": "2021-02-15T00:33:48.757302Z",
     "shell.execute_reply": "2021-02-15T00:33:48.756728Z"
    },
    "papermill": {
     "duration": 49840.565572,
     "end_time": "2021-02-15T00:33:48.757444",
     "exception": false,
     "start_time": "2021-02-14T10:43:08.191872",
     "status": "completed"
    },
    "tags": []
   },
   "outputs": [],
   "source": [
    "trainAndEvalModel(MLPClassifier(), \"class-mlp.svg\")"
   ]
  },
  {
   "cell_type": "code",
   "execution_count": null,
   "id": "hazardous-topic",
   "metadata": {
    "execution": {
     "iopub.execute_input": "2021-02-15T00:33:48.882143Z",
     "iopub.status.busy": "2021-02-15T00:33:48.881570Z",
     "iopub.status.idle": "2021-02-15T00:35:33.234866Z",
     "shell.execute_reply": "2021-02-15T00:35:33.235342Z"
    },
    "papermill": {
     "duration": 104.417131,
     "end_time": "2021-02-15T00:35:33.235514",
     "exception": false,
     "start_time": "2021-02-15T00:33:48.818383",
     "status": "completed"
    },
    "tags": []
   },
   "outputs": [],
   "source": [
    "trainAndEvalModel(DecisionTreeClassifier(), \"class-decisiontree.svg\")"
   ]
  },
  {
   "cell_type": "code",
   "execution_count": null,
   "id": "mineral-croatia",
   "metadata": {
    "execution": {
     "iopub.execute_input": "2021-02-15T00:35:33.377412Z",
     "iopub.status.busy": "2021-02-15T00:35:33.376863Z",
     "iopub.status.idle": "2021-02-15T01:03:24.878047Z",
     "shell.execute_reply": "2021-02-15T01:03:24.878531Z"
    },
    "papermill": {
     "duration": 1671.572069,
     "end_time": "2021-02-15T01:03:24.878703",
     "exception": false,
     "start_time": "2021-02-15T00:35:33.306634",
     "status": "completed"
    },
    "tags": []
   },
   "outputs": [],
   "source": [
    "trainAndEvalModel(RandomForestClassifier(), \"class-randomforest.svg\")"
   ]
  },
  {
   "cell_type": "code",
   "execution_count": null,
   "id": "limiting-calgary",
   "metadata": {
    "execution": {
     "iopub.execute_input": "2021-02-15T01:03:25.035892Z",
     "iopub.status.busy": "2021-02-15T01:03:25.035345Z",
     "iopub.status.idle": "2021-02-15T01:03:26.237175Z",
     "shell.execute_reply": "2021-02-15T01:03:26.236717Z"
    },
    "papermill": {
     "duration": 1.283585,
     "end_time": "2021-02-15T01:03:26.237321",
     "exception": false,
     "start_time": "2021-02-15T01:03:24.953736",
     "status": "completed"
    },
    "tags": []
   },
   "outputs": [],
   "source": [
    "trainAndEvalModel(DummyClassifier(), \"class-dummy.svg\")"
   ]
  },
  {
   "cell_type": "code",
   "execution_count": null,
   "id": "aging-encoding",
   "metadata": {
    "papermill": {
     "duration": 0.083746,
     "end_time": "2021-02-15T01:03:26.405135",
     "exception": false,
     "start_time": "2021-02-15T01:03:26.321389",
     "status": "completed"
    },
    "tags": []
   },
   "outputs": [],
   "source": []
  }
 ],
 "metadata": {
  "kernelspec": {
   "display_name": "Python 3",
   "language": "python",
   "name": "python3"
  },
  "language_info": {
   "codemirror_mode": {
    "name": "ipython",
    "version": 3
   },
   "file_extension": ".py",
   "mimetype": "text/x-python",
   "name": "python",
   "nbconvert_exporter": "python",
   "pygments_lexer": "ipython3",
   "version": "3.8.6-final"
  },
  "papermill": {
   "default_parameters": {},
   "duration": 51698.255691,
   "end_time": "2021-02-15T01:03:28.434344",
   "environment_variables": {},
   "exception": null,
   "input_path": "work/notebooks/Classifier.ipynb",
   "output_path": "work/notebooks/Classifier-out.ipynb",
   "parameters": {},
   "start_time": "2021-02-14T10:41:50.178653",
   "version": "2.3.2"
  }
 },
 "nbformat": 4,
 "nbformat_minor": 5
}