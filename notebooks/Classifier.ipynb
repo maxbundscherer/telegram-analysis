{
 "cells": [
  {
   "cell_type": "markdown",
   "id": "collect-screw",
   "metadata": {
    "papermill": {
     "duration": 0.020675,
     "end_time": "2021-02-21T10:16:49.775553",
     "exception": false,
     "start_time": "2021-02-21T10:16:49.754878",
     "status": "completed"
    },
    "tags": []
   },
   "source": [
    "# Telegram Analyse (Master-Thesis Teil Autoren-Klassifizierung)\n",
    "\n",
    "Informatik Master\n",
    "\n",
    "Maximilian Bundscherer\n",
    "\n",
    "Beschreibung tbd."
   ]
  },
  {
   "cell_type": "markdown",
   "id": "outdoor-demand",
   "metadata": {},
   "source": [
    "## Arbeitsumgebung starten und Konfigurationen anwenden"
   ]
  },
  {
   "cell_type": "markdown",
   "id": "competent-saver",
   "metadata": {},
   "source": [
    "### Jupyter Notebook Parameter\n",
    "\n",
    "``C_USE_CACHE_FILE``: Vergleiche Notebook ``Telegram.ipynb`` (Daten aufbereiten)"
   ]
  },
  {
   "cell_type": "code",
   "execution_count": null,
   "id": "plain-snake",
   "metadata": {
    "papermill": {
     "duration": 0.029242,
     "end_time": "2021-02-21T10:16:49.824563",
     "exception": false,
     "start_time": "2021-02-21T10:16:49.795321",
     "status": "completed"
    },
    "tags": []
   },
   "outputs": [],
   "source": [
    "C_USE_CACHE_FILE = \"long-run-server-28-01.pkl\""
   ]
  },
  {
   "cell_type": "code",
   "execution_count": null,
   "id": "distinct-kitty",
   "metadata": {},
   "outputs": [],
   "source": [
    "## Laden von Abhänigkeiten"
   ]
  },
  {
   "cell_type": "markdown",
   "id": "systematic-cemetery",
   "metadata": {},
   "source": [
    "### Bibliotheken und Abhängigkeiten laden\n",
    "\n",
    " Vergleiche Notebook ``Telegram.ipynb`` (Umgebung starten und Konfigurationen anwenden)"
   ]
  },
  {
   "cell_type": "markdown",
   "id": "raised-singing",
   "metadata": {},
   "source": [
    "#### Abhänigkeiten vom Docker-Image und IO-Libs und weitere"
   ]
  },
  {
   "cell_type": "code",
   "execution_count": null,
   "id": "aggregate-machine",
   "metadata": {
    "papermill": {
     "duration": 0.814002,
     "end_time": "2021-02-21T10:16:50.657549",
     "exception": false,
     "start_time": "2021-02-21T10:16:49.843547",
     "status": "completed"
    },
    "tags": []
   },
   "outputs": [],
   "source": [
    "# Import default libs\n",
    "import pandas as pd\n",
    "import numpy as np\n",
    "import seaborn as sns\n",
    "import matplotlib.pyplot as plt\n",
    "import time\n",
    "import re\n",
    "import os\n",
    "import sys\n",
    "import demjson\n",
    "import requests\n",
    "import networkx as nx\n",
    "import warnings\n",
    "from pprint import pprint\n",
    "from urllib.parse import urlparse\n",
    "from collections import Counter\n",
    "from pathlib import Path\n",
    "from lxml.html import fromstring"
   ]
  },
  {
   "cell_type": "markdown",
   "id": "cathedral-tribe",
   "metadata": {},
   "source": [
    "DeprecationWarnings ausblenden"
   ]
  },
  {
   "cell_type": "code",
   "execution_count": null,
   "id": "arctic-polyester",
   "metadata": {},
   "outputs": [],
   "source": [
    "# Hide DeprecationWarning\n",
    "warnings.filterwarnings(\"ignore\", category=DeprecationWarning)"
   ]
  },
  {
   "cell_type": "markdown",
   "id": "governmental-litigation",
   "metadata": {},
   "source": [
    "#### Weitere Abhänigkeiten installieren"
   ]
  },
  {
   "cell_type": "code",
   "execution_count": null,
   "id": "solved-discharge",
   "metadata": {
    "papermill": {
     "duration": 3.081832,
     "end_time": "2021-02-21T10:16:53.759405",
     "exception": false,
     "start_time": "2021-02-21T10:16:50.677573",
     "status": "completed"
    },
    "tags": []
   },
   "outputs": [],
   "source": [
    "!{sys.executable} -m pip install demoji"
   ]
  },
  {
   "cell_type": "markdown",
   "id": "solid-sentence",
   "metadata": {},
   "source": [
    "#### Weitere Abhänigkeiten importieren"
   ]
  },
  {
   "cell_type": "code",
   "execution_count": null,
   "id": "prerequisite-serve",
   "metadata": {},
   "outputs": [],
   "source": [
    "import nltk\n",
    "import demoji\n",
    "\n",
    "# Sklearn\n",
    "from sklearn.model_selection import train_test_split\n",
    "from sklearn.feature_extraction.text import CountVectorizer\n",
    "from sklearn.feature_extraction.text import TfidfTransformer\n",
    "\n",
    "from sklearn.naive_bayes import MultinomialNB\n",
    "from sklearn.linear_model import LogisticRegression\n",
    "from sklearn.ensemble import RandomForestClassifier\n",
    "from sklearn.svm import LinearSVC\n",
    "from sklearn.tree import DecisionTreeClassifier\n",
    "from sklearn.neural_network import MLPClassifier\n",
    "from sklearn.dummy import DummyClassifier\n",
    "\n",
    "from sklearn.metrics import accuracy_score\n",
    "from sklearn.metrics import confusion_matrix"
   ]
  },
  {
   "cell_type": "markdown",
   "id": "abroad-coordinator",
   "metadata": {},
   "source": [
    "#### Stopuhr bereitstellen"
   ]
  },
  {
   "cell_type": "code",
   "execution_count": null,
   "id": "unavailable-rough",
   "metadata": {},
   "outputs": [],
   "source": [
    "dictGloStopwatches = dict()\n",
    "\n",
    "# Start timer (for reporting)\n",
    "def gloStartStopwatch(key):\n",
    "    print(\"[Stopwatch started >>\" + str(key) + \"<<]\")\n",
    "    dictGloStopwatches[key] = time.time()\n",
    "\n",
    "# Stop timer (for reporting)\n",
    "def gloStopStopwatch(key):\n",
    "    endTime     = time.time()\n",
    "    startTime   = dictGloStopwatches[key]\n",
    "    print(\"[Stopwatch stopped >>\" + str(key) + \"<< (\" + '{:5.3f}s'.format(endTime-startTime) + \")]\")"
   ]
  },
  {
   "cell_type": "markdown",
   "id": "existing-artist",
   "metadata": {},
   "source": [
    "### Download von Daten"
   ]
  },
  {
   "cell_type": "markdown",
   "id": "abandoned-missile",
   "metadata": {},
   "source": [
    "#### NLTK"
   ]
  },
  {
   "cell_type": "code",
   "execution_count": null,
   "id": "alpine-american",
   "metadata": {
    "papermill": {
     "duration": 0.49131,
     "end_time": "2021-02-21T10:16:54.274068",
     "exception": false,
     "start_time": "2021-02-21T10:16:53.782758",
     "status": "completed"
    },
    "tags": []
   },
   "outputs": [],
   "source": [
    "nltk.download(\"stopwords\")"
   ]
  },
  {
   "cell_type": "markdown",
   "id": "dried-comment",
   "metadata": {},
   "source": [
    "#### Demoji"
   ]
  },
  {
   "cell_type": "code",
   "execution_count": null,
   "id": "loved-spending",
   "metadata": {},
   "outputs": [],
   "source": [
    "demoji.download_codes()"
   ]
  },
  {
   "cell_type": "markdown",
   "id": "cooked-funeral",
   "metadata": {
    "papermill": {
     "duration": 0.08062,
     "end_time": "2021-02-21T10:16:54.378509",
     "exception": false,
     "start_time": "2021-02-21T10:16:54.297889",
     "status": "completed"
    },
    "tags": []
   },
   "source": [
    "## Umgebung konfigurieren und vorbereiten"
   ]
  },
  {
   "cell_type": "markdown",
   "id": "sacred-interstate",
   "metadata": {},
   "source": [
    "### Konfigurationen Umgebung anwenden"
   ]
  },
  {
   "cell_type": "markdown",
   "id": "encouraging-dubai",
   "metadata": {},
   "source": [
    "#### IO Einstellungen"
   ]
  },
  {
   "cell_type": "code",
   "execution_count": null,
   "id": "diverse-kingdom",
   "metadata": {},
   "outputs": [],
   "source": [
    "# Show all columns (pandas hides columns by default)\n",
    "pd.set_option('display.max_columns', None)\n",
    "\n",
    "# Set plot style\n",
    "plt.style.use('ggplot')\n",
    "\n",
    "font = {'size'   : 13}\n",
    "\n",
    "plt.rc('font', **font)"
   ]
  },
  {
   "cell_type": "markdown",
   "id": "demonstrated-spectrum",
   "metadata": {
    "papermill": {
     "duration": 0.029134,
     "end_time": "2021-02-21T10:16:54.482934",
     "exception": false,
     "start_time": "2021-02-21T10:16:54.453800",
     "status": "completed"
    },
    "tags": []
   },
   "source": [
    "#### Arbeitsverzeichnis definieren"
   ]
  },
  {
   "cell_type": "code",
   "execution_count": null,
   "id": "generic-involvement",
   "metadata": {
    "papermill": {
     "duration": 0.028985,
     "end_time": "2021-02-21T10:16:54.536381",
     "exception": false,
     "start_time": "2021-02-21T10:16:54.507396",
     "status": "completed"
    },
    "tags": []
   },
   "outputs": [],
   "source": [
    "dir_var                 = \"./\"\n",
    "dir_var_output          = dir_var + \"output/\"\n",
    "dir_var_pandas_cache    = dir_var + \"cache/pandas/\""
   ]
  },
  {
   "cell_type": "markdown",
   "id": "powerful-university",
   "metadata": {},
   "source": [
    "#### Globale Text-Normalisierungsfunktionen definieren"
   ]
  },
  {
   "cell_type": "markdown",
   "id": "animated-glucose",
   "metadata": {},
   "source": [
    "##### Deutsche Umlaute entfernen"
   ]
  },
  {
   "cell_type": "code",
   "execution_count": null,
   "id": "spoken-actress",
   "metadata": {
    "papermill": {
     "duration": 0.030344,
     "end_time": "2021-02-21T10:16:54.643395",
     "exception": false,
     "start_time": "2021-02-21T10:16:54.613051",
     "status": "completed"
    },
    "tags": []
   },
   "outputs": [],
   "source": [
    "def gloReplaceGermanChars(inputText):\n",
    "\n",
    "    inputText = inputText.replace(\"ö\", \"oe\")\n",
    "    inputText = inputText.replace(\"ü\", \"ue\")\n",
    "    inputText = inputText.replace(\"ä\", \"ae\")\n",
    "\n",
    "    inputText = inputText.replace(\"Ö\", \"Oe\")\n",
    "    inputText = inputText.replace(\"Ü\", \"Ue\")\n",
    "    inputText = inputText.replace(\"Ä\", \"Ae\")\n",
    "\n",
    "    inputText = inputText.replace(\"ß\", \"ss\")\n",
    "    \n",
    "    return inputText"
   ]
  },
  {
   "cell_type": "markdown",
   "id": "pleasant-sacrifice",
   "metadata": {},
   "source": [
    "##### Sonderzeichen entfernen und Chat Titel normalisieren\n",
    "\n",
    "von Text und Chat-Titel"
   ]
  },
  {
   "cell_type": "code",
   "execution_count": null,
   "id": "confirmed-princess",
   "metadata": {
    "papermill": {
     "duration": 0.029065,
     "end_time": "2021-02-21T10:16:54.696673",
     "exception": false,
     "start_time": "2021-02-21T10:16:54.667608",
     "status": "completed"
    },
    "tags": []
   },
   "outputs": [],
   "source": [
    "# Rm unsafe chars\n",
    "def gloConvertToSafeString(text):\n",
    "    text = demoji.replace(text, \"\")\n",
    "    text = gloReplaceGermanChars(text)\n",
    "    text = re.sub(r'[^a-zA-Z0-9\\s]', '', text)\n",
    "    return text\n",
    "\n",
    "# Generate unique chat name\n",
    "def gloConvertToSafeChatName(chatName):\n",
    "    chatName = gloConvertToSafeString(chatName)\n",
    "    return chatName[:30]"
   ]
  },
  {
   "cell_type": "markdown",
   "id": "tested-casting",
   "metadata": {},
   "source": [
    "##### Bereitstellen von Stop Words Datenbanken"
   ]
  },
  {
   "cell_type": "code",
   "execution_count": null,
   "id": "thirty-israel",
   "metadata": {
    "papermill": {
     "duration": 0.030425,
     "end_time": "2021-02-21T10:16:54.750369",
     "exception": false,
     "start_time": "2021-02-21T10:16:54.719944",
     "status": "completed"
    },
    "tags": []
   },
   "outputs": [],
   "source": [
    "def gloGetStopWordsList(filterList):\n",
    "\n",
    "    stopwWorldsList = []\n",
    "\n",
    "    deWordsList = nltk.corpus.stopwords.words('german')\n",
    "\n",
    "    enWordsList = nltk.corpus.stopwords.words('english')\n",
    "\n",
    "    aStopwords = []\n",
    "    with open(dir_var + \"additionalStopwords.txt\") as file:\n",
    "        for line in file: \n",
    "            line = line.strip()\n",
    "            if(line != \"\"):\n",
    "                aStopwords.append(line)\n",
    "\n",
    "    for s in filterList:\n",
    "        s = gloReplaceGermanChars(s)\n",
    "        stopwWorldsList.append(s)\n",
    "\n",
    "    for s in deWordsList:\n",
    "        s = gloReplaceGermanChars(s)\n",
    "        stopwWorldsList.append(s)\n",
    "\n",
    "    for s in enWordsList:\n",
    "        stopwWorldsList.append(s)\n",
    "\n",
    "    for s in aStopwords:\n",
    "        s = gloReplaceGermanChars(s)\n",
    "        stopwWorldsList.append(s)\n",
    "\n",
    "    return stopwWorldsList"
   ]
  },
  {
   "cell_type": "markdown",
   "id": "eleven-metro",
   "metadata": {
    "papermill": {
     "duration": 0.023122,
     "end_time": "2021-02-21T10:17:32.535280",
     "exception": false,
     "start_time": "2021-02-21T10:17:32.512158",
     "status": "completed"
    },
    "tags": []
   },
   "source": [
    "## Klassifizierung nach Autoren"
   ]
  },
  {
   "cell_type": "markdown",
   "id": "light-invention",
   "metadata": {},
   "source": [
    "### Daten laden"
   ]
  },
  {
   "cell_type": "markdown",
   "id": "armed-wales",
   "metadata": {},
   "source": [
    "#### Von Cache Laden"
   ]
  },
  {
   "cell_type": "code",
   "execution_count": null,
   "id": "through-eating",
   "metadata": {
    "papermill": {
     "duration": 20.803001,
     "end_time": "2021-02-21T10:17:15.577412",
     "exception": false,
     "start_time": "2021-02-21T10:16:54.774411",
     "status": "completed"
    },
    "tags": []
   },
   "outputs": [],
   "source": [
    "gloStartStopwatch(\"Cache einlesen\")\n",
    "dfAllDataMessages = pd.read_pickle(dir_var_pandas_cache + C_USE_CACHE_FILE)\n",
    "gloStopStopwatch(\"Cache einlesen\")"
   ]
  },
  {
   "cell_type": "markdown",
   "id": "specific-characteristic",
   "metadata": {},
   "source": [
    "#### Filtern und anzeigen"
   ]
  },
  {
   "cell_type": "code",
   "execution_count": null,
   "id": "subtle-swimming",
   "metadata": {
    "papermill": {
     "duration": 16.834003,
     "end_time": "2021-02-21T10:17:32.434638",
     "exception": false,
     "start_time": "2021-02-21T10:17:15.600635",
     "status": "completed"
    },
    "tags": []
   },
   "outputs": [],
   "source": [
    "dfAllDataMessages = dfAllDataMessages[dfAllDataMessages[\"from\"].str.contains(\"QUER\") == False]\n",
    "dfAllDataMessages = dfAllDataMessages[dfAllDataMessages[\"from\"].str.contains(\"Quer\") == False]\n",
    "\n",
    "dfAllDataMessages = dfAllDataMessages[dfAllDataMessages.procEvalIsValidText == True]\n",
    "dfAllDataMessages = dfAllDataMessages[dfAllDataMessages.procTDCleanText != \"\"]\n",
    "dfAllDataMessages = dfAllDataMessages[dfAllDataMessages.procTDTextLength > 5]\n",
    "dfAllDataMessages = dfAllDataMessages[dfAllDataMessages.procChatType == \"public_channel\"]\n",
    "\n",
    "dfAllDataMessages[\"from\"] = dfAllDataMessages[\"from\"].apply(gloConvertToSafeChatName)"
   ]
  },
  {
   "cell_type": "code",
   "execution_count": null,
   "id": "alleged-amateur",
   "metadata": {},
   "outputs": [],
   "source": [
    "dfAllDataMessages.head(5)"
   ]
  },
  {
   "cell_type": "code",
   "execution_count": null,
   "id": "biological-effect",
   "metadata": {},
   "outputs": [],
   "source": [
    "dfAllDataMessages[\"from\"].value_counts()"
   ]
  },
  {
   "cell_type": "code",
   "execution_count": null,
   "id": "compressed-browser",
   "metadata": {
    "papermill": {
     "duration": 0.030563,
     "end_time": "2021-02-21T10:17:32.488737",
     "exception": false,
     "start_time": "2021-02-21T10:17:32.458174",
     "status": "completed"
    },
    "tags": []
   },
   "outputs": [],
   "source": [
    "dfAllDataMessages.columns"
   ]
  },
  {
   "cell_type": "markdown",
   "id": "devoted-berlin",
   "metadata": {},
   "source": [
    "### Daten aufbereiten"
   ]
  },
  {
   "cell_type": "markdown",
   "id": "invalid-convert",
   "metadata": {},
   "source": [
    "#### Features selektieren"
   ]
  },
  {
   "cell_type": "code",
   "execution_count": null,
   "id": "twelve-anime",
   "metadata": {
    "papermill": {
     "duration": 0.093927,
     "end_time": "2021-02-21T10:17:32.652844",
     "exception": false,
     "start_time": "2021-02-21T10:17:32.558917",
     "status": "completed"
    },
    "tags": []
   },
   "outputs": [],
   "source": [
    "targetDf = dfAllDataMessages[[\n",
    " 'date',\n",
    " 'from',\n",
    " 'procEvalIsValidText',\n",
    " 'procIsJsonFormatted',\n",
    " 'procTDCleanText',\n",
    " 'procTDSafeText',\n",
    " 'procTDSafeLowercaseText',\n",
    " 'procTDTextLength',\n",
    " 'procEvalContainsUrl',\n",
    " 'procTDURLs',\n",
    " 'procEvalContainsHashtag',\n",
    " 'procTDHashtags',\n",
    " 'procEvalContainsBoldItem',\n",
    " 'procTDBolds',\n",
    " 'procEvalContainsItalicItem',\n",
    " 'procTDItalics',\n",
    " 'procEvalContainsUnderlineItem',\n",
    " 'procTDUnderlines',\n",
    " 'procEvalContainsEmailItem',\n",
    " 'procTDEmails',\n",
    " 'procEvalContainsEmojiItem',\n",
    " 'procTDEmojis',\n",
    " 'procTDEmojisDesc',\n",
    " 'procEvalContainsPhoto',\n",
    " 'procEvalContainsFile',\n",
    " 'procEvalIsEdited',\n",
    " 'procEvalIsForwarded',\n",
    " 'procPipeline-ner-xlm-roberta',\n",
    " 'procPipeline-ner-bert',\n",
    " 'procPipeline-sen-bert',\n",
    " 'procPipeline-sentiment']].copy()"
   ]
  },
  {
   "cell_type": "markdown",
   "id": "accompanied-sauce",
   "metadata": {},
   "source": [
    "##### Classifier Attribute"
   ]
  },
  {
   "cell_type": "code",
   "execution_count": null,
   "id": "closing-suspect",
   "metadata": {
    "papermill": {
     "duration": 0.040707,
     "end_time": "2021-02-21T10:17:32.717399",
     "exception": false,
     "start_time": "2021-02-21T10:17:32.676692",
     "status": "completed"
    },
    "tags": []
   },
   "outputs": [],
   "source": [
    "targetDf['clFrom']    = targetDf['from']\n",
    "targetDf['clFromId']  = targetDf['from'].factorize()[0]\n",
    "targetDf['clText']    = targetDf['procTDCleanText']"
   ]
  },
  {
   "cell_type": "code",
   "execution_count": null,
   "id": "working-killer",
   "metadata": {},
   "outputs": [],
   "source": [
    "targetDf['clFrom'].value_counts().plot.bar()"
   ]
  },
  {
   "cell_type": "code",
   "execution_count": null,
   "id": "medieval-wisconsin",
   "metadata": {},
   "outputs": [],
   "source": [
    "targetDf['clFromId'].value_counts()"
   ]
  },
  {
   "cell_type": "code",
   "execution_count": null,
   "id": "seventh-director",
   "metadata": {},
   "outputs": [],
   "source": [
    "targetDf['clText'][:5]"
   ]
  },
  {
   "cell_type": "markdown",
   "id": "beneficial-staff",
   "metadata": {},
   "source": [
    "##### Dict From Id"
   ]
  },
  {
   "cell_type": "code",
   "execution_count": null,
   "id": "pleased-beginning",
   "metadata": {
    "papermill": {
     "duration": 0.128934,
     "end_time": "2021-02-21T10:17:32.869944",
     "exception": false,
     "start_time": "2021-02-21T10:17:32.741010",
     "status": "completed"
    },
    "tags": []
   },
   "outputs": [],
   "source": [
    "dfFromId            = targetDf[['clFrom', 'clFromId']].drop_duplicates().sort_values('clFromId')\n",
    "\n",
    "dictFrom_to_id= dict(dfFromId.values)\n",
    "dictId_to_from      = dict(dfFromId[['clFromId', 'clFrom']].values)"
   ]
  },
  {
   "cell_type": "code",
   "execution_count": null,
   "id": "growing-speaking",
   "metadata": {
    "papermill": {
     "duration": 0.031271,
     "end_time": "2021-02-21T10:17:32.924721",
     "exception": false,
     "start_time": "2021-02-21T10:17:32.893450",
     "status": "completed"
    },
    "tags": []
   },
   "outputs": [],
   "source": [
    "dictId_to_from"
   ]
  },
  {
   "cell_type": "markdown",
   "id": "placed-cedar",
   "metadata": {},
   "source": [
    "#### Test Train Split"
   ]
  },
  {
   "cell_type": "code",
   "execution_count": null,
   "id": "pacific-notebook",
   "metadata": {
    "papermill": {
     "duration": 0.049364,
     "end_time": "2021-02-21T10:17:33.350634",
     "exception": false,
     "start_time": "2021-02-21T10:17:33.301270",
     "status": "completed"
    },
    "tags": []
   },
   "outputs": [],
   "source": [
    "X_train, X_test, y_train, y_test = train_test_split(targetDf['clText'], targetDf['clFrom'], random_state = 42, test_size=0.20)\n",
    "\n",
    "print(\"Train size:\\t\" + str(len(X_train.index)))\n",
    "print(\"Test size:\\t\" + str(len(X_test.index)))"
   ]
  },
  {
   "cell_type": "markdown",
   "id": "perceived-collector",
   "metadata": {},
   "source": [
    "#### CountVectorizer"
   ]
  },
  {
   "cell_type": "code",
   "execution_count": null,
   "id": "confident-furniture",
   "metadata": {},
   "outputs": [],
   "source": [
    "test = CountVectorizer()"
   ]
  },
  {
   "cell_type": "code",
   "execution_count": null,
   "id": "herbal-objective",
   "metadata": {},
   "outputs": [],
   "source": [
    "d1 = test.fit_transform([\"Word1 Word2 Word3 Word4 Word1 Word2 Word1\"])\n",
    "d1.toarray()"
   ]
  },
  {
   "cell_type": "code",
   "execution_count": null,
   "id": "certain-stress",
   "metadata": {},
   "outputs": [],
   "source": [
    "test.get_feature_names()"
   ]
  },
  {
   "cell_type": "code",
   "execution_count": null,
   "id": "intellectual-freight",
   "metadata": {},
   "outputs": [],
   "source": [
    "d2 = test.transform([\"Word1 Wrong Word3 Wrong Word1\"])\n",
    "d2.toarray()"
   ]
  },
  {
   "cell_type": "code",
   "execution_count": null,
   "id": "adaptive-detail",
   "metadata": {},
   "outputs": [],
   "source": [
    "test.get_params()"
   ]
  },
  {
   "cell_type": "markdown",
   "id": "breeding-northwest",
   "metadata": {},
   "source": [
    "#### Tf-idf"
   ]
  },
  {
   "cell_type": "code",
   "execution_count": null,
   "id": "level-proof",
   "metadata": {},
   "outputs": [],
   "source": [
    "test = TfidfTransformer()"
   ]
  },
  {
   "cell_type": "code",
   "execution_count": null,
   "id": "dynamic-pavilion",
   "metadata": {},
   "outputs": [],
   "source": [
    "test.fit_transform(d1).toarray()"
   ]
  },
  {
   "cell_type": "code",
   "execution_count": null,
   "id": "subject-excess",
   "metadata": {},
   "outputs": [],
   "source": [
    "test.transform(d2).toarray()"
   ]
  },
  {
   "cell_type": "markdown",
   "id": "artistic-china",
   "metadata": {},
   "source": [
    "### Tranieren und Evaluieren"
   ]
  },
  {
   "cell_type": "code",
   "execution_count": null,
   "id": "yellow-motivation",
   "metadata": {
    "papermill": {
     "duration": 4.134944,
     "end_time": "2021-02-21T10:17:37.510860",
     "exception": false,
     "start_time": "2021-02-21T10:17:33.375916",
     "status": "completed"
    },
    "tags": []
   },
   "outputs": [],
   "source": [
    "gloStartStopwatch(\"Transform messages\")\n",
    "\n",
    "count_vect          = CountVectorizer()\n",
    "tfidf_transformer   = TfidfTransformer()\n",
    "\n",
    "# Transform and fit train\n",
    "X_train_counts      = count_vect.fit_transform(X_train)\n",
    "X_train_tfidf       = tfidf_transformer.fit_transform(X_train_counts)\n",
    "\n",
    "# Transform test\n",
    "X_test_counts       = count_vect.transform(X_test)\n",
    "X_test_tfidf        = tfidf_transformer.transform(X_test_counts)\n",
    "\n",
    "gloStopStopwatch(\"Transform messages\")"
   ]
  },
  {
   "cell_type": "code",
   "execution_count": null,
   "id": "fourth-preliminary",
   "metadata": {
    "papermill": {
     "duration": 0.035824,
     "end_time": "2021-02-21T10:17:37.574564",
     "exception": false,
     "start_time": "2021-02-21T10:17:37.538740",
     "status": "completed"
    },
    "tags": []
   },
   "outputs": [],
   "source": [
    "def trainAndEvalModel(model, outputFilename):\n",
    "\n",
    "    gloStartStopwatch(\"- Train now model \" + str(model))\n",
    "    model.fit(X_train_tfidf, y_train)\n",
    "    gloStopStopwatch(\"- Train now model \" + str(model))\n",
    "\n",
    "    searchStrings = [\"Folge Attila Hildmann\", \"Liebe Eva\", \"Premium Kanal\"]\n",
    "\n",
    "    for sS in searchStrings:\n",
    "\n",
    "        sS = str(sS)\n",
    "        print()\n",
    "        print(\"Who has written '\" + sS + \"'?\")\n",
    "        t = tfidf_transformer.transform(count_vect.transform([sS]))\n",
    "        r = model.predict(t)\n",
    "        print(str(r))\n",
    "\n",
    "    y_pred_train        = model.predict(X_train_tfidf)\n",
    "    y_pred_test         = model.predict(X_test_tfidf)\n",
    "\n",
    "    print()\n",
    "    print(\"Train Score:\\t\"  + str(accuracy_score(y_true=y_train, y_pred=y_pred_train)))\n",
    "    print(\"Test Score:\\t\"   + str(accuracy_score(y_true=y_test, y_pred=y_pred_test)))\n",
    "\n",
    "    print()\n",
    "    print(\"Confusion Matrix on test:\")   \n",
    "    \n",
    "    \n",
    "    \n",
    "    conf_mat = confusion_matrix(y_true = y_test, y_pred = y_pred_test)\n",
    "    fig, ax  = plt.subplots(figsize=(9,9))\n",
    "\n",
    "    sns.heatmap(conf_mat, annot=True, fmt='d',\n",
    "                xticklabels=dfFromId.clFrom.values, yticklabels=dfFromId.clFrom.values)\n",
    "                \n",
    "    \n",
    "    \n",
    "    plt.ylabel('Actual')\n",
    "    plt.xlabel('Predicted')\n",
    "    \n",
    "    plt.xticks(rotation=45)\n",
    "    plt.yticks(rotation=45)\n",
    "\n",
    "    if(outputFilename != \"\"):\n",
    "        plt.savefig(dir_var_output + outputFilename)\n",
    "\n",
    "    plt.show()"
   ]
  },
  {
   "cell_type": "markdown",
   "id": "junior-residence",
   "metadata": {},
   "source": [
    "#### Evaluation SVC"
   ]
  },
  {
   "cell_type": "code",
   "execution_count": null,
   "id": "brief-compiler",
   "metadata": {
    "papermill": {
     "duration": 2.954488,
     "end_time": "2021-02-21T10:17:40.555086",
     "exception": false,
     "start_time": "2021-02-21T10:17:37.600598",
     "status": "completed"
    },
    "tags": []
   },
   "outputs": [],
   "source": [
    "trainAndEvalModel(LinearSVC(), \"class-linearsvc.svg\")"
   ]
  },
  {
   "cell_type": "markdown",
   "id": "altered-therapy",
   "metadata": {},
   "source": [
    "#### Evaluation Multinomialnb"
   ]
  },
  {
   "cell_type": "code",
   "execution_count": null,
   "id": "moving-onion",
   "metadata": {
    "papermill": {
     "duration": 0.900191,
     "end_time": "2021-02-21T10:17:41.489493",
     "exception": false,
     "start_time": "2021-02-21T10:17:40.589302",
     "status": "completed"
    },
    "tags": []
   },
   "outputs": [],
   "source": [
    "trainAndEvalModel(MultinomialNB(), \"class-multinomialnb.svg\")"
   ]
  },
  {
   "cell_type": "markdown",
   "id": "offshore-festival",
   "metadata": {},
   "source": [
    "#### Evaluation LogisticRegression"
   ]
  },
  {
   "cell_type": "code",
   "execution_count": null,
   "id": "virtual-christmas",
   "metadata": {
    "papermill": {
     "duration": 11.798661,
     "end_time": "2021-02-21T10:17:53.329583",
     "exception": false,
     "start_time": "2021-02-21T10:17:41.530922",
     "status": "completed"
    },
    "tags": []
   },
   "outputs": [],
   "source": [
    "trainAndEvalModel(LogisticRegression(), \"class-logisticregression.svg\")"
   ]
  },
  {
   "cell_type": "markdown",
   "id": "alpine-design",
   "metadata": {},
   "source": [
    "#### Evaluation MLPClassifier"
   ]
  },
  {
   "cell_type": "code",
   "execution_count": null,
   "id": "institutional-phase",
   "metadata": {
    "papermill": {
     "duration": 52723.191629,
     "end_time": "2021-02-22T00:56:36.572164",
     "exception": false,
     "start_time": "2021-02-21T10:17:53.380535",
     "status": "completed"
    },
    "tags": []
   },
   "outputs": [],
   "source": [
    "trainAndEvalModel(MLPClassifier(), \"class-mlp.svg\")"
   ]
  },
  {
   "cell_type": "markdown",
   "id": "informational-interstate",
   "metadata": {},
   "source": [
    "#### Evaluation DecisionTreeClassifier"
   ]
  },
  {
   "cell_type": "code",
   "execution_count": null,
   "id": "suburban-allergy",
   "metadata": {
    "papermill": {
     "duration": 103.791273,
     "end_time": "2021-02-22T00:58:20.419836",
     "exception": false,
     "start_time": "2021-02-22T00:56:36.628563",
     "status": "completed"
    },
    "tags": []
   },
   "outputs": [],
   "source": [
    "trainAndEvalModel(DecisionTreeClassifier(), \"class-decisiontree.svg\")"
   ]
  },
  {
   "cell_type": "markdown",
   "id": "virgin-india",
   "metadata": {},
   "source": [
    "#### Evaluation RandomForestClassifier"
   ]
  },
  {
   "cell_type": "code",
   "execution_count": null,
   "id": "dependent-profession",
   "metadata": {
    "papermill": {
     "duration": 1684.996386,
     "end_time": "2021-02-22T01:26:25.480457",
     "exception": false,
     "start_time": "2021-02-22T00:58:20.484071",
     "status": "completed"
    },
    "tags": []
   },
   "outputs": [],
   "source": [
    "trainAndEvalModel(RandomForestClassifier(), \"class-randomforest.svg\")"
   ]
  },
  {
   "cell_type": "markdown",
   "id": "frank-burton",
   "metadata": {},
   "source": [
    "#### Evaluation DummyClassifier"
   ]
  },
  {
   "cell_type": "code",
   "execution_count": null,
   "id": "proud-being",
   "metadata": {
    "papermill": {
     "duration": 0.662286,
     "end_time": "2021-02-22T01:26:26.214113",
     "exception": false,
     "start_time": "2021-02-22T01:26:25.551827",
     "status": "completed"
    },
    "tags": []
   },
   "outputs": [],
   "source": [
    "trainAndEvalModel(DummyClassifier(), \"class-dummy.svg\")"
   ]
  },
  {
   "cell_type": "markdown",
   "id": "senior-colombia",
   "metadata": {
    "papermill": {
     "duration": 0.079273,
     "end_time": "2021-02-22T01:26:26.373392",
     "exception": false,
     "start_time": "2021-02-22T01:26:26.294119",
     "status": "completed"
    },
    "tags": []
   },
   "source": [
    "### Ausblick..."
   ]
  },
  {
   "cell_type": "markdown",
   "id": "inclusive-journalist",
   "metadata": {},
   "source": [
    "- Thank you https://towardsdatascience.com/multi-class-text-classification-with-scikit-learn-12f1e60e0a9f"
   ]
  }
 ],
 "metadata": {
  "kernelspec": {
   "display_name": "Python 3",
   "language": "python",
   "name": "python3"
  },
  "language_info": {
   "codemirror_mode": {
    "name": "ipython",
    "version": 3
   },
   "file_extension": ".py",
   "mimetype": "text/x-python",
   "name": "python",
   "nbconvert_exporter": "python",
   "pygments_lexer": "ipython3",
   "version": "3.8.8"
  },
  "papermill": {
   "default_parameters": {},
   "duration": 54578.915615,
   "end_time": "2021-02-22T01:26:27.561517",
   "environment_variables": {},
   "exception": null,
   "input_path": "work/notebooks/Classifier.ipynb",
   "output_path": "work/notebooks/Classifier-out.ipynb",
   "parameters": {},
   "start_time": "2021-02-21T10:16:48.645902",
   "version": "2.3.2"
  }
 },
 "nbformat": 4,
 "nbformat_minor": 5
}
