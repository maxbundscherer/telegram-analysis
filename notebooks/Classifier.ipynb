{
 "cells": [
  {
   "cell_type": "markdown",
   "id": "unlike-porcelain",
   "metadata": {
    "papermill": {
     "duration": 0.030789,
     "end_time": "2021-03-27T09:34:27.782591",
     "exception": false,
     "start_time": "2021-03-27T09:34:27.751802",
     "status": "completed"
    },
    "tags": []
   },
   "source": [
    "# Telegram Mining (Notebook Identifizierung von Autoren)\n",
    "\n",
    "**Master-Thesis: Social Media & Text Mining am Beispiel von Telegram**\n",
    "\n",
    "Informatik Master\n",
    "\n",
    "Maximilian Bundscherer\n",
    "\n",
    "**Hinweis**: Die Abschnitte ``Arbeitungsumgebung initalisieren`` und ``Chats laden und aufbereiten`` werden im Notebook ``Telegram.iypnb`` bereits ausführlich beschrieben und werden daher hier übersprungen. "
   ]
  },
  {
   "cell_type": "markdown",
   "id": "wicked-citizenship",
   "metadata": {
    "papermill": {
     "duration": 0.028517,
     "end_time": "2021-03-27T09:34:27.840071",
     "exception": false,
     "start_time": "2021-03-27T09:34:27.811554",
     "status": "completed"
    },
    "tags": []
   },
   "source": [
    "## Arbeitsumgebung initalisieren\n",
    "\n",
    "Siehe Beschreibung im Notebook ``Telegram.ipynb``"
   ]
  },
  {
   "cell_type": "code",
   "execution_count": null,
   "id": "executive-times",
   "metadata": {
    "papermill": {
     "duration": 2.467346,
     "end_time": "2021-03-27T09:34:30.337664",
     "exception": false,
     "start_time": "2021-03-27T09:34:27.870318",
     "status": "completed"
    },
    "tags": []
   },
   "outputs": [],
   "source": [
    "# Import default libs\n",
    "import pandas as pd\n",
    "import numpy as np\n",
    "import seaborn as sns\n",
    "import matplotlib.pyplot as plt\n",
    "import time\n",
    "import re\n",
    "import os\n",
    "import sys\n",
    "import demjson\n",
    "import requests\n",
    "import networkx as nx\n",
    "import warnings\n",
    "from pprint import pprint\n",
    "from urllib.parse import urlparse\n",
    "from collections import Counter\n",
    "from pathlib import Path\n",
    "from lxml.html import fromstring"
   ]
  },
  {
   "cell_type": "code",
   "execution_count": null,
   "id": "finished-performance",
   "metadata": {
    "papermill": {
     "duration": 0.033753,
     "end_time": "2021-03-27T09:34:30.400524",
     "exception": false,
     "start_time": "2021-03-27T09:34:30.366771",
     "status": "completed"
    },
    "tags": []
   },
   "outputs": [],
   "source": [
    "# Hide DeprecationWarning\n",
    "warnings.filterwarnings(\"ignore\", category=DeprecationWarning)"
   ]
  },
  {
   "cell_type": "code",
   "execution_count": null,
   "id": "looking-mumbai",
   "metadata": {
    "papermill": {
     "duration": 2.774185,
     "end_time": "2021-03-27T09:34:33.202934",
     "exception": false,
     "start_time": "2021-03-27T09:34:30.428749",
     "status": "completed"
    },
    "tags": []
   },
   "outputs": [],
   "source": [
    "!{sys.executable} -m pip install demoji"
   ]
  },
  {
   "cell_type": "code",
   "execution_count": null,
   "id": "mechanical-breeding",
   "metadata": {
    "papermill": {
     "duration": 0.973502,
     "end_time": "2021-03-27T09:34:34.206385",
     "exception": false,
     "start_time": "2021-03-27T09:34:33.232883",
     "status": "completed"
    },
    "tags": []
   },
   "outputs": [],
   "source": [
    "import nltk\n",
    "import demoji\n",
    "\n",
    "# Sklearn\n",
    "from sklearn.model_selection import train_test_split\n",
    "from sklearn.feature_extraction.text import CountVectorizer\n",
    "from sklearn.feature_extraction.text import TfidfTransformer\n",
    "\n",
    "from sklearn.naive_bayes import MultinomialNB\n",
    "from sklearn.linear_model import LogisticRegression\n",
    "from sklearn.ensemble import RandomForestClassifier\n",
    "from sklearn.svm import LinearSVC\n",
    "from sklearn.tree import DecisionTreeClassifier\n",
    "from sklearn.neural_network import MLPClassifier\n",
    "from sklearn.dummy import DummyClassifier\n",
    "\n",
    "from sklearn.metrics import accuracy_score\n",
    "from sklearn.metrics import confusion_matrix"
   ]
  },
  {
   "cell_type": "code",
   "execution_count": null,
   "id": "pleasant-gabriel",
   "metadata": {
    "papermill": {
     "duration": 0.035331,
     "end_time": "2021-03-27T09:34:34.270696",
     "exception": false,
     "start_time": "2021-03-27T09:34:34.235365",
     "status": "completed"
    },
    "tags": []
   },
   "outputs": [],
   "source": [
    "dictGloStopwatches = dict()\n",
    "\n",
    "# Start timer (for reporting)\n",
    "def gloStartStopwatch(key):\n",
    "    print(\"[Stopwatch started >>\" + str(key) + \"<<]\")\n",
    "    dictGloStopwatches[key] = time.time()\n",
    "\n",
    "# Stop timer (for reporting)\n",
    "def gloStopStopwatch(key):\n",
    "    endTime     = time.time()\n",
    "    startTime   = dictGloStopwatches[key]\n",
    "    print(\"[Stopwatch stopped >>\" + str(key) + \"<< (\" + '{:5.3f}s'.format(endTime-startTime) + \")]\")"
   ]
  },
  {
   "cell_type": "code",
   "execution_count": null,
   "id": "random-fundamentals",
   "metadata": {
    "papermill": {
     "duration": 0.071419,
     "end_time": "2021-03-27T09:34:34.370247",
     "exception": false,
     "start_time": "2021-03-27T09:34:34.298828",
     "status": "completed"
    },
    "tags": []
   },
   "outputs": [],
   "source": [
    "nltk.download(\"stopwords\")"
   ]
  },
  {
   "cell_type": "code",
   "execution_count": null,
   "id": "typical-contrary",
   "metadata": {
    "papermill": {
     "duration": 1.728426,
     "end_time": "2021-03-27T09:34:36.128063",
     "exception": false,
     "start_time": "2021-03-27T09:34:34.399637",
     "status": "completed"
    },
    "tags": []
   },
   "outputs": [],
   "source": [
    "demoji.download_codes()"
   ]
  },
  {
   "cell_type": "code",
   "execution_count": null,
   "id": "adopted-familiar",
   "metadata": {
    "papermill": {
     "duration": 0.03778,
     "end_time": "2021-03-27T09:34:36.197898",
     "exception": false,
     "start_time": "2021-03-27T09:34:36.160118",
     "status": "completed"
    },
    "tags": []
   },
   "outputs": [],
   "source": [
    "# Show all columns (pandas hides columns by default)\n",
    "pd.set_option('display.max_columns', None)\n",
    "\n",
    "# Set plot style\n",
    "plt.style.use('ggplot')\n",
    "\n",
    "font = {'size'   : 13}\n",
    "\n",
    "plt.rc('font', **font)"
   ]
  },
  {
   "cell_type": "code",
   "execution_count": null,
   "id": "textile-customs",
   "metadata": {
    "papermill": {
     "duration": 0.036731,
     "end_time": "2021-03-27T09:34:36.266041",
     "exception": false,
     "start_time": "2021-03-27T09:34:36.229310",
     "status": "completed"
    },
    "tags": []
   },
   "outputs": [],
   "source": [
    "dir_var                 = \"./work/notebooks/\"\n",
    "dir_var_output          = dir_var + \"output/\"\n",
    "dir_var_pandas_cache    = dir_var + \"cache/pandas/\""
   ]
  },
  {
   "cell_type": "code",
   "execution_count": null,
   "id": "private-harvest",
   "metadata": {
    "papermill": {
     "duration": 0.03778,
     "end_time": "2021-03-27T09:34:36.335476",
     "exception": false,
     "start_time": "2021-03-27T09:34:36.297696",
     "status": "completed"
    },
    "tags": []
   },
   "outputs": [],
   "source": [
    "def gloReplaceGermanChars(inputText):\n",
    "\n",
    "    inputText = inputText.replace(\"ö\", \"oe\")\n",
    "    inputText = inputText.replace(\"ü\", \"ue\")\n",
    "    inputText = inputText.replace(\"ä\", \"ae\")\n",
    "\n",
    "    inputText = inputText.replace(\"Ö\", \"Oe\")\n",
    "    inputText = inputText.replace(\"Ü\", \"Ue\")\n",
    "    inputText = inputText.replace(\"Ä\", \"Ae\")\n",
    "\n",
    "    inputText = inputText.replace(\"ß\", \"ss\")\n",
    "    \n",
    "    return inputText"
   ]
  },
  {
   "cell_type": "code",
   "execution_count": null,
   "id": "capable-summer",
   "metadata": {
    "papermill": {
     "duration": 0.037721,
     "end_time": "2021-03-27T09:34:36.404472",
     "exception": false,
     "start_time": "2021-03-27T09:34:36.366751",
     "status": "completed"
    },
    "tags": []
   },
   "outputs": [],
   "source": [
    "# Rm unsafe chars\n",
    "def gloConvertToSafeString(text):\n",
    "    text = demoji.replace(text, \"\")\n",
    "    text = gloReplaceGermanChars(text)\n",
    "    text = re.sub(r'[^a-zA-Z0-9\\s]', '', text)\n",
    "    return text\n",
    "\n",
    "# Generate unique chat name\n",
    "def gloConvertToSafeChatName(chatName):\n",
    "    chatName = gloConvertToSafeString(chatName)\n",
    "    return chatName[:30]"
   ]
  },
  {
   "cell_type": "code",
   "execution_count": null,
   "id": "protected-reverse",
   "metadata": {
    "papermill": {
     "duration": 0.038848,
     "end_time": "2021-03-27T09:34:36.474738",
     "exception": false,
     "start_time": "2021-03-27T09:34:36.435890",
     "status": "completed"
    },
    "tags": []
   },
   "outputs": [],
   "source": [
    "def gloGetStopWordsList(filterList):\n",
    "\n",
    "    stopwWorldsList = []\n",
    "\n",
    "    deWordsList = nltk.corpus.stopwords.words('german')\n",
    "\n",
    "    enWordsList = nltk.corpus.stopwords.words('english')\n",
    "\n",
    "    aStopwords = []\n",
    "    with open(dir_var + \"additionalStopwords.txt\") as file:\n",
    "        for line in file: \n",
    "            line = line.strip()\n",
    "            if(line != \"\"):\n",
    "                aStopwords.append(line)\n",
    "\n",
    "    for s in filterList:\n",
    "        s = gloReplaceGermanChars(s)\n",
    "        stopwWorldsList.append(s)\n",
    "\n",
    "    for s in deWordsList:\n",
    "        s = gloReplaceGermanChars(s)\n",
    "        stopwWorldsList.append(s)\n",
    "\n",
    "    for s in enWordsList:\n",
    "        stopwWorldsList.append(s)\n",
    "\n",
    "    for s in aStopwords:\n",
    "        s = gloReplaceGermanChars(s)\n",
    "        stopwWorldsList.append(s)\n",
    "\n",
    "    return stopwWorldsList"
   ]
  },
  {
   "cell_type": "markdown",
   "id": "civilian-script",
   "metadata": {
    "papermill": {
     "duration": 0.031389,
     "end_time": "2021-03-27T09:34:36.537665",
     "exception": false,
     "start_time": "2021-03-27T09:34:36.506276",
     "status": "completed"
    },
    "tags": []
   },
   "source": [
    "## Chats laden und aufbereiten\n",
    "\n",
    "Siehe Beschreibung im Notebook ``Telegram.ipynb``"
   ]
  },
  {
   "cell_type": "markdown",
   "id": "impressed-shuttle",
   "metadata": {
    "papermill": {
     "duration": 0.03112,
     "end_time": "2021-03-27T09:34:36.600492",
     "exception": false,
     "start_time": "2021-03-27T09:34:36.569372",
     "status": "completed"
    },
    "tags": []
   },
   "source": [
    "## Identifizierung von Autoren\n",
    "\n",
    "Siehe Beschreibung in ``Thesis.pdf``"
   ]
  },
  {
   "cell_type": "markdown",
   "id": "geographic-devon",
   "metadata": {
    "papermill": {
     "duration": 0.031905,
     "end_time": "2021-03-27T09:34:36.663854",
     "exception": false,
     "start_time": "2021-03-27T09:34:36.631949",
     "status": "completed"
    },
    "tags": []
   },
   "source": [
    "### Chats laden"
   ]
  },
  {
   "cell_type": "code",
   "execution_count": null,
   "id": "synthetic-locking",
   "metadata": {
    "papermill": {
     "duration": 0.037661,
     "end_time": "2021-03-27T09:34:36.733082",
     "exception": false,
     "start_time": "2021-03-27T09:34:36.695421",
     "status": "completed"
    },
    "tags": []
   },
   "outputs": [],
   "source": [
    "C_USE_CACHE_FILE = \"final-run-24-03.pkl\""
   ]
  },
  {
   "cell_type": "markdown",
   "id": "compound-hollow",
   "metadata": {
    "papermill": {
     "duration": 0.031751,
     "end_time": "2021-03-27T09:34:36.796520",
     "exception": false,
     "start_time": "2021-03-27T09:34:36.764769",
     "status": "completed"
    },
    "tags": []
   },
   "source": [
    "#### Von Cache Laden"
   ]
  },
  {
   "cell_type": "code",
   "execution_count": null,
   "id": "induced-marker",
   "metadata": {
    "papermill": {
     "duration": 36.67098,
     "end_time": "2021-03-27T09:35:13.499292",
     "exception": false,
     "start_time": "2021-03-27T09:34:36.828312",
     "status": "completed"
    },
    "tags": []
   },
   "outputs": [],
   "source": [
    "gloStartStopwatch(\"Cache einlesen\")\n",
    "dfAllDataMessages = pd.read_pickle(dir_var_pandas_cache + C_USE_CACHE_FILE)\n",
    "gloStopStopwatch(\"Cache einlesen\")"
   ]
  },
  {
   "cell_type": "markdown",
   "id": "enormous-section",
   "metadata": {
    "papermill": {
     "duration": 0.034263,
     "end_time": "2021-03-27T09:35:13.567577",
     "exception": false,
     "start_time": "2021-03-27T09:35:13.533314",
     "status": "completed"
    },
    "tags": []
   },
   "source": [
    "#### Filtern und anzeigen"
   ]
  },
  {
   "cell_type": "code",
   "execution_count": null,
   "id": "satisfied-monroe",
   "metadata": {
    "papermill": {
     "duration": 16.293941,
     "end_time": "2021-03-27T09:35:29.895741",
     "exception": false,
     "start_time": "2021-03-27T09:35:13.601800",
     "status": "completed"
    },
    "tags": []
   },
   "outputs": [],
   "source": [
    "dfAllDataMessages= dfAllDataMessages[dfAllDataMessages['ftFilePath'].isin(\n",
    "    [\n",
    "        \"DS-05-01-2021/ChatExport_2021-01-05-hildmann\",\n",
    "        \"DS-05-01-2021/ChatExport_2021-01-05-janich\",\n",
    "        \"DS-05-01-2021/ChatExport_2021-01-05-xavier\",\n",
    "        \"DS-05-01-2021/ChatExport_2021-01-05-evaherman\"\n",
    "    ]\n",
    ")]\n",
    "\n",
    "dfAllDataMessages = dfAllDataMessages[dfAllDataMessages.ftQrIsValidText == True]\n",
    "dfAllDataMessages = dfAllDataMessages[dfAllDataMessages.ftTdCleanText != \"\"]\n",
    "dfAllDataMessages = dfAllDataMessages[dfAllDataMessages.ftTdTextLength > 5]\n",
    "\n",
    "dfAllDataMessages[\"from\"] = dfAllDataMessages[\"from\"].apply(gloConvertToSafeChatName)"
   ]
  },
  {
   "cell_type": "code",
   "execution_count": null,
   "id": "convertible-appointment",
   "metadata": {
    "papermill": {
     "duration": 0.117619,
     "end_time": "2021-03-27T09:35:30.047287",
     "exception": false,
     "start_time": "2021-03-27T09:35:29.929668",
     "status": "completed"
    },
    "tags": []
   },
   "outputs": [],
   "source": [
    "dfAllDataMessages.head(3)"
   ]
  },
  {
   "cell_type": "markdown",
   "id": "departmental-democracy",
   "metadata": {
    "papermill": {
     "duration": 0.033997,
     "end_time": "2021-03-27T09:35:30.115990",
     "exception": false,
     "start_time": "2021-03-27T09:35:30.081993",
     "status": "completed"
    },
    "tags": []
   },
   "source": [
    "### Chats aufbereiten"
   ]
  },
  {
   "cell_type": "markdown",
   "id": "developed-overview",
   "metadata": {},
   "source": [
    "#### Test CountVectorizer"
   ]
  },
  {
   "cell_type": "code",
   "execution_count": null,
   "id": "external-exclusive",
   "metadata": {
    "papermill": {
     "duration": 0.046415,
     "end_time": "2021-03-27T09:35:33.127369",
     "exception": false,
     "start_time": "2021-03-27T09:35:33.080954",
     "status": "completed"
    },
    "tags": []
   },
   "outputs": [],
   "source": [
    "test = CountVectorizer(ngram_range=(1, 3))"
   ]
  },
  {
   "cell_type": "code",
   "execution_count": null,
   "id": "continuous-starter",
   "metadata": {
    "papermill": {
     "duration": 0.048476,
     "end_time": "2021-03-27T09:35:33.216052",
     "exception": false,
     "start_time": "2021-03-27T09:35:33.167576",
     "status": "completed"
    },
    "tags": []
   },
   "outputs": [],
   "source": [
    "d1 = test.fit_transform([\"wordA wordB wordC wordA wordB wordC\"])\n",
    "d1.toarray()"
   ]
  },
  {
   "cell_type": "code",
   "execution_count": null,
   "id": "applicable-optimum",
   "metadata": {
    "papermill": {
     "duration": 0.047295,
     "end_time": "2021-03-27T09:35:33.304477",
     "exception": false,
     "start_time": "2021-03-27T09:35:33.257182",
     "status": "completed"
    },
    "tags": []
   },
   "outputs": [],
   "source": [
    "test.get_feature_names()"
   ]
  },
  {
   "cell_type": "code",
   "execution_count": null,
   "id": "suitable-ceramic",
   "metadata": {
    "papermill": {
     "duration": 0.04844,
     "end_time": "2021-03-27T09:35:33.393977",
     "exception": false,
     "start_time": "2021-03-27T09:35:33.345537",
     "status": "completed"
    },
    "tags": []
   },
   "outputs": [],
   "source": [
    "d2 = test.transform([\"wordA wordB\"])\n",
    "d2.toarray()"
   ]
  },
  {
   "cell_type": "code",
   "execution_count": null,
   "id": "illegal-cooper",
   "metadata": {
    "papermill": {
     "duration": 0.04972,
     "end_time": "2021-03-27T09:35:33.484769",
     "exception": false,
     "start_time": "2021-03-27T09:35:33.435049",
     "status": "completed"
    },
    "tags": []
   },
   "outputs": [],
   "source": [
    "test.get_params()"
   ]
  },
  {
   "cell_type": "markdown",
   "id": "clinical-difference",
   "metadata": {
    "papermill": {
     "duration": 0.041448,
     "end_time": "2021-03-27T09:35:33.568235",
     "exception": false,
     "start_time": "2021-03-27T09:35:33.526787",
     "status": "completed"
    },
    "tags": []
   },
   "source": [
    "#### Test TfidfTransformer"
   ]
  },
  {
   "cell_type": "code",
   "execution_count": null,
   "id": "female-chess",
   "metadata": {
    "papermill": {
     "duration": 0.047796,
     "end_time": "2021-03-27T09:35:33.657835",
     "exception": false,
     "start_time": "2021-03-27T09:35:33.610039",
     "status": "completed"
    },
    "tags": []
   },
   "outputs": [],
   "source": [
    "test = TfidfTransformer()"
   ]
  },
  {
   "cell_type": "code",
   "execution_count": null,
   "id": "romance-festival",
   "metadata": {
    "papermill": {
     "duration": 0.055852,
     "end_time": "2021-03-27T09:35:33.756805",
     "exception": false,
     "start_time": "2021-03-27T09:35:33.700953",
     "status": "completed"
    },
    "tags": []
   },
   "outputs": [],
   "source": [
    "test.fit_transform(d1).toarray()"
   ]
  },
  {
   "cell_type": "code",
   "execution_count": null,
   "id": "recreational-stone",
   "metadata": {
    "papermill": {
     "duration": 0.050337,
     "end_time": "2021-03-27T09:35:33.850327",
     "exception": false,
     "start_time": "2021-03-27T09:35:33.799990",
     "status": "completed"
    },
    "tags": []
   },
   "outputs": [],
   "source": [
    "test.transform(d2).toarray()"
   ]
  },
  {
   "cell_type": "markdown",
   "id": "spread-influence",
   "metadata": {
    "papermill": {
     "duration": 0.033921,
     "end_time": "2021-03-27T09:35:30.183807",
     "exception": false,
     "start_time": "2021-03-27T09:35:30.149886",
     "status": "completed"
    },
    "tags": []
   },
   "source": [
    "#### Features und Balancieren von Autoren"
   ]
  },
  {
   "cell_type": "code",
   "execution_count": null,
   "id": "preliminary-palace",
   "metadata": {
    "papermill": {
     "duration": 0.055414,
     "end_time": "2021-03-27T09:35:30.273368",
     "exception": false,
     "start_time": "2021-03-27T09:35:30.217954",
     "status": "completed"
    },
    "tags": []
   },
   "outputs": [],
   "source": [
    "targetDf = dfAllDataMessages\n",
    "\n",
    "targetDf['clText']    = targetDf['ftTdCleanText']\n",
    "targetDf['clFrom']    = targetDf['from']\n",
    "targetDf['clFromId']  = targetDf['from'].factorize()[0]"
   ]
  },
  {
   "cell_type": "code",
   "execution_count": null,
   "id": "cutting-eight",
   "metadata": {
    "papermill": {
     "duration": 0.249175,
     "end_time": "2021-03-27T09:35:30.557128",
     "exception": false,
     "start_time": "2021-03-27T09:35:30.307953",
     "status": "completed"
    },
    "tags": []
   },
   "outputs": [],
   "source": [
    "_ = targetDf['clFrom'].value_counts().plot.bar()"
   ]
  },
  {
   "cell_type": "code",
   "execution_count": null,
   "id": "ongoing-blade",
   "metadata": {
    "papermill": {
     "duration": 0.04463,
     "end_time": "2021-03-27T09:35:30.638770",
     "exception": false,
     "start_time": "2021-03-27T09:35:30.594140",
     "status": "completed"
    },
    "tags": []
   },
   "outputs": [],
   "source": [
    "targetDf['clText'][:5]"
   ]
  },
  {
   "cell_type": "code",
   "execution_count": null,
   "id": "monthly-diana",
   "metadata": {
    "papermill": {
     "duration": 0.046592,
     "end_time": "2021-03-27T09:35:30.749537",
     "exception": false,
     "start_time": "2021-03-27T09:35:30.702945",
     "status": "completed"
    },
    "tags": []
   },
   "outputs": [],
   "source": [
    "targetDf['clFromId'].value_counts()"
   ]
  },
  {
   "cell_type": "code",
   "execution_count": null,
   "id": "living-judge",
   "metadata": {
    "papermill": {
     "duration": 0.858146,
     "end_time": "2021-03-27T09:35:31.644420",
     "exception": false,
     "start_time": "2021-03-27T09:35:30.786274",
     "status": "completed"
    },
    "tags": []
   },
   "outputs": [],
   "source": [
    "def getSamples(df, k=9103):\n",
    "    if len(df) < k:\n",
    "        return df\n",
    "    return df.sample(k)\n",
    "\n",
    "targetDf = targetDf.groupby('clFromId').apply(getSamples).reset_index(drop=True)"
   ]
  },
  {
   "cell_type": "code",
   "execution_count": null,
   "id": "exempt-flower",
   "metadata": {
    "papermill": {
     "duration": 0.175682,
     "end_time": "2021-03-27T09:35:31.857054",
     "exception": false,
     "start_time": "2021-03-27T09:35:31.681372",
     "status": "completed"
    },
    "tags": []
   },
   "outputs": [],
   "source": [
    "_ = targetDf['clFrom'].value_counts().plot.bar()"
   ]
  },
  {
   "cell_type": "markdown",
   "id": "behavioral-struggle",
   "metadata": {
    "papermill": {
     "duration": 0.037021,
     "end_time": "2021-03-27T09:35:31.931946",
     "exception": false,
     "start_time": "2021-03-27T09:35:31.894925",
     "status": "completed"
    },
    "tags": []
   },
   "source": [
    "#### Autor Dictionary"
   ]
  },
  {
   "cell_type": "code",
   "execution_count": null,
   "id": "intense-genealogy",
   "metadata": {
    "papermill": {
     "duration": 0.235041,
     "end_time": "2021-03-27T09:35:32.204565",
     "exception": false,
     "start_time": "2021-03-27T09:35:31.969524",
     "status": "completed"
    },
    "tags": []
   },
   "outputs": [],
   "source": [
    "dfFromId            = targetDf[['clFrom', 'clFromId']].drop_duplicates().sort_values('clFromId')\n",
    "\n",
    "dictFrom_to_id      = dict(dfFromId.values)\n",
    "dictId_to_from      = dict(dfFromId[['clFromId', 'clFrom']].values)"
   ]
  },
  {
   "cell_type": "code",
   "execution_count": null,
   "id": "relevant-applicant",
   "metadata": {
    "papermill": {
     "duration": 0.045381,
     "end_time": "2021-03-27T09:35:32.288148",
     "exception": false,
     "start_time": "2021-03-27T09:35:32.242767",
     "status": "completed"
    },
    "tags": []
   },
   "outputs": [],
   "source": [
    "dictId_to_from"
   ]
  },
  {
   "cell_type": "markdown",
   "id": "polar-pavilion",
   "metadata": {
    "papermill": {
     "duration": 0.043711,
     "end_time": "2021-03-27T09:35:33.938146",
     "exception": false,
     "start_time": "2021-03-27T09:35:33.894435",
     "status": "completed"
    },
    "tags": []
   },
   "source": [
    "### Tranieren und Evaluieren"
   ]
  },
  {
   "cell_type": "code",
   "execution_count": null,
   "id": "fatal-fishing",
   "metadata": {
    "papermill": {
     "duration": 0.096569,
     "end_time": "2021-03-27T09:35:32.496732",
     "exception": false,
     "start_time": "2021-03-27T09:35:32.400163",
     "status": "completed"
    },
    "tags": []
   },
   "outputs": [],
   "source": [
    "X_train, X_test, y_train, y_test = train_test_split(targetDf['clText'], targetDf['clFrom'], random_state = 42, test_size=0.20, stratify=targetDf['clFrom'])\n",
    "\n",
    "print(\"Train size:\\t\" + str(len(X_train.index)))\n",
    "print(\"Test size:\\t\" + str(len(X_test.index)))"
   ]
  },
  {
   "cell_type": "code",
   "execution_count": null,
   "id": "developmental-bobby",
   "metadata": {
    "papermill": {
     "duration": 0.194469,
     "end_time": "2021-03-27T09:35:32.730171",
     "exception": false,
     "start_time": "2021-03-27T09:35:32.535702",
     "status": "completed"
    },
    "tags": []
   },
   "outputs": [],
   "source": [
    "_ = y_train.value_counts().plot.bar()"
   ]
  },
  {
   "cell_type": "code",
   "execution_count": null,
   "id": "velvet-university",
   "metadata": {
    "papermill": {
     "duration": 0.188876,
     "end_time": "2021-03-27T09:35:32.958956",
     "exception": false,
     "start_time": "2021-03-27T09:35:32.770080",
     "status": "completed"
    },
    "tags": []
   },
   "outputs": [],
   "source": [
    "_ = y_test.value_counts().plot.bar()"
   ]
  },
  {
   "cell_type": "code",
   "execution_count": null,
   "id": "consecutive-tooth",
   "metadata": {
    "papermill": {
     "duration": 2.090333,
     "end_time": "2021-03-27T09:35:36.072265",
     "exception": false,
     "start_time": "2021-03-27T09:35:33.981932",
     "status": "completed"
    },
    "tags": []
   },
   "outputs": [],
   "source": [
    "gloStartStopwatch(\"Transform messages\")\n",
    "\n",
    "count_vect          = CountVectorizer(ngram_range=(1, 3))\n",
    "tfidf_transformer   = TfidfTransformer()\n",
    "\n",
    "# Transform and fit train\n",
    "X_train_counts      = count_vect.fit_transform(X_train)\n",
    "X_train_tfidf       = tfidf_transformer.fit_transform(X_train_counts)\n",
    "\n",
    "# Transform test\n",
    "X_test_counts       = count_vect.transform(X_test)\n",
    "X_test_tfidf        = tfidf_transformer.transform(X_test_counts)\n",
    "\n",
    "gloStopStopwatch(\"Transform messages\")"
   ]
  },
  {
   "cell_type": "code",
   "execution_count": null,
   "id": "administrative-context",
   "metadata": {
    "papermill": {
     "duration": 0.053973,
     "end_time": "2021-03-27T09:35:36.170996",
     "exception": false,
     "start_time": "2021-03-27T09:35:36.117023",
     "status": "completed"
    },
    "tags": []
   },
   "outputs": [],
   "source": [
    "def trainAndEvalModel(model, outputFilename):\n",
    "   \n",
    "    gloStartStopwatch(\"Train now model \" + str(model))\n",
    "    model.fit(X_train_tfidf, y_train)\n",
    "    gloStopStopwatch(\"Train now model \" + str(model))\n",
    "\n",
    "    searchStrings = [\"Folge Attila Hildmann\", \"Liebe Eva\", \"Premium Kanal\", \"OneLove\"]\n",
    "\n",
    "    for sS in searchStrings:\n",
    "\n",
    "        sS = str(sS)\n",
    "        print()\n",
    "        print(\"Who has written '\" + sS + \"'?\")\n",
    "        t = tfidf_transformer.transform(count_vect.transform([sS]))\n",
    "        r = model.predict(t)\n",
    "        print(str(r))\n",
    "\n",
    "    y_pred_train        = model.predict(X_train_tfidf)\n",
    "    y_pred_test         = model.predict(X_test_tfidf)\n",
    "\n",
    "    print()\n",
    "    print(\"Train Score:\\t\"  + str(accuracy_score(y_true=y_train, y_pred=y_pred_train)))\n",
    "    print(\"Test Score:\\t\"   + str(accuracy_score(y_true=y_test, y_pred=y_pred_test)))\n",
    "\n",
    "    print()\n",
    "    print(\"Confusion Matrix on test:\")   \n",
    "    conf_mat = confusion_matrix(y_true = y_test, y_pred = y_pred_test)\n",
    "    \n",
    "    fig, ax  = plt.subplots(figsize=(9,9))\n",
    "\n",
    "    plt.title(str(model).replace(\"()\", \"\"))\n",
    "    \n",
    "    sns.heatmap(conf_mat, annot=True, fmt='d',\n",
    "                xticklabels=dfFromId.clFrom.values, yticklabels=dfFromId.clFrom.values)\n",
    "                \n",
    "    plt.ylabel('Actual')\n",
    "    plt.xlabel('Predicted')\n",
    "    \n",
    "    plt.xticks(rotation=45)\n",
    "    plt.yticks(rotation=45)\n",
    "\n",
    "    if(outputFilename != \"\"):\n",
    "        plt.savefig(dir_var_output + outputFilename)\n",
    "\n",
    "    plt.show()"
   ]
  },
  {
   "cell_type": "markdown",
   "id": "ranking-dress",
   "metadata": {
    "papermill": {
     "duration": 0.043358,
     "end_time": "2021-03-27T09:35:36.257638",
     "exception": false,
     "start_time": "2021-03-27T09:35:36.214280",
     "status": "completed"
    },
    "tags": []
   },
   "source": [
    "#### LinearSVC"
   ]
  },
  {
   "cell_type": "code",
   "execution_count": null,
   "id": "unnecessary-representation",
   "metadata": {
    "papermill": {
     "duration": 1.578256,
     "end_time": "2021-03-27T09:35:37.879499",
     "exception": false,
     "start_time": "2021-03-27T09:35:36.301243",
     "status": "completed"
    },
    "tags": []
   },
   "outputs": [],
   "source": [
    "trainAndEvalModel(LinearSVC(), \"class-linearsvc.svg\")"
   ]
  },
  {
   "cell_type": "markdown",
   "id": "defined-receiver",
   "metadata": {
    "papermill": {
     "duration": 0.052468,
     "end_time": "2021-03-27T09:35:37.985845",
     "exception": false,
     "start_time": "2021-03-27T09:35:37.933377",
     "status": "completed"
    },
    "tags": []
   },
   "source": [
    "#### MultinomialNB"
   ]
  },
  {
   "cell_type": "code",
   "execution_count": null,
   "id": "accomplished-helena",
   "metadata": {
    "papermill": {
     "duration": 0.693782,
     "end_time": "2021-03-27T09:35:38.732865",
     "exception": false,
     "start_time": "2021-03-27T09:35:38.039083",
     "status": "completed"
    },
    "tags": []
   },
   "outputs": [],
   "source": [
    "trainAndEvalModel(MultinomialNB(), \"class-multinomialnb.svg\")"
   ]
  },
  {
   "cell_type": "markdown",
   "id": "sunset-resort",
   "metadata": {
    "papermill": {
     "duration": 0.061749,
     "end_time": "2021-03-27T09:35:38.857977",
     "exception": false,
     "start_time": "2021-03-27T09:35:38.796228",
     "status": "completed"
    },
    "tags": []
   },
   "source": [
    "#### LogisticRegression"
   ]
  },
  {
   "cell_type": "code",
   "execution_count": null,
   "id": "alleged-bradley",
   "metadata": {
    "papermill": {
     "duration": 7.931074,
     "end_time": "2021-03-27T09:35:46.851308",
     "exception": false,
     "start_time": "2021-03-27T09:35:38.920234",
     "status": "completed"
    },
    "tags": []
   },
   "outputs": [],
   "source": [
    "trainAndEvalModel(LogisticRegression(), \"class-logisticregression.svg\")"
   ]
  },
  {
   "cell_type": "markdown",
   "id": "animated-allen",
   "metadata": {
    "papermill": {
     "duration": 0.072225,
     "end_time": "2021-03-27T09:35:46.996434",
     "exception": false,
     "start_time": "2021-03-27T09:35:46.924209",
     "status": "completed"
    },
    "tags": []
   },
   "source": [
    "#### MLPClassifier"
   ]
  },
  {
   "cell_type": "code",
   "execution_count": null,
   "id": "mounted-weapon",
   "metadata": {
    "papermill": {
     "duration": 4866.03054,
     "end_time": "2021-03-27T10:56:53.098865",
     "exception": false,
     "start_time": "2021-03-27T09:35:47.068325",
     "status": "completed"
    },
    "tags": []
   },
   "outputs": [],
   "source": [
    "trainAndEvalModel(MLPClassifier(), \"class-mlp.svg\")"
   ]
  },
  {
   "cell_type": "markdown",
   "id": "solid-witch",
   "metadata": {
    "papermill": {
     "duration": 0.081486,
     "end_time": "2021-03-27T10:56:53.262690",
     "exception": false,
     "start_time": "2021-03-27T10:56:53.181204",
     "status": "completed"
    },
    "tags": []
   },
   "source": [
    "#### DecisionTreeClassifier"
   ]
  },
  {
   "cell_type": "code",
   "execution_count": null,
   "id": "patent-bermuda",
   "metadata": {
    "papermill": {
     "duration": 29.401742,
     "end_time": "2021-03-27T10:57:22.747472",
     "exception": false,
     "start_time": "2021-03-27T10:56:53.345730",
     "status": "completed"
    },
    "tags": []
   },
   "outputs": [],
   "source": [
    "trainAndEvalModel(DecisionTreeClassifier(), \"class-decisiontree.svg\")"
   ]
  },
  {
   "cell_type": "markdown",
   "id": "optical-lover",
   "metadata": {
    "papermill": {
     "duration": 0.092086,
     "end_time": "2021-03-27T10:57:22.932081",
     "exception": false,
     "start_time": "2021-03-27T10:57:22.839995",
     "status": "completed"
    },
    "tags": []
   },
   "source": [
    "#### RandomForestClassifier"
   ]
  },
  {
   "cell_type": "code",
   "execution_count": null,
   "id": "productive-hazard",
   "metadata": {
    "papermill": {
     "duration": 374.7569,
     "end_time": "2021-03-27T11:03:37.780377",
     "exception": false,
     "start_time": "2021-03-27T10:57:23.023477",
     "status": "completed"
    },
    "tags": []
   },
   "outputs": [],
   "source": [
    "trainAndEvalModel(RandomForestClassifier(), \"class-randomforest.svg\")"
   ]
  },
  {
   "cell_type": "markdown",
   "id": "special-sharp",
   "metadata": {
    "papermill": {
     "duration": 0.126292,
     "end_time": "2021-03-27T11:03:38.011330",
     "exception": false,
     "start_time": "2021-03-27T11:03:37.885038",
     "status": "completed"
    },
    "tags": []
   },
   "source": [
    "#### DummyClassifier"
   ]
  },
  {
   "cell_type": "code",
   "execution_count": null,
   "id": "constitutional-clerk",
   "metadata": {
    "papermill": {
     "duration": 0.627966,
     "end_time": "2021-03-27T11:03:38.742135",
     "exception": false,
     "start_time": "2021-03-27T11:03:38.114169",
     "status": "completed"
    },
    "tags": []
   },
   "outputs": [],
   "source": [
    "trainAndEvalModel(DummyClassifier(strategy=\"uniform\"), \"class-dummy.svg\")"
   ]
  },
  {
   "cell_type": "markdown",
   "id": "level-company",
   "metadata": {
    "papermill": {
     "duration": 0.114029,
     "end_time": "2021-03-27T11:03:38.971373",
     "exception": false,
     "start_time": "2021-03-27T11:03:38.857344",
     "status": "completed"
    },
    "tags": []
   },
   "source": [
    "## Mehr lesen / Inspirationen"
   ]
  },
  {
   "cell_type": "markdown",
   "id": "instant-bradford",
   "metadata": {
    "papermill": {
     "duration": 0.114201,
     "end_time": "2021-03-27T11:03:39.199171",
     "exception": false,
     "start_time": "2021-03-27T11:03:39.084970",
     "status": "completed"
    },
    "tags": []
   },
   "source": [
    "- https://towardsdatascience.com/multi-class-text-classification-with-scikit-learn-12f1e60e0a9f\n",
    "- https://towardsai.net/p/data-mining/text-mining-in-python-steps-and-examples-78b3f8fd913b\n",
    "- https://towardsdatascience.com/text-mining-for-dummies-text-classification-with-python-98e47c3a9deb\n",
    "- https://www.analyticsvidhya.com/blog/2018/02/the-different-methods-deal-text-data-predictive-python/\n",
    "- https://realpython.com/python-keras-text-classification/\n",
    "- https://www.tidytextmining.com/ngrams.html\n",
    "- http://seaborn.pydata.org/tutorial/categorical.html?highlight=bar%20plot\n",
    "- https://towardsdatascience.com/visualizing-data-with-pair-plots-in-python-f228cf529166\n",
    "- https://www.kirenz.com/post/2019-08-13-network_analysis/\n",
    "- https://tgstat.com\n",
    "- https://huggingface.co/bert-base-german-cased\n",
    "- https://github.com/sekhansen/text-mining-tutorial/tree/master\n",
    "- https://www.machinelearningplus.com/nlp/topic-modeling-gensim-python/\n",
    "- https://towardsdatascience.com/end-to-end-topic-modeling-in-python-latent-dirichlet-allocation-lda-35ce4ed6b3e0\n",
    "- https://github.com/sekhansen/text-mining-tutorial/blob/master/tutorial_notebook.ipynb\n",
    "- https://textmining.wp.hs-hannover.de/Preprocessing.html\n",
    "- https://likegeeks.com/nlp-tutorial-using-python-nltk/\n",
    "- https://www.datacamp.com/community/tutorials/text-analytics-beginners-nltk\n",
    "- https://data-flair.training/blogs/nltk-python-tutorial/\n",
    "- https://github.com/expectocode/telegram-analysis\n",
    "- https://stackoverflow.com/questions/23199796/detect-and-exclude-outliers-in-pandas-data-frame"
   ]
  }
 ],
 "metadata": {
  "kernelspec": {
   "display_name": "Python 3",
   "language": "python",
   "name": "python3"
  },
  "language_info": {
   "codemirror_mode": {
    "name": "ipython",
    "version": 3
   },
   "file_extension": ".py",
   "mimetype": "text/x-python",
   "name": "python",
   "nbconvert_exporter": "python",
   "pygments_lexer": "ipython3",
   "version": "3.8.8"
  },
  "papermill": {
   "default_parameters": {},
   "duration": 5355.12722,
   "end_time": "2021-03-27T11:03:41.845345",
   "environment_variables": {},
   "exception": null,
   "input_path": "work/notebooks/Classifier.ipynb",
   "output_path": "work/notebooks/Classifier-out.ipynb",
   "parameters": {},
   "start_time": "2021-03-27T09:34:26.718125",
   "version": "2.3.2"
  }
 },
 "nbformat": 4,
 "nbformat_minor": 5
}
