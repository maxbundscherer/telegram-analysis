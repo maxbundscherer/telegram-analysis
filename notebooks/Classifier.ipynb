{
 "cells": [
  {
   "cell_type": "markdown",
   "id": "limiting-forum",
   "metadata": {
    "papermill": {
     "duration": 0.030789,
     "end_time": "2021-03-27T09:34:27.782591",
     "exception": false,
     "start_time": "2021-03-27T09:34:27.751802",
     "status": "completed"
    },
    "tags": []
   },
   "source": [
    "# Telegram Mining (Notebook Autor-Klassifizierung)\n",
    "\n",
    "**Master-Thesis: Social Media & Text Mining am Beispiel von Telegram**\n",
    "\n",
    "Informatik Master\n",
    "\n",
    "Maximilian Bundscherer\n",
    "\n",
    "**Hinweis**: Die Abschnitte ``Arbeitungsumgebung initalisieren`` und ``Chats laden und aufbereiten`` werden im Notebook ``Telegram.iypnb`` bereits ausführlich beschrieben und werden daher hier übersprungen. "
   ]
  },
  {
   "cell_type": "markdown",
   "id": "identified-sound",
   "metadata": {
    "papermill": {
     "duration": 0.028517,
     "end_time": "2021-03-27T09:34:27.840071",
     "exception": false,
     "start_time": "2021-03-27T09:34:27.811554",
     "status": "completed"
    },
    "tags": []
   },
   "source": [
    "## Arbeitumgsbebung initalisieren\n",
    "\n",
    "Siehe Beschreibung im Notebook ``Telegram.ipynb``"
   ]
  },
  {
   "cell_type": "code",
   "execution_count": 1,
   "id": "studied-international",
   "metadata": {
    "execution": {
     "iopub.execute_input": "2021-03-27T09:34:27.909111Z",
     "iopub.status.busy": "2021-03-27T09:34:27.908494Z",
     "iopub.status.idle": "2021-03-27T09:34:30.337487Z",
     "shell.execute_reply": "2021-03-27T09:34:30.336839Z"
    },
    "papermill": {
     "duration": 2.467346,
     "end_time": "2021-03-27T09:34:30.337664",
     "exception": false,
     "start_time": "2021-03-27T09:34:27.870318",
     "status": "completed"
    },
    "tags": []
   },
   "outputs": [],
   "source": [
    "# Import default libs\n",
    "import pandas as pd\n",
    "import numpy as np\n",
    "import seaborn as sns\n",
    "import matplotlib.pyplot as plt\n",
    "import time\n",
    "import re\n",
    "import os\n",
    "import sys\n",
    "import demjson\n",
    "import requests\n",
    "import networkx as nx\n",
    "import warnings\n",
    "from pprint import pprint\n",
    "from urllib.parse import urlparse\n",
    "from collections import Counter\n",
    "from pathlib import Path\n",
    "from lxml.html import fromstring"
   ]
  },
  {
   "cell_type": "code",
   "execution_count": 2,
   "id": "systematic-desert",
   "metadata": {
    "execution": {
     "iopub.execute_input": "2021-03-27T09:34:30.398395Z",
     "iopub.status.busy": "2021-03-27T09:34:30.397851Z",
     "iopub.status.idle": "2021-03-27T09:34:30.399971Z",
     "shell.execute_reply": "2021-03-27T09:34:30.400387Z"
    },
    "papermill": {
     "duration": 0.033753,
     "end_time": "2021-03-27T09:34:30.400524",
     "exception": false,
     "start_time": "2021-03-27T09:34:30.366771",
     "status": "completed"
    },
    "tags": []
   },
   "outputs": [],
   "source": [
    "# Hide DeprecationWarning\n",
    "warnings.filterwarnings(\"ignore\", category=DeprecationWarning)"
   ]
  },
  {
   "cell_type": "code",
   "execution_count": 3,
   "id": "parliamentary-caution",
   "metadata": {
    "execution": {
     "iopub.execute_input": "2021-03-27T09:34:30.460830Z",
     "iopub.status.busy": "2021-03-27T09:34:30.460257Z",
     "iopub.status.idle": "2021-03-27T09:34:33.202773Z",
     "shell.execute_reply": "2021-03-27T09:34:33.202256Z"
    },
    "papermill": {
     "duration": 2.774185,
     "end_time": "2021-03-27T09:34:33.202934",
     "exception": false,
     "start_time": "2021-03-27T09:34:30.428749",
     "status": "completed"
    },
    "tags": []
   },
   "outputs": [
    {
     "name": "stdout",
     "output_type": "stream",
     "text": [
      "Requirement already satisfied: demoji in /opt/conda/lib/python3.8/site-packages (0.4.0)\r\n",
      "Requirement already satisfied: requests<3.0.0 in /opt/conda/lib/python3.8/site-packages (from demoji) (2.25.1)\r\n",
      "Requirement already satisfied: colorama in /opt/conda/lib/python3.8/site-packages (from demoji) (0.4.4)\r\n",
      "Requirement already satisfied: certifi>=2017.4.17 in /opt/conda/lib/python3.8/site-packages (from requests<3.0.0->demoji) (2020.12.5)\r\n",
      "Requirement already satisfied: idna<3,>=2.5 in /opt/conda/lib/python3.8/site-packages (from requests<3.0.0->demoji) (2.10)\r\n",
      "Requirement already satisfied: urllib3<1.27,>=1.21.1 in /opt/conda/lib/python3.8/site-packages (from requests<3.0.0->demoji) (1.26.4)\r\n",
      "Requirement already satisfied: chardet<5,>=3.0.2 in /opt/conda/lib/python3.8/site-packages (from requests<3.0.0->demoji) (4.0.0)\r\n"
     ]
    }
   ],
   "source": [
    "!{sys.executable} -m pip install demoji"
   ]
  },
  {
   "cell_type": "code",
   "execution_count": 4,
   "id": "adolescent-marble",
   "metadata": {
    "execution": {
     "iopub.execute_input": "2021-03-27T09:34:33.266756Z",
     "iopub.status.busy": "2021-03-27T09:34:33.266191Z",
     "iopub.status.idle": "2021-03-27T09:34:34.206223Z",
     "shell.execute_reply": "2021-03-27T09:34:34.205600Z"
    },
    "papermill": {
     "duration": 0.973502,
     "end_time": "2021-03-27T09:34:34.206385",
     "exception": false,
     "start_time": "2021-03-27T09:34:33.232883",
     "status": "completed"
    },
    "tags": []
   },
   "outputs": [],
   "source": [
    "import nltk\n",
    "import demoji\n",
    "\n",
    "# Sklearn\n",
    "from sklearn.model_selection import train_test_split\n",
    "from sklearn.feature_extraction.text import CountVectorizer\n",
    "from sklearn.feature_extraction.text import TfidfTransformer\n",
    "\n",
    "from sklearn.naive_bayes import MultinomialNB\n",
    "from sklearn.linear_model import LogisticRegression\n",
    "from sklearn.ensemble import RandomForestClassifier\n",
    "from sklearn.svm import LinearSVC\n",
    "from sklearn.tree import DecisionTreeClassifier\n",
    "from sklearn.neural_network import MLPClassifier\n",
    "from sklearn.dummy import DummyClassifier\n",
    "\n",
    "from sklearn.metrics import accuracy_score\n",
    "from sklearn.metrics import confusion_matrix"
   ]
  },
  {
   "cell_type": "code",
   "execution_count": 5,
   "id": "clean-auditor",
   "metadata": {
    "execution": {
     "iopub.execute_input": "2021-03-27T09:34:34.268608Z",
     "iopub.status.busy": "2021-03-27T09:34:34.268059Z",
     "iopub.status.idle": "2021-03-27T09:34:34.270142Z",
     "shell.execute_reply": "2021-03-27T09:34:34.270560Z"
    },
    "papermill": {
     "duration": 0.035331,
     "end_time": "2021-03-27T09:34:34.270696",
     "exception": false,
     "start_time": "2021-03-27T09:34:34.235365",
     "status": "completed"
    },
    "tags": []
   },
   "outputs": [],
   "source": [
    "dictGloStopwatches = dict()\n",
    "\n",
    "# Start timer (for reporting)\n",
    "def gloStartStopwatch(key):\n",
    "    print(\"[Stopwatch started >>\" + str(key) + \"<<]\")\n",
    "    dictGloStopwatches[key] = time.time()\n",
    "\n",
    "# Stop timer (for reporting)\n",
    "def gloStopStopwatch(key):\n",
    "    endTime     = time.time()\n",
    "    startTime   = dictGloStopwatches[key]\n",
    "    print(\"[Stopwatch stopped >>\" + str(key) + \"<< (\" + '{:5.3f}s'.format(endTime-startTime) + \")]\")"
   ]
  },
  {
   "cell_type": "code",
   "execution_count": 6,
   "id": "cloudy-chart",
   "metadata": {
    "execution": {
     "iopub.execute_input": "2021-03-27T09:34:34.331172Z",
     "iopub.status.busy": "2021-03-27T09:34:34.330635Z",
     "iopub.status.idle": "2021-03-27T09:34:34.370121Z",
     "shell.execute_reply": "2021-03-27T09:34:34.369576Z"
    },
    "papermill": {
     "duration": 0.071419,
     "end_time": "2021-03-27T09:34:34.370247",
     "exception": false,
     "start_time": "2021-03-27T09:34:34.298828",
     "status": "completed"
    },
    "tags": []
   },
   "outputs": [
    {
     "name": "stderr",
     "output_type": "stream",
     "text": [
      "[nltk_data] Downloading package stopwords to /home/jovyan/nltk_data...\n",
      "[nltk_data]   Package stopwords is already up-to-date!\n"
     ]
    },
    {
     "data": {
      "text/plain": [
       "True"
      ]
     },
     "execution_count": 6,
     "metadata": {},
     "output_type": "execute_result"
    }
   ],
   "source": [
    "nltk.download(\"stopwords\")"
   ]
  },
  {
   "cell_type": "code",
   "execution_count": 7,
   "id": "optional-event",
   "metadata": {
    "execution": {
     "iopub.execute_input": "2021-03-27T09:34:34.431528Z",
     "iopub.status.busy": "2021-03-27T09:34:34.430985Z",
     "iopub.status.idle": "2021-03-27T09:34:36.127440Z",
     "shell.execute_reply": "2021-03-27T09:34:36.127863Z"
    },
    "papermill": {
     "duration": 1.728426,
     "end_time": "2021-03-27T09:34:36.128063",
     "exception": false,
     "start_time": "2021-03-27T09:34:34.399637",
     "status": "completed"
    },
    "tags": []
   },
   "outputs": [
    {
     "name": "stdout",
     "output_type": "stream",
     "text": [
      "Downloading emoji data ..."
     ]
    },
    {
     "name": "stdout",
     "output_type": "stream",
     "text": [
      "\n"
     ]
    },
    {
     "name": "stdout",
     "output_type": "stream",
     "text": [
      "... OK"
     ]
    },
    {
     "name": "stdout",
     "output_type": "stream",
     "text": [
      " (Got response in 1.39 seconds)"
     ]
    },
    {
     "name": "stdout",
     "output_type": "stream",
     "text": [
      "\n"
     ]
    },
    {
     "name": "stdout",
     "output_type": "stream",
     "text": [
      "Writing emoji data to /home/jovyan/.demoji/codes.json ..."
     ]
    },
    {
     "name": "stdout",
     "output_type": "stream",
     "text": [
      "\n"
     ]
    },
    {
     "name": "stdout",
     "output_type": "stream",
     "text": [
      "... OK"
     ]
    },
    {
     "name": "stdout",
     "output_type": "stream",
     "text": [
      "\n"
     ]
    }
   ],
   "source": [
    "demoji.download_codes()"
   ]
  },
  {
   "cell_type": "code",
   "execution_count": 8,
   "id": "spare-kitchen",
   "metadata": {
    "execution": {
     "iopub.execute_input": "2021-03-27T09:34:36.195856Z",
     "iopub.status.busy": "2021-03-27T09:34:36.195307Z",
     "iopub.status.idle": "2021-03-27T09:34:36.197341Z",
     "shell.execute_reply": "2021-03-27T09:34:36.197750Z"
    },
    "papermill": {
     "duration": 0.03778,
     "end_time": "2021-03-27T09:34:36.197898",
     "exception": false,
     "start_time": "2021-03-27T09:34:36.160118",
     "status": "completed"
    },
    "tags": []
   },
   "outputs": [],
   "source": [
    "# Show all columns (pandas hides columns by default)\n",
    "pd.set_option('display.max_columns', None)\n",
    "\n",
    "# Set plot style\n",
    "plt.style.use('ggplot')\n",
    "\n",
    "font = {'size'   : 13}\n",
    "\n",
    "plt.rc('font', **font)"
   ]
  },
  {
   "cell_type": "code",
   "execution_count": 9,
   "id": "elegant-canvas",
   "metadata": {
    "execution": {
     "iopub.execute_input": "2021-03-27T09:34:36.264030Z",
     "iopub.status.busy": "2021-03-27T09:34:36.263473Z",
     "iopub.status.idle": "2021-03-27T09:34:36.265481Z",
     "shell.execute_reply": "2021-03-27T09:34:36.265896Z"
    },
    "papermill": {
     "duration": 0.036731,
     "end_time": "2021-03-27T09:34:36.266041",
     "exception": false,
     "start_time": "2021-03-27T09:34:36.229310",
     "status": "completed"
    },
    "tags": []
   },
   "outputs": [],
   "source": [
    "dir_var                 = \"./work/notebooks/\"\n",
    "dir_var_output          = dir_var + \"output/\"\n",
    "dir_var_pandas_cache    = dir_var + \"cache/pandas/\""
   ]
  },
  {
   "cell_type": "code",
   "execution_count": 10,
   "id": "rolled-lender",
   "metadata": {
    "execution": {
     "iopub.execute_input": "2021-03-27T09:34:36.333385Z",
     "iopub.status.busy": "2021-03-27T09:34:36.332819Z",
     "iopub.status.idle": "2021-03-27T09:34:36.335359Z",
     "shell.execute_reply": "2021-03-27T09:34:36.334918Z"
    },
    "papermill": {
     "duration": 0.03778,
     "end_time": "2021-03-27T09:34:36.335476",
     "exception": false,
     "start_time": "2021-03-27T09:34:36.297696",
     "status": "completed"
    },
    "tags": []
   },
   "outputs": [],
   "source": [
    "def gloReplaceGermanChars(inputText):\n",
    "\n",
    "    inputText = inputText.replace(\"ö\", \"oe\")\n",
    "    inputText = inputText.replace(\"ü\", \"ue\")\n",
    "    inputText = inputText.replace(\"ä\", \"ae\")\n",
    "\n",
    "    inputText = inputText.replace(\"Ö\", \"Oe\")\n",
    "    inputText = inputText.replace(\"Ü\", \"Ue\")\n",
    "    inputText = inputText.replace(\"Ä\", \"Ae\")\n",
    "\n",
    "    inputText = inputText.replace(\"ß\", \"ss\")\n",
    "    \n",
    "    return inputText"
   ]
  },
  {
   "cell_type": "code",
   "execution_count": 11,
   "id": "spiritual-listening",
   "metadata": {
    "execution": {
     "iopub.execute_input": "2021-03-27T09:34:36.402455Z",
     "iopub.status.busy": "2021-03-27T09:34:36.401910Z",
     "iopub.status.idle": "2021-03-27T09:34:36.404356Z",
     "shell.execute_reply": "2021-03-27T09:34:36.403923Z"
    },
    "papermill": {
     "duration": 0.037721,
     "end_time": "2021-03-27T09:34:36.404472",
     "exception": false,
     "start_time": "2021-03-27T09:34:36.366751",
     "status": "completed"
    },
    "tags": []
   },
   "outputs": [],
   "source": [
    "# Rm unsafe chars\n",
    "def gloConvertToSafeString(text):\n",
    "    text = demoji.replace(text, \"\")\n",
    "    text = gloReplaceGermanChars(text)\n",
    "    text = re.sub(r'[^a-zA-Z0-9\\s]', '', text)\n",
    "    return text\n",
    "\n",
    "# Generate unique chat name\n",
    "def gloConvertToSafeChatName(chatName):\n",
    "    chatName = gloConvertToSafeString(chatName)\n",
    "    return chatName[:30]"
   ]
  },
  {
   "cell_type": "code",
   "execution_count": 12,
   "id": "electoral-charles",
   "metadata": {
    "execution": {
     "iopub.execute_input": "2021-03-27T09:34:36.472667Z",
     "iopub.status.busy": "2021-03-27T09:34:36.472088Z",
     "iopub.status.idle": "2021-03-27T09:34:36.474188Z",
     "shell.execute_reply": "2021-03-27T09:34:36.474600Z"
    },
    "papermill": {
     "duration": 0.038848,
     "end_time": "2021-03-27T09:34:36.474738",
     "exception": false,
     "start_time": "2021-03-27T09:34:36.435890",
     "status": "completed"
    },
    "tags": []
   },
   "outputs": [],
   "source": [
    "def gloGetStopWordsList(filterList):\n",
    "\n",
    "    stopwWorldsList = []\n",
    "\n",
    "    deWordsList = nltk.corpus.stopwords.words('german')\n",
    "\n",
    "    enWordsList = nltk.corpus.stopwords.words('english')\n",
    "\n",
    "    aStopwords = []\n",
    "    with open(dir_var + \"additionalStopwords.txt\") as file:\n",
    "        for line in file: \n",
    "            line = line.strip()\n",
    "            if(line != \"\"):\n",
    "                aStopwords.append(line)\n",
    "\n",
    "    for s in filterList:\n",
    "        s = gloReplaceGermanChars(s)\n",
    "        stopwWorldsList.append(s)\n",
    "\n",
    "    for s in deWordsList:\n",
    "        s = gloReplaceGermanChars(s)\n",
    "        stopwWorldsList.append(s)\n",
    "\n",
    "    for s in enWordsList:\n",
    "        stopwWorldsList.append(s)\n",
    "\n",
    "    for s in aStopwords:\n",
    "        s = gloReplaceGermanChars(s)\n",
    "        stopwWorldsList.append(s)\n",
    "\n",
    "    return stopwWorldsList"
   ]
  },
  {
   "cell_type": "markdown",
   "id": "tamil-luxembourg",
   "metadata": {
    "papermill": {
     "duration": 0.031389,
     "end_time": "2021-03-27T09:34:36.537665",
     "exception": false,
     "start_time": "2021-03-27T09:34:36.506276",
     "status": "completed"
    },
    "tags": []
   },
   "source": [
    "## Chats laden und aufbereiten\n",
    "\n",
    "Siehe Beschreibung im Notebook ``Telegram.ipynb``"
   ]
  },
  {
   "cell_type": "markdown",
   "id": "proof-sunrise",
   "metadata": {
    "papermill": {
     "duration": 0.03112,
     "end_time": "2021-03-27T09:34:36.600492",
     "exception": false,
     "start_time": "2021-03-27T09:34:36.569372",
     "status": "completed"
    },
    "tags": []
   },
   "source": [
    "## Klassifizierung nach Autoren\n",
    "\n",
    "Siehe Beschreibung in ``Thesis.pdf``"
   ]
  },
  {
   "cell_type": "markdown",
   "id": "moderate-suffering",
   "metadata": {
    "papermill": {
     "duration": 0.031905,
     "end_time": "2021-03-27T09:34:36.663854",
     "exception": false,
     "start_time": "2021-03-27T09:34:36.631949",
     "status": "completed"
    },
    "tags": []
   },
   "source": [
    "### Daten laden"
   ]
  },
  {
   "cell_type": "code",
   "execution_count": 13,
   "id": "sweet-collins",
   "metadata": {
    "execution": {
     "iopub.execute_input": "2021-03-27T09:34:36.730898Z",
     "iopub.status.busy": "2021-03-27T09:34:36.730353Z",
     "iopub.status.idle": "2021-03-27T09:34:36.732495Z",
     "shell.execute_reply": "2021-03-27T09:34:36.732931Z"
    },
    "papermill": {
     "duration": 0.037661,
     "end_time": "2021-03-27T09:34:36.733082",
     "exception": false,
     "start_time": "2021-03-27T09:34:36.695421",
     "status": "completed"
    },
    "tags": []
   },
   "outputs": [],
   "source": [
    "C_USE_CACHE_FILE = \"final-run-24-03.pkl\""
   ]
  },
  {
   "cell_type": "markdown",
   "id": "considered-mozambique",
   "metadata": {
    "papermill": {
     "duration": 0.031751,
     "end_time": "2021-03-27T09:34:36.796520",
     "exception": false,
     "start_time": "2021-03-27T09:34:36.764769",
     "status": "completed"
    },
    "tags": []
   },
   "source": [
    "#### Von Cache Laden"
   ]
  },
  {
   "cell_type": "code",
   "execution_count": 14,
   "id": "above-lending",
   "metadata": {
    "execution": {
     "iopub.execute_input": "2021-03-27T09:34:36.863468Z",
     "iopub.status.busy": "2021-03-27T09:34:36.862915Z",
     "iopub.status.idle": "2021-03-27T09:35:13.499139Z",
     "shell.execute_reply": "2021-03-27T09:35:13.498612Z"
    },
    "papermill": {
     "duration": 36.67098,
     "end_time": "2021-03-27T09:35:13.499292",
     "exception": false,
     "start_time": "2021-03-27T09:34:36.828312",
     "status": "completed"
    },
    "tags": []
   },
   "outputs": [
    {
     "name": "stdout",
     "output_type": "stream",
     "text": [
      "[Stopwatch started >>Cache einlesen<<]"
     ]
    },
    {
     "name": "stdout",
     "output_type": "stream",
     "text": [
      "\n"
     ]
    },
    {
     "name": "stdout",
     "output_type": "stream",
     "text": [
      "[Stopwatch stopped >>Cache einlesen<< (36.597s)]"
     ]
    },
    {
     "name": "stdout",
     "output_type": "stream",
     "text": [
      "\n"
     ]
    }
   ],
   "source": [
    "gloStartStopwatch(\"Cache einlesen\")\n",
    "dfAllDataMessages = pd.read_pickle(dir_var_pandas_cache + C_USE_CACHE_FILE)\n",
    "gloStopStopwatch(\"Cache einlesen\")"
   ]
  },
  {
   "cell_type": "markdown",
   "id": "satellite-celtic",
   "metadata": {
    "papermill": {
     "duration": 0.034263,
     "end_time": "2021-03-27T09:35:13.567577",
     "exception": false,
     "start_time": "2021-03-27T09:35:13.533314",
     "status": "completed"
    },
    "tags": []
   },
   "source": [
    "#### Filtern und anzeigen"
   ]
  },
  {
   "cell_type": "code",
   "execution_count": 15,
   "id": "fundamental-angel",
   "metadata": {
    "execution": {
     "iopub.execute_input": "2021-03-27T09:35:13.679365Z",
     "iopub.status.busy": "2021-03-27T09:35:13.678771Z",
     "iopub.status.idle": "2021-03-27T09:35:29.895575Z",
     "shell.execute_reply": "2021-03-27T09:35:29.895060Z"
    },
    "papermill": {
     "duration": 16.293941,
     "end_time": "2021-03-27T09:35:29.895741",
     "exception": false,
     "start_time": "2021-03-27T09:35:13.601800",
     "status": "completed"
    },
    "tags": []
   },
   "outputs": [],
   "source": [
    "dfAllDataMessages= dfAllDataMessages[dfAllDataMessages['ftFilePath'].isin(\n",
    "    [\n",
    "        \"DS-05-01-2021/ChatExport_2021-01-05-hildmann\",\n",
    "        \"DS-05-01-2021/ChatExport_2021-01-05-janich\",\n",
    "        \"DS-05-01-2021/ChatExport_2021-01-05-xavier\",\n",
    "        \"DS-05-01-2021/ChatExport_2021-01-05-evaherman\"\n",
    "    ]\n",
    ")]\n",
    "\n",
    "dfAllDataMessages = dfAllDataMessages[dfAllDataMessages.ftQrIsValidText == True]\n",
    "dfAllDataMessages = dfAllDataMessages[dfAllDataMessages.ftTdCleanText != \"\"]\n",
    "dfAllDataMessages = dfAllDataMessages[dfAllDataMessages.ftTdTextLength > 5]\n",
    "\n",
    "dfAllDataMessages[\"from\"] = dfAllDataMessages[\"from\"].apply(gloConvertToSafeChatName)"
   ]
  },
  {
   "cell_type": "code",
   "execution_count": 16,
   "id": "capable-veteran",
   "metadata": {
    "execution": {
     "iopub.execute_input": "2021-03-27T09:35:29.967670Z",
     "iopub.status.busy": "2021-03-27T09:35:29.967122Z",
     "iopub.status.idle": "2021-03-27T09:35:30.047149Z",
     "shell.execute_reply": "2021-03-27T09:35:30.046667Z"
    },
    "papermill": {
     "duration": 0.117619,
     "end_time": "2021-03-27T09:35:30.047287",
     "exception": false,
     "start_time": "2021-03-27T09:35:29.929668",
     "status": "completed"
    },
    "tags": []
   },
   "outputs": [
    {
     "data": {
      "text/html": [
       "<div>\n",
       "<style scoped>\n",
       "    .dataframe tbody tr th:only-of-type {\n",
       "        vertical-align: middle;\n",
       "    }\n",
       "\n",
       "    .dataframe tbody tr th {\n",
       "        vertical-align: top;\n",
       "    }\n",
       "\n",
       "    .dataframe thead th {\n",
       "        text-align: right;\n",
       "    }\n",
       "</style>\n",
       "<table border=\"1\" class=\"dataframe\">\n",
       "  <thead>\n",
       "    <tr style=\"text-align: right;\">\n",
       "      <th></th>\n",
       "      <th>id</th>\n",
       "      <th>type</th>\n",
       "      <th>date</th>\n",
       "      <th>actor</th>\n",
       "      <th>actor_id</th>\n",
       "      <th>action</th>\n",
       "      <th>title</th>\n",
       "      <th>text</th>\n",
       "      <th>from</th>\n",
       "      <th>from_id</th>\n",
       "      <th>file</th>\n",
       "      <th>media_type</th>\n",
       "      <th>mime_type</th>\n",
       "      <th>duration_seconds</th>\n",
       "      <th>edited</th>\n",
       "      <th>thumbnail</th>\n",
       "      <th>width</th>\n",
       "      <th>height</th>\n",
       "      <th>photo</th>\n",
       "      <th>forwarded_from</th>\n",
       "      <th>poll.question</th>\n",
       "      <th>poll.closed</th>\n",
       "      <th>poll.total_voters</th>\n",
       "      <th>poll.answers</th>\n",
       "      <th>sticker_emoji</th>\n",
       "      <th>message_id</th>\n",
       "      <th>reply_to_message_id</th>\n",
       "      <th>location_information.latitude</th>\n",
       "      <th>location_information.longitude</th>\n",
       "      <th>live_location_period_seconds</th>\n",
       "      <th>via_bot</th>\n",
       "      <th>performer</th>\n",
       "      <th>ftFilePath</th>\n",
       "      <th>ftChatType</th>\n",
       "      <th>ftIsJsonFormatted</th>\n",
       "      <th>tmpExtractedTD</th>\n",
       "      <th>ftTdText</th>\n",
       "      <th>ftTdUrls</th>\n",
       "      <th>ftTdHashtags</th>\n",
       "      <th>ftTdBolds</th>\n",
       "      <th>ftTdItalics</th>\n",
       "      <th>ftTdUnderlines</th>\n",
       "      <th>ftTdEmails</th>\n",
       "      <th>ftTdCleanText</th>\n",
       "      <th>ftTdEmojis</th>\n",
       "      <th>ftTdEmojisDesc</th>\n",
       "      <th>ftTdSafeText</th>\n",
       "      <th>ftTdSafeLowerText</th>\n",
       "      <th>ftTdTextLength</th>\n",
       "      <th>ftQrIsValidText</th>\n",
       "      <th>ftQrIsEdited</th>\n",
       "      <th>ftQrIsForwarded</th>\n",
       "      <th>ftQrCoPhotos</th>\n",
       "      <th>ftQrCoFiles</th>\n",
       "      <th>ftQrCoUrls</th>\n",
       "      <th>ftQrCoHashtags</th>\n",
       "      <th>ftQrCoBolds</th>\n",
       "      <th>ftQrCoItalics</th>\n",
       "      <th>ftQrCoUnderlines</th>\n",
       "      <th>ftQrCoEmails</th>\n",
       "      <th>ftQrCoEmojis</th>\n",
       "      <th>ftTrNerRoberta</th>\n",
       "      <th>ftTrNerBert</th>\n",
       "      <th>ftTrSenBert</th>\n",
       "      <th>ftSenTb</th>\n",
       "      <th>author</th>\n",
       "      <th>saved_from</th>\n",
       "      <th>members</th>\n",
       "      <th>game_title</th>\n",
       "      <th>game_description</th>\n",
       "      <th>game_link</th>\n",
       "      <th>game_message_id</th>\n",
       "      <th>score</th>\n",
       "      <th>inviter</th>\n",
       "      <th>contact_vcard</th>\n",
       "      <th>contact_information.first_name</th>\n",
       "      <th>contact_information.last_name</th>\n",
       "      <th>contact_information.phone_number</th>\n",
       "      <th>place_name</th>\n",
       "      <th>address</th>\n",
       "    </tr>\n",
       "  </thead>\n",
       "  <tbody>\n",
       "    <tr>\n",
       "      <th>1</th>\n",
       "      <td>2</td>\n",
       "      <td>message</td>\n",
       "      <td>2020-04-28T08:22:29</td>\n",
       "      <td>NaN</td>\n",
       "      <td>NaN</td>\n",
       "      <td>NaN</td>\n",
       "      <td>NaN</td>\n",
       "      <td>Dann schreiben wir mal Geschichte!</td>\n",
       "      <td>ATTILA HILDMANN</td>\n",
       "      <td>1.003416e+10</td>\n",
       "      <td>NaN</td>\n",
       "      <td>NaN</td>\n",
       "      <td>NaN</td>\n",
       "      <td>NaN</td>\n",
       "      <td>NaN</td>\n",
       "      <td>NaN</td>\n",
       "      <td>NaN</td>\n",
       "      <td>NaN</td>\n",
       "      <td>NaN</td>\n",
       "      <td>NaN</td>\n",
       "      <td>NaN</td>\n",
       "      <td>NaN</td>\n",
       "      <td>NaN</td>\n",
       "      <td>NaN</td>\n",
       "      <td>NaN</td>\n",
       "      <td>NaN</td>\n",
       "      <td>NaN</td>\n",
       "      <td>NaN</td>\n",
       "      <td>NaN</td>\n",
       "      <td>NaN</td>\n",
       "      <td>NaN</td>\n",
       "      <td>NaN</td>\n",
       "      <td>DS-05-01-2021/ChatExport_2021-01-05-hildmann</td>\n",
       "      <td>public_channel</td>\n",
       "      <td>False</td>\n",
       "      <td>(Dann schreiben wir mal Geschichte!, [], [], [...</td>\n",
       "      <td>Dann schreiben wir mal Geschichte!</td>\n",
       "      <td>[]</td>\n",
       "      <td>[]</td>\n",
       "      <td>[]</td>\n",
       "      <td>[]</td>\n",
       "      <td>[]</td>\n",
       "      <td>[]</td>\n",
       "      <td>Dann schreiben wir mal Geschichte!</td>\n",
       "      <td>[]</td>\n",
       "      <td>[]</td>\n",
       "      <td>Dann schreiben wir mal Geschichte</td>\n",
       "      <td>dann schreiben wir mal geschichte</td>\n",
       "      <td>34</td>\n",
       "      <td>True</td>\n",
       "      <td>False</td>\n",
       "      <td>False</td>\n",
       "      <td>False</td>\n",
       "      <td>False</td>\n",
       "      <td>False</td>\n",
       "      <td>False</td>\n",
       "      <td>False</td>\n",
       "      <td>False</td>\n",
       "      <td>False</td>\n",
       "      <td>False</td>\n",
       "      <td>False</td>\n",
       "      <td>{'per': [], 'misc': [], 'org': [], 'loc': []}</td>\n",
       "      <td>{'per': [], 'misc': [], 'org': [], 'loc': []}</td>\n",
       "      <td>5.0</td>\n",
       "      <td>{'polarity': 0.0, 'subjectivity': 0.0}</td>\n",
       "      <td>NaN</td>\n",
       "      <td>NaN</td>\n",
       "      <td>NaN</td>\n",
       "      <td>NaN</td>\n",
       "      <td>NaN</td>\n",
       "      <td>NaN</td>\n",
       "      <td>NaN</td>\n",
       "      <td>NaN</td>\n",
       "      <td>NaN</td>\n",
       "      <td>NaN</td>\n",
       "      <td>NaN</td>\n",
       "      <td>NaN</td>\n",
       "      <td>NaN</td>\n",
       "      <td>NaN</td>\n",
       "      <td>NaN</td>\n",
       "    </tr>\n",
       "    <tr>\n",
       "      <th>4</th>\n",
       "      <td>5</td>\n",
       "      <td>message</td>\n",
       "      <td>2020-04-28T08:43:27</td>\n",
       "      <td>NaN</td>\n",
       "      <td>NaN</td>\n",
       "      <td>NaN</td>\n",
       "      <td>NaN</td>\n",
       "      <td>Das Video sollte jeder von euch schauen und ve...</td>\n",
       "      <td>ATTILA HILDMANN</td>\n",
       "      <td>1.003416e+10</td>\n",
       "      <td>NaN</td>\n",
       "      <td>NaN</td>\n",
       "      <td>NaN</td>\n",
       "      <td>NaN</td>\n",
       "      <td>NaN</td>\n",
       "      <td>NaN</td>\n",
       "      <td>NaN</td>\n",
       "      <td>NaN</td>\n",
       "      <td>NaN</td>\n",
       "      <td>NaN</td>\n",
       "      <td>NaN</td>\n",
       "      <td>NaN</td>\n",
       "      <td>NaN</td>\n",
       "      <td>NaN</td>\n",
       "      <td>NaN</td>\n",
       "      <td>NaN</td>\n",
       "      <td>NaN</td>\n",
       "      <td>NaN</td>\n",
       "      <td>NaN</td>\n",
       "      <td>NaN</td>\n",
       "      <td>NaN</td>\n",
       "      <td>NaN</td>\n",
       "      <td>DS-05-01-2021/ChatExport_2021-01-05-hildmann</td>\n",
       "      <td>public_channel</td>\n",
       "      <td>False</td>\n",
       "      <td>(Das Video sollte jeder von euch schauen und v...</td>\n",
       "      <td>Das Video sollte jeder von euch schauen und ve...</td>\n",
       "      <td>[]</td>\n",
       "      <td>[]</td>\n",
       "      <td>[]</td>\n",
       "      <td>[]</td>\n",
       "      <td>[]</td>\n",
       "      <td>[]</td>\n",
       "      <td>Das Video sollte jeder von euch schauen und ve...</td>\n",
       "      <td>[]</td>\n",
       "      <td>[]</td>\n",
       "      <td>Das Video sollte jeder von euch schauen und ve...</td>\n",
       "      <td>das video sollte jeder von euch schauen und ve...</td>\n",
       "      <td>100</td>\n",
       "      <td>True</td>\n",
       "      <td>False</td>\n",
       "      <td>False</td>\n",
       "      <td>False</td>\n",
       "      <td>False</td>\n",
       "      <td>False</td>\n",
       "      <td>False</td>\n",
       "      <td>False</td>\n",
       "      <td>False</td>\n",
       "      <td>False</td>\n",
       "      <td>False</td>\n",
       "      <td>False</td>\n",
       "      <td>{'per': [], 'misc': [], 'org': [], 'loc': ['▁C...</td>\n",
       "      <td>{'per': [], 'misc': [], 'org': [], 'loc': []}</td>\n",
       "      <td>5.0</td>\n",
       "      <td>{'polarity': 0.0, 'subjectivity': 0.0}</td>\n",
       "      <td>NaN</td>\n",
       "      <td>NaN</td>\n",
       "      <td>NaN</td>\n",
       "      <td>NaN</td>\n",
       "      <td>NaN</td>\n",
       "      <td>NaN</td>\n",
       "      <td>NaN</td>\n",
       "      <td>NaN</td>\n",
       "      <td>NaN</td>\n",
       "      <td>NaN</td>\n",
       "      <td>NaN</td>\n",
       "      <td>NaN</td>\n",
       "      <td>NaN</td>\n",
       "      <td>NaN</td>\n",
       "      <td>NaN</td>\n",
       "    </tr>\n",
       "    <tr>\n",
       "      <th>5</th>\n",
       "      <td>6</td>\n",
       "      <td>message</td>\n",
       "      <td>2020-04-28T08:43:31</td>\n",
       "      <td>NaN</td>\n",
       "      <td>NaN</td>\n",
       "      <td>NaN</td>\n",
       "      <td>NaN</td>\n",
       "      <td>[SCHAUT ES EUCH AN! 🆘 , {'type': 'link', 'text...</td>\n",
       "      <td>ATTILA HILDMANN</td>\n",
       "      <td>1.003416e+10</td>\n",
       "      <td>NaN</td>\n",
       "      <td>NaN</td>\n",
       "      <td>NaN</td>\n",
       "      <td>NaN</td>\n",
       "      <td>2020-04-28T08:52:04</td>\n",
       "      <td>NaN</td>\n",
       "      <td>NaN</td>\n",
       "      <td>NaN</td>\n",
       "      <td>NaN</td>\n",
       "      <td>NaN</td>\n",
       "      <td>NaN</td>\n",
       "      <td>NaN</td>\n",
       "      <td>NaN</td>\n",
       "      <td>NaN</td>\n",
       "      <td>NaN</td>\n",
       "      <td>NaN</td>\n",
       "      <td>NaN</td>\n",
       "      <td>NaN</td>\n",
       "      <td>NaN</td>\n",
       "      <td>NaN</td>\n",
       "      <td>NaN</td>\n",
       "      <td>NaN</td>\n",
       "      <td>DS-05-01-2021/ChatExport_2021-01-05-hildmann</td>\n",
       "      <td>public_channel</td>\n",
       "      <td>True</td>\n",
       "      <td>(SCHAUT ES EUCH AN! 🆘 , [https://www.instagram...</td>\n",
       "      <td>SCHAUT ES EUCH AN! 🆘</td>\n",
       "      <td>[https://www.instagram.com/tv/B_f_sYFqfvw/?igs...</td>\n",
       "      <td>[]</td>\n",
       "      <td>[]</td>\n",
       "      <td>[]</td>\n",
       "      <td>[]</td>\n",
       "      <td>[]</td>\n",
       "      <td>SCHAUT ES EUCH AN!</td>\n",
       "      <td>[🆘]</td>\n",
       "      <td>[SOS button]</td>\n",
       "      <td>SCHAUT ES EUCH AN</td>\n",
       "      <td>schaut es euch an</td>\n",
       "      <td>21</td>\n",
       "      <td>True</td>\n",
       "      <td>True</td>\n",
       "      <td>False</td>\n",
       "      <td>False</td>\n",
       "      <td>False</td>\n",
       "      <td>True</td>\n",
       "      <td>False</td>\n",
       "      <td>False</td>\n",
       "      <td>False</td>\n",
       "      <td>False</td>\n",
       "      <td>False</td>\n",
       "      <td>True</td>\n",
       "      <td>{'per': [], 'misc': [], 'org': [], 'loc': []}</td>\n",
       "      <td>{'per': [], 'misc': [], 'org': [], 'loc': []}</td>\n",
       "      <td>5.0</td>\n",
       "      <td>{'polarity': 0.0, 'subjectivity': 0.0}</td>\n",
       "      <td>NaN</td>\n",
       "      <td>NaN</td>\n",
       "      <td>NaN</td>\n",
       "      <td>NaN</td>\n",
       "      <td>NaN</td>\n",
       "      <td>NaN</td>\n",
       "      <td>NaN</td>\n",
       "      <td>NaN</td>\n",
       "      <td>NaN</td>\n",
       "      <td>NaN</td>\n",
       "      <td>NaN</td>\n",
       "      <td>NaN</td>\n",
       "      <td>NaN</td>\n",
       "      <td>NaN</td>\n",
       "      <td>NaN</td>\n",
       "    </tr>\n",
       "  </tbody>\n",
       "</table>\n",
       "</div>"
      ],
      "text/plain": [
       "   id     type                 date actor  actor_id action title  \\\n",
       "1   2  message  2020-04-28T08:22:29   NaN       NaN    NaN   NaN   \n",
       "4   5  message  2020-04-28T08:43:27   NaN       NaN    NaN   NaN   \n",
       "5   6  message  2020-04-28T08:43:31   NaN       NaN    NaN   NaN   \n",
       "\n",
       "                                                text              from  \\\n",
       "1                 Dann schreiben wir mal Geschichte!  ATTILA HILDMANN    \n",
       "4  Das Video sollte jeder von euch schauen und ve...  ATTILA HILDMANN    \n",
       "5  [SCHAUT ES EUCH AN! 🆘 , {'type': 'link', 'text...  ATTILA HILDMANN    \n",
       "\n",
       "        from_id file media_type mime_type  duration_seconds  \\\n",
       "1  1.003416e+10  NaN        NaN       NaN               NaN   \n",
       "4  1.003416e+10  NaN        NaN       NaN               NaN   \n",
       "5  1.003416e+10  NaN        NaN       NaN               NaN   \n",
       "\n",
       "                edited thumbnail  width  height photo forwarded_from  \\\n",
       "1                  NaN       NaN    NaN     NaN   NaN            NaN   \n",
       "4                  NaN       NaN    NaN     NaN   NaN            NaN   \n",
       "5  2020-04-28T08:52:04       NaN    NaN     NaN   NaN            NaN   \n",
       "\n",
       "  poll.question poll.closed  poll.total_voters poll.answers sticker_emoji  \\\n",
       "1           NaN         NaN                NaN          NaN           NaN   \n",
       "4           NaN         NaN                NaN          NaN           NaN   \n",
       "5           NaN         NaN                NaN          NaN           NaN   \n",
       "\n",
       "   message_id  reply_to_message_id  location_information.latitude  \\\n",
       "1         NaN                  NaN                            NaN   \n",
       "4         NaN                  NaN                            NaN   \n",
       "5         NaN                  NaN                            NaN   \n",
       "\n",
       "   location_information.longitude  live_location_period_seconds via_bot  \\\n",
       "1                             NaN                           NaN     NaN   \n",
       "4                             NaN                           NaN     NaN   \n",
       "5                             NaN                           NaN     NaN   \n",
       "\n",
       "  performer                                    ftFilePath      ftChatType  \\\n",
       "1       NaN  DS-05-01-2021/ChatExport_2021-01-05-hildmann  public_channel   \n",
       "4       NaN  DS-05-01-2021/ChatExport_2021-01-05-hildmann  public_channel   \n",
       "5       NaN  DS-05-01-2021/ChatExport_2021-01-05-hildmann  public_channel   \n",
       "\n",
       "   ftIsJsonFormatted                                     tmpExtractedTD  \\\n",
       "1              False  (Dann schreiben wir mal Geschichte!, [], [], [...   \n",
       "4              False  (Das Video sollte jeder von euch schauen und v...   \n",
       "5               True  (SCHAUT ES EUCH AN! 🆘 , [https://www.instagram...   \n",
       "\n",
       "                                            ftTdText  \\\n",
       "1                 Dann schreiben wir mal Geschichte!   \n",
       "4  Das Video sollte jeder von euch schauen und ve...   \n",
       "5                              SCHAUT ES EUCH AN! 🆘    \n",
       "\n",
       "                                            ftTdUrls ftTdHashtags ftTdBolds  \\\n",
       "1                                                 []           []        []   \n",
       "4                                                 []           []        []   \n",
       "5  [https://www.instagram.com/tv/B_f_sYFqfvw/?igs...           []        []   \n",
       "\n",
       "  ftTdItalics ftTdUnderlines ftTdEmails  \\\n",
       "1          []             []         []   \n",
       "4          []             []         []   \n",
       "5          []             []         []   \n",
       "\n",
       "                                       ftTdCleanText ftTdEmojis  \\\n",
       "1                 Dann schreiben wir mal Geschichte!         []   \n",
       "4  Das Video sollte jeder von euch schauen und ve...         []   \n",
       "5                              SCHAUT ES EUCH AN!           [🆘]   \n",
       "\n",
       "  ftTdEmojisDesc                                       ftTdSafeText  \\\n",
       "1             []                 Dann schreiben wir mal Geschichte    \n",
       "4             []  Das Video sollte jeder von euch schauen und ve...   \n",
       "5   [SOS button]                              SCHAUT ES EUCH AN       \n",
       "\n",
       "                                   ftTdSafeLowerText  ftTdTextLength  \\\n",
       "1                 dann schreiben wir mal geschichte               34   \n",
       "4  das video sollte jeder von euch schauen und ve...             100   \n",
       "5                              schaut es euch an                  21   \n",
       "\n",
       "   ftQrIsValidText  ftQrIsEdited  ftQrIsForwarded  ftQrCoPhotos  ftQrCoFiles  \\\n",
       "1             True         False            False         False        False   \n",
       "4             True         False            False         False        False   \n",
       "5             True          True            False         False        False   \n",
       "\n",
       "   ftQrCoUrls  ftQrCoHashtags  ftQrCoBolds  ftQrCoItalics  ftQrCoUnderlines  \\\n",
       "1       False           False        False          False             False   \n",
       "4       False           False        False          False             False   \n",
       "5        True           False        False          False             False   \n",
       "\n",
       "   ftQrCoEmails  ftQrCoEmojis  \\\n",
       "1         False         False   \n",
       "4         False         False   \n",
       "5         False          True   \n",
       "\n",
       "                                      ftTrNerRoberta  \\\n",
       "1      {'per': [], 'misc': [], 'org': [], 'loc': []}   \n",
       "4  {'per': [], 'misc': [], 'org': [], 'loc': ['▁C...   \n",
       "5      {'per': [], 'misc': [], 'org': [], 'loc': []}   \n",
       "\n",
       "                                     ftTrNerBert  ftTrSenBert  \\\n",
       "1  {'per': [], 'misc': [], 'org': [], 'loc': []}          5.0   \n",
       "4  {'per': [], 'misc': [], 'org': [], 'loc': []}          5.0   \n",
       "5  {'per': [], 'misc': [], 'org': [], 'loc': []}          5.0   \n",
       "\n",
       "                                  ftSenTb author saved_from members  \\\n",
       "1  {'polarity': 0.0, 'subjectivity': 0.0}    NaN        NaN     NaN   \n",
       "4  {'polarity': 0.0, 'subjectivity': 0.0}    NaN        NaN     NaN   \n",
       "5  {'polarity': 0.0, 'subjectivity': 0.0}    NaN        NaN     NaN   \n",
       "\n",
       "  game_title game_description game_link  game_message_id  score inviter  \\\n",
       "1        NaN              NaN       NaN              NaN    NaN     NaN   \n",
       "4        NaN              NaN       NaN              NaN    NaN     NaN   \n",
       "5        NaN              NaN       NaN              NaN    NaN     NaN   \n",
       "\n",
       "  contact_vcard contact_information.first_name contact_information.last_name  \\\n",
       "1           NaN                            NaN                           NaN   \n",
       "4           NaN                            NaN                           NaN   \n",
       "5           NaN                            NaN                           NaN   \n",
       "\n",
       "  contact_information.phone_number place_name address  \n",
       "1                              NaN        NaN     NaN  \n",
       "4                              NaN        NaN     NaN  \n",
       "5                              NaN        NaN     NaN  "
      ]
     },
     "execution_count": 16,
     "metadata": {},
     "output_type": "execute_result"
    }
   ],
   "source": [
    "dfAllDataMessages.head(3)"
   ]
  },
  {
   "cell_type": "markdown",
   "id": "indie-bullet",
   "metadata": {
    "papermill": {
     "duration": 0.033997,
     "end_time": "2021-03-27T09:35:30.115990",
     "exception": false,
     "start_time": "2021-03-27T09:35:30.081993",
     "status": "completed"
    },
    "tags": []
   },
   "source": [
    "### Daten aufbereiten"
   ]
  },
  {
   "cell_type": "markdown",
   "id": "unexpected-shanghai",
   "metadata": {
    "papermill": {
     "duration": 0.033921,
     "end_time": "2021-03-27T09:35:30.183807",
     "exception": false,
     "start_time": "2021-03-27T09:35:30.149886",
     "status": "completed"
    },
    "tags": []
   },
   "source": [
    "#### Classifier Features"
   ]
  },
  {
   "cell_type": "code",
   "execution_count": 17,
   "id": "growing-allowance",
   "metadata": {
    "execution": {
     "iopub.execute_input": "2021-03-27T09:35:30.261702Z",
     "iopub.status.busy": "2021-03-27T09:35:30.256139Z",
     "iopub.status.idle": "2021-03-27T09:35:30.273225Z",
     "shell.execute_reply": "2021-03-27T09:35:30.272650Z"
    },
    "papermill": {
     "duration": 0.055414,
     "end_time": "2021-03-27T09:35:30.273368",
     "exception": false,
     "start_time": "2021-03-27T09:35:30.217954",
     "status": "completed"
    },
    "tags": []
   },
   "outputs": [],
   "source": [
    "targetDf = dfAllDataMessages\n",
    "\n",
    "targetDf['clFrom']    = targetDf['from']\n",
    "targetDf['clFromId']  = targetDf['from'].factorize()[0]\n",
    "targetDf['clText']    = targetDf['ftTdCleanText']"
   ]
  },
  {
   "cell_type": "code",
   "execution_count": 18,
   "id": "internal-woman",
   "metadata": {
    "execution": {
     "iopub.execute_input": "2021-03-27T09:35:30.358563Z",
     "iopub.status.busy": "2021-03-27T09:35:30.354704Z",
     "iopub.status.idle": "2021-03-27T09:35:30.556972Z",
     "shell.execute_reply": "2021-03-27T09:35:30.556377Z"
    },
    "papermill": {
     "duration": 0.249175,
     "end_time": "2021-03-27T09:35:30.557128",
     "exception": false,
     "start_time": "2021-03-27T09:35:30.307953",
     "status": "completed"
    },
    "tags": []
   },
   "outputs": [
    {
     "data": {
      "image/png": "[encoded data removed]",
      "text/plain": [
       "<Figure size 432x288 with 1 Axes>"
      ]
     },
     "metadata": {},
     "output_type": "display_data"
    }
   ],
   "source": [
    "_ = targetDf['clFrom'].value_counts().plot.bar()"
   ]
  },
  {
   "cell_type": "code",
   "execution_count": 19,
   "id": "featured-greensboro",
   "metadata": {
    "execution": {
     "iopub.execute_input": "2021-03-27T09:35:30.635782Z",
     "iopub.status.busy": "2021-03-27T09:35:30.635213Z",
     "iopub.status.idle": "2021-03-27T09:35:30.638193Z",
     "shell.execute_reply": "2021-03-27T09:35:30.638621Z"
    },
    "papermill": {
     "duration": 0.04463,
     "end_time": "2021-03-27T09:35:30.638770",
     "exception": false,
     "start_time": "2021-03-27T09:35:30.594140",
     "status": "completed"
    },
    "tags": []
   },
   "outputs": [
    {
     "data": {
      "text/plain": [
       "1                   Dann schreiben wir mal Geschichte!\n",
       "4    Das Video sollte jeder von euch schauen und ve...\n",
       "5                                SCHAUT ES EUCH AN!   \n",
       "6    Billyboy spricht schon heute, APRIL 2020, von ...\n",
       "7    Beachtet sein Grinsen am Anfang und Ende des V...\n",
       "Name: clText, dtype: object"
      ]
     },
     "execution_count": 19,
     "metadata": {},
     "output_type": "execute_result"
    }
   ],
   "source": [
    "targetDf['clText'][:5]"
   ]
  },
  {
   "cell_type": "code",
   "execution_count": 20,
   "id": "banned-nebraska",
   "metadata": {
    "execution": {
     "iopub.execute_input": "2021-03-27T09:35:30.744410Z",
     "iopub.status.busy": "2021-03-27T09:35:30.743843Z",
     "iopub.status.idle": "2021-03-27T09:35:30.748945Z",
     "shell.execute_reply": "2021-03-27T09:35:30.749376Z"
    },
    "papermill": {
     "duration": 0.046592,
     "end_time": "2021-03-27T09:35:30.749537",
     "exception": false,
     "start_time": "2021-03-27T09:35:30.702945",
     "status": "completed"
    },
    "tags": []
   },
   "outputs": [
    {
     "data": {
      "text/plain": [
       "1    30740\n",
       "0    22885\n",
       "2    14067\n",
       "3     9103\n",
       "Name: clFromId, dtype: int64"
      ]
     },
     "execution_count": 20,
     "metadata": {},
     "output_type": "execute_result"
    }
   ],
   "source": [
    "targetDf['clFromId'].value_counts()"
   ]
  },
  {
   "cell_type": "code",
   "execution_count": 21,
   "id": "mechanical-relative",
   "metadata": {
    "execution": {
     "iopub.execute_input": "2021-03-27T09:35:30.829631Z",
     "iopub.status.busy": "2021-03-27T09:35:30.829059Z",
     "iopub.status.idle": "2021-03-27T09:35:31.644258Z",
     "shell.execute_reply": "2021-03-27T09:35:31.643628Z"
    },
    "papermill": {
     "duration": 0.858146,
     "end_time": "2021-03-27T09:35:31.644420",
     "exception": false,
     "start_time": "2021-03-27T09:35:30.786274",
     "status": "completed"
    },
    "tags": []
   },
   "outputs": [],
   "source": [
    "def getSamples(df, k=9103):\n",
    "    if len(df) < k:\n",
    "        return df\n",
    "    return df.sample(k)\n",
    "\n",
    "targetDf = targetDf.groupby('clFromId').apply(getSamples).reset_index(drop=True)"
   ]
  },
  {
   "cell_type": "code",
   "execution_count": 22,
   "id": "wrong-thesis",
   "metadata": {
    "execution": {
     "iopub.execute_input": "2021-03-27T09:35:31.746706Z",
     "iopub.status.busy": "2021-03-27T09:35:31.731069Z",
     "iopub.status.idle": "2021-03-27T09:35:31.856904Z",
     "shell.execute_reply": "2021-03-27T09:35:31.856291Z"
    },
    "papermill": {
     "duration": 0.175682,
     "end_time": "2021-03-27T09:35:31.857054",
     "exception": false,
     "start_time": "2021-03-27T09:35:31.681372",
     "status": "completed"
    },
    "tags": []
   },
   "outputs": [
    {
     "data": {
      "image/png": "[encoded data removed]",
      "text/plain": [
       "<Figure size 432x288 with 1 Axes>"
      ]
     },
     "metadata": {},
     "output_type": "display_data"
    }
   ],
   "source": [
    "_ = targetDf['clFrom'].value_counts().plot.bar()"
   ]
  },
  {
   "cell_type": "markdown",
   "id": "favorite-cancellation",
   "metadata": {
    "papermill": {
     "duration": 0.037021,
     "end_time": "2021-03-27T09:35:31.931946",
     "exception": false,
     "start_time": "2021-03-27T09:35:31.894925",
     "status": "completed"
    },
    "tags": []
   },
   "source": [
    "#### Dict From Id"
   ]
  },
  {
   "cell_type": "code",
   "execution_count": 23,
   "id": "friendly-portal",
   "metadata": {
    "execution": {
     "iopub.execute_input": "2021-03-27T09:35:32.012760Z",
     "iopub.status.busy": "2021-03-27T09:35:32.012185Z",
     "iopub.status.idle": "2021-03-27T09:35:32.204401Z",
     "shell.execute_reply": "2021-03-27T09:35:32.203827Z"
    },
    "papermill": {
     "duration": 0.235041,
     "end_time": "2021-03-27T09:35:32.204565",
     "exception": false,
     "start_time": "2021-03-27T09:35:31.969524",
     "status": "completed"
    },
    "tags": []
   },
   "outputs": [],
   "source": [
    "dfFromId            = targetDf[['clFrom', 'clFromId']].drop_duplicates().sort_values('clFromId')\n",
    "\n",
    "dictFrom_to_id      = dict(dfFromId.values)\n",
    "dictId_to_from      = dict(dfFromId[['clFromId', 'clFrom']].values)"
   ]
  },
  {
   "cell_type": "code",
   "execution_count": 24,
   "id": "purple-census",
   "metadata": {
    "execution": {
     "iopub.execute_input": "2021-03-27T09:35:32.285154Z",
     "iopub.status.busy": "2021-03-27T09:35:32.284584Z",
     "iopub.status.idle": "2021-03-27T09:35:32.288020Z",
     "shell.execute_reply": "2021-03-27T09:35:32.287471Z"
    },
    "papermill": {
     "duration": 0.045381,
     "end_time": "2021-03-27T09:35:32.288148",
     "exception": false,
     "start_time": "2021-03-27T09:35:32.242767",
     "status": "completed"
    },
    "tags": []
   },
   "outputs": [
    {
     "data": {
      "text/plain": [
       "{0: 'ATTILA HILDMANN ',\n",
       " 1: 'Oliver Janich oeffentlich',\n",
       " 2: 'Eva Herman Offiziell',\n",
       " 3: 'Xavier Naidoo inoffiziell'}"
      ]
     },
     "execution_count": 24,
     "metadata": {},
     "output_type": "execute_result"
    }
   ],
   "source": [
    "dictId_to_from"
   ]
  },
  {
   "cell_type": "markdown",
   "id": "incredible-uzbekistan",
   "metadata": {
    "papermill": {
     "duration": 0.037193,
     "end_time": "2021-03-27T09:35:32.362836",
     "exception": false,
     "start_time": "2021-03-27T09:35:32.325643",
     "status": "completed"
    },
    "tags": []
   },
   "source": [
    "#### Test Train Split"
   ]
  },
  {
   "cell_type": "code",
   "execution_count": 25,
   "id": "traditional-refund",
   "metadata": {
    "execution": {
     "iopub.execute_input": "2021-03-27T09:35:32.472269Z",
     "iopub.status.busy": "2021-03-27T09:35:32.471705Z",
     "iopub.status.idle": "2021-03-27T09:35:32.496566Z",
     "shell.execute_reply": "2021-03-27T09:35:32.495994Z"
    },
    "papermill": {
     "duration": 0.096569,
     "end_time": "2021-03-27T09:35:32.496732",
     "exception": false,
     "start_time": "2021-03-27T09:35:32.400163",
     "status": "completed"
    },
    "tags": []
   },
   "outputs": [
    {
     "name": "stdout",
     "output_type": "stream",
     "text": [
      "Train size:\t29129"
     ]
    },
    {
     "name": "stdout",
     "output_type": "stream",
     "text": [
      "\n"
     ]
    },
    {
     "name": "stdout",
     "output_type": "stream",
     "text": [
      "Test size:\t7283"
     ]
    },
    {
     "name": "stdout",
     "output_type": "stream",
     "text": [
      "\n"
     ]
    }
   ],
   "source": [
    "X_train, X_test, y_train, y_test = train_test_split(targetDf['clText'], targetDf['clFrom'], random_state = 42, test_size=0.20, stratify=targetDf['clFrom'])\n",
    "\n",
    "print(\"Train size:\\t\" + str(len(X_train.index)))\n",
    "print(\"Test size:\\t\" + str(len(X_test.index)))"
   ]
  },
  {
   "cell_type": "code",
   "execution_count": 26,
   "id": "wireless-assets",
   "metadata": {
    "execution": {
     "iopub.execute_input": "2021-03-27T09:35:32.604751Z",
     "iopub.status.busy": "2021-03-27T09:35:32.604166Z",
     "iopub.status.idle": "2021-03-27T09:35:32.729568Z",
     "shell.execute_reply": "2021-03-27T09:35:32.729986Z"
    },
    "papermill": {
     "duration": 0.194469,
     "end_time": "2021-03-27T09:35:32.730171",
     "exception": false,
     "start_time": "2021-03-27T09:35:32.535702",
     "status": "completed"
    },
    "tags": []
   },
   "outputs": [
    {
     "data": {
      "image/png": "[encoded data removed]",
      "text/plain": [
       "<Figure size 432x288 with 1 Axes>"
      ]
     },
     "metadata": {},
     "output_type": "display_data"
    }
   ],
   "source": [
    "_ = y_train.value_counts().plot.bar()"
   ]
  },
  {
   "cell_type": "code",
   "execution_count": 27,
   "id": "willing-picture",
   "metadata": {
    "execution": {
     "iopub.execute_input": "2021-03-27T09:35:32.831729Z",
     "iopub.status.busy": "2021-03-27T09:35:32.830165Z",
     "iopub.status.idle": "2021-03-27T09:35:32.958805Z",
     "shell.execute_reply": "2021-03-27T09:35:32.958339Z"
    },
    "papermill": {
     "duration": 0.188876,
     "end_time": "2021-03-27T09:35:32.958956",
     "exception": false,
     "start_time": "2021-03-27T09:35:32.770080",
     "status": "completed"
    },
    "tags": []
   },
   "outputs": [
    {
     "data": {
      "image/png": "[encoded data removed]",
      "text/plain": [
       "<Figure size 432x288 with 1 Axes>"
      ]
     },
     "metadata": {},
     "output_type": "display_data"
    }
   ],
   "source": [
    "_ = y_test.value_counts().plot.bar()"
   ]
  },
  {
   "cell_type": "markdown",
   "id": "electronic-flash",
   "metadata": {
    "papermill": {
     "duration": 0.040733,
     "end_time": "2021-03-27T09:35:33.040863",
     "exception": false,
     "start_time": "2021-03-27T09:35:33.000130",
     "status": "completed"
    },
    "tags": []
   },
   "source": [
    "#### Test CountVectorizer"
   ]
  },
  {
   "cell_type": "code",
   "execution_count": 28,
   "id": "million-richmond",
   "metadata": {
    "execution": {
     "iopub.execute_input": "2021-03-27T09:35:33.125275Z",
     "iopub.status.busy": "2021-03-27T09:35:33.124727Z",
     "iopub.status.idle": "2021-03-27T09:35:33.127244Z",
     "shell.execute_reply": "2021-03-27T09:35:33.126692Z"
    },
    "papermill": {
     "duration": 0.046415,
     "end_time": "2021-03-27T09:35:33.127369",
     "exception": false,
     "start_time": "2021-03-27T09:35:33.080954",
     "status": "completed"
    },
    "tags": []
   },
   "outputs": [],
   "source": [
    "test = CountVectorizer()"
   ]
  },
  {
   "cell_type": "code",
   "execution_count": 29,
   "id": "waiting-period",
   "metadata": {
    "execution": {
     "iopub.execute_input": "2021-03-27T09:35:33.213040Z",
     "iopub.status.busy": "2021-03-27T09:35:33.212475Z",
     "iopub.status.idle": "2021-03-27T09:35:33.215500Z",
     "shell.execute_reply": "2021-03-27T09:35:33.215913Z"
    },
    "papermill": {
     "duration": 0.048476,
     "end_time": "2021-03-27T09:35:33.216052",
     "exception": false,
     "start_time": "2021-03-27T09:35:33.167576",
     "status": "completed"
    },
    "tags": []
   },
   "outputs": [
    {
     "data": {
      "text/plain": [
       "array([[3, 2, 1, 1]])"
      ]
     },
     "execution_count": 29,
     "metadata": {},
     "output_type": "execute_result"
    }
   ],
   "source": [
    "d1 = test.fit_transform([\"Word1 Word2 Word3 Word4 Word1 Word2 Word1\"])\n",
    "d1.toarray()"
   ]
  },
  {
   "cell_type": "code",
   "execution_count": 30,
   "id": "passive-coating",
   "metadata": {
    "execution": {
     "iopub.execute_input": "2021-03-27T09:35:33.301569Z",
     "iopub.status.busy": "2021-03-27T09:35:33.301020Z",
     "iopub.status.idle": "2021-03-27T09:35:33.304359Z",
     "shell.execute_reply": "2021-03-27T09:35:33.303887Z"
    },
    "papermill": {
     "duration": 0.047295,
     "end_time": "2021-03-27T09:35:33.304477",
     "exception": false,
     "start_time": "2021-03-27T09:35:33.257182",
     "status": "completed"
    },
    "tags": []
   },
   "outputs": [
    {
     "data": {
      "text/plain": [
       "['word1', 'word2', 'word3', 'word4']"
      ]
     },
     "execution_count": 30,
     "metadata": {},
     "output_type": "execute_result"
    }
   ],
   "source": [
    "test.get_feature_names()"
   ]
  },
  {
   "cell_type": "code",
   "execution_count": 31,
   "id": "wrong-korea",
   "metadata": {
    "execution": {
     "iopub.execute_input": "2021-03-27T09:35:33.390926Z",
     "iopub.status.busy": "2021-03-27T09:35:33.390375Z",
     "iopub.status.idle": "2021-03-27T09:35:33.393852Z",
     "shell.execute_reply": "2021-03-27T09:35:33.393379Z"
    },
    "papermill": {
     "duration": 0.04844,
     "end_time": "2021-03-27T09:35:33.393977",
     "exception": false,
     "start_time": "2021-03-27T09:35:33.345537",
     "status": "completed"
    },
    "tags": []
   },
   "outputs": [
    {
     "data": {
      "text/plain": [
       "array([[2, 0, 1, 0]])"
      ]
     },
     "execution_count": 31,
     "metadata": {},
     "output_type": "execute_result"
    }
   ],
   "source": [
    "d2 = test.transform([\"Word1 Wrong Word3 Wrong Word1\"])\n",
    "d2.toarray()"
   ]
  },
  {
   "cell_type": "code",
   "execution_count": 32,
   "id": "rental-allowance",
   "metadata": {
    "execution": {
     "iopub.execute_input": "2021-03-27T09:35:33.481782Z",
     "iopub.status.busy": "2021-03-27T09:35:33.481231Z",
     "iopub.status.idle": "2021-03-27T09:35:33.484638Z",
     "shell.execute_reply": "2021-03-27T09:35:33.484064Z"
    },
    "papermill": {
     "duration": 0.04972,
     "end_time": "2021-03-27T09:35:33.484769",
     "exception": false,
     "start_time": "2021-03-27T09:35:33.435049",
     "status": "completed"
    },
    "tags": []
   },
   "outputs": [
    {
     "data": {
      "text/plain": [
       "{'analyzer': 'word',\n",
       " 'binary': False,\n",
       " 'decode_error': 'strict',\n",
       " 'dtype': numpy.int64,\n",
       " 'encoding': 'utf-8',\n",
       " 'input': 'content',\n",
       " 'lowercase': True,\n",
       " 'max_df': 1.0,\n",
       " 'max_features': None,\n",
       " 'min_df': 1,\n",
       " 'ngram_range': (1, 1),\n",
       " 'preprocessor': None,\n",
       " 'stop_words': None,\n",
       " 'strip_accents': None,\n",
       " 'token_pattern': '(?u)\\\\b\\\\w\\\\w+\\\\b',\n",
       " 'tokenizer': None,\n",
       " 'vocabulary': None}"
      ]
     },
     "execution_count": 32,
     "metadata": {},
     "output_type": "execute_result"
    }
   ],
   "source": [
    "test.get_params()"
   ]
  },
  {
   "cell_type": "markdown",
   "id": "based-swift",
   "metadata": {
    "papermill": {
     "duration": 0.041448,
     "end_time": "2021-03-27T09:35:33.568235",
     "exception": false,
     "start_time": "2021-03-27T09:35:33.526787",
     "status": "completed"
    },
    "tags": []
   },
   "source": [
    "#### Test TfidfTransformer"
   ]
  },
  {
   "cell_type": "code",
   "execution_count": 33,
   "id": "thousand-landing",
   "metadata": {
    "execution": {
     "iopub.execute_input": "2021-03-27T09:35:33.655599Z",
     "iopub.status.busy": "2021-03-27T09:35:33.655045Z",
     "iopub.status.idle": "2021-03-27T09:35:33.657214Z",
     "shell.execute_reply": "2021-03-27T09:35:33.657670Z"
    },
    "papermill": {
     "duration": 0.047796,
     "end_time": "2021-03-27T09:35:33.657835",
     "exception": false,
     "start_time": "2021-03-27T09:35:33.610039",
     "status": "completed"
    },
    "tags": []
   },
   "outputs": [],
   "source": [
    "test = TfidfTransformer()"
   ]
  },
  {
   "cell_type": "code",
   "execution_count": 34,
   "id": "liquid-desire",
   "metadata": {
    "execution": {
     "iopub.execute_input": "2021-03-27T09:35:33.753888Z",
     "iopub.status.busy": "2021-03-27T09:35:33.753314Z",
     "iopub.status.idle": "2021-03-27T09:35:33.756675Z",
     "shell.execute_reply": "2021-03-27T09:35:33.756196Z"
    },
    "papermill": {
     "duration": 0.055852,
     "end_time": "2021-03-27T09:35:33.756805",
     "exception": false,
     "start_time": "2021-03-27T09:35:33.700953",
     "status": "completed"
    },
    "tags": []
   },
   "outputs": [
    {
     "data": {
      "text/plain": [
       "array([[0.77459667, 0.51639778, 0.25819889, 0.25819889]])"
      ]
     },
     "execution_count": 34,
     "metadata": {},
     "output_type": "execute_result"
    }
   ],
   "source": [
    "test.fit_transform(d1).toarray()"
   ]
  },
  {
   "cell_type": "code",
   "execution_count": 35,
   "id": "guided-fraud",
   "metadata": {
    "execution": {
     "iopub.execute_input": "2021-03-27T09:35:33.847538Z",
     "iopub.status.busy": "2021-03-27T09:35:33.846972Z",
     "iopub.status.idle": "2021-03-27T09:35:33.850203Z",
     "shell.execute_reply": "2021-03-27T09:35:33.849740Z"
    },
    "papermill": {
     "duration": 0.050337,
     "end_time": "2021-03-27T09:35:33.850327",
     "exception": false,
     "start_time": "2021-03-27T09:35:33.799990",
     "status": "completed"
    },
    "tags": []
   },
   "outputs": [
    {
     "data": {
      "text/plain": [
       "array([[0.89442719, 0.        , 0.4472136 , 0.        ]])"
      ]
     },
     "execution_count": 35,
     "metadata": {},
     "output_type": "execute_result"
    }
   ],
   "source": [
    "test.transform(d2).toarray()"
   ]
  },
  {
   "cell_type": "markdown",
   "id": "married-wealth",
   "metadata": {
    "papermill": {
     "duration": 0.043711,
     "end_time": "2021-03-27T09:35:33.938146",
     "exception": false,
     "start_time": "2021-03-27T09:35:33.894435",
     "status": "completed"
    },
    "tags": []
   },
   "source": [
    "### Tranieren und Evaluieren"
   ]
  },
  {
   "cell_type": "code",
   "execution_count": 36,
   "id": "certain-morgan",
   "metadata": {
    "execution": {
     "iopub.execute_input": "2021-03-27T09:35:34.030487Z",
     "iopub.status.busy": "2021-03-27T09:35:34.029907Z",
     "iopub.status.idle": "2021-03-27T09:35:36.072117Z",
     "shell.execute_reply": "2021-03-27T09:35:36.071547Z"
    },
    "papermill": {
     "duration": 2.090333,
     "end_time": "2021-03-27T09:35:36.072265",
     "exception": false,
     "start_time": "2021-03-27T09:35:33.981932",
     "status": "completed"
    },
    "tags": []
   },
   "outputs": [
    {
     "name": "stdout",
     "output_type": "stream",
     "text": [
      "[Stopwatch started >>Transform messages<<]"
     ]
    },
    {
     "name": "stdout",
     "output_type": "stream",
     "text": [
      "\n"
     ]
    },
    {
     "name": "stdout",
     "output_type": "stream",
     "text": [
      "[Stopwatch stopped >>Transform messages<< (2.037s)]"
     ]
    },
    {
     "name": "stdout",
     "output_type": "stream",
     "text": [
      "\n"
     ]
    }
   ],
   "source": [
    "gloStartStopwatch(\"Transform messages\")\n",
    "\n",
    "count_vect          = CountVectorizer()\n",
    "tfidf_transformer   = TfidfTransformer()\n",
    "\n",
    "# Transform and fit train\n",
    "X_train_counts      = count_vect.fit_transform(X_train)\n",
    "X_train_tfidf       = tfidf_transformer.fit_transform(X_train_counts)\n",
    "\n",
    "# Transform test\n",
    "X_test_counts       = count_vect.transform(X_test)\n",
    "X_test_tfidf        = tfidf_transformer.transform(X_test_counts)\n",
    "\n",
    "gloStopStopwatch(\"Transform messages\")"
   ]
  },
  {
   "cell_type": "code",
   "execution_count": 37,
   "id": "crazy-department",
   "metadata": {
    "execution": {
     "iopub.execute_input": "2021-03-27T09:35:36.168876Z",
     "iopub.status.busy": "2021-03-27T09:35:36.168270Z",
     "iopub.status.idle": "2021-03-27T09:35:36.170867Z",
     "shell.execute_reply": "2021-03-27T09:35:36.170418Z"
    },
    "papermill": {
     "duration": 0.053973,
     "end_time": "2021-03-27T09:35:36.170996",
     "exception": false,
     "start_time": "2021-03-27T09:35:36.117023",
     "status": "completed"
    },
    "tags": []
   },
   "outputs": [],
   "source": [
    "def trainAndEvalModel(model, outputFilename):\n",
    "\n",
    "    gloStartStopwatch(\"- Train now model \" + str(model))\n",
    "    model.fit(X_train_tfidf, y_train)\n",
    "    gloStopStopwatch(\"- Train now model \" + str(model))\n",
    "\n",
    "    searchStrings = [\"Folge Attila Hildmann\", \"Liebe Eva\", \"Premium Kanal\", \"OneLove\"]\n",
    "\n",
    "    for sS in searchStrings:\n",
    "\n",
    "        sS = str(sS)\n",
    "        print()\n",
    "        print(\"Who has written '\" + sS + \"'?\")\n",
    "        t = tfidf_transformer.transform(count_vect.transform([sS]))\n",
    "        r = model.predict(t)\n",
    "        print(str(r))\n",
    "\n",
    "    y_pred_train        = model.predict(X_train_tfidf)\n",
    "    y_pred_test         = model.predict(X_test_tfidf)\n",
    "\n",
    "    print()\n",
    "    print(\"Train Score:\\t\"  + str(accuracy_score(y_true=y_train, y_pred=y_pred_train)))\n",
    "    print(\"Test Score:\\t\"   + str(accuracy_score(y_true=y_test, y_pred=y_pred_test)))\n",
    "\n",
    "    print()\n",
    "    print(\"Confusion Matrix on test:\")   \n",
    "    conf_mat = confusion_matrix(y_true = y_test, y_pred = y_pred_test)\n",
    "    fig, ax  = plt.subplots(figsize=(9,9))\n",
    "\n",
    "    sns.heatmap(conf_mat, annot=True, fmt='d',\n",
    "                xticklabels=dfFromId.clFrom.values, yticklabels=dfFromId.clFrom.values)\n",
    "                \n",
    "    plt.ylabel('Actual')\n",
    "    plt.xlabel('Predicted')\n",
    "    \n",
    "    plt.xticks(rotation=45)\n",
    "    plt.yticks(rotation=45)\n",
    "\n",
    "    if(outputFilename != \"\"):\n",
    "        plt.savefig(dir_var_output + outputFilename)\n",
    "\n",
    "    plt.show()"
   ]
  },
  {
   "cell_type": "markdown",
   "id": "latter-david",
   "metadata": {
    "papermill": {
     "duration": 0.043358,
     "end_time": "2021-03-27T09:35:36.257638",
     "exception": false,
     "start_time": "2021-03-27T09:35:36.214280",
     "status": "completed"
    },
    "tags": []
   },
   "source": [
    "#### LinearSVC"
   ]
  },
  {
   "cell_type": "code",
   "execution_count": 38,
   "id": "distinct-island",
   "metadata": {
    "execution": {
     "iopub.execute_input": "2021-03-27T09:35:36.348036Z",
     "iopub.status.busy": "2021-03-27T09:35:36.347493Z",
     "iopub.status.idle": "2021-03-27T09:35:37.878840Z",
     "shell.execute_reply": "2021-03-27T09:35:37.879303Z"
    },
    "papermill": {
     "duration": 1.578256,
     "end_time": "2021-03-27T09:35:37.879499",
     "exception": false,
     "start_time": "2021-03-27T09:35:36.301243",
     "status": "completed"
    },
    "tags": []
   },
   "outputs": [
    {
     "name": "stdout",
     "output_type": "stream",
     "text": [
      "[Stopwatch started >>- Train now model LinearSVC()<<]"
     ]
    },
    {
     "name": "stdout",
     "output_type": "stream",
     "text": [
      "\n"
     ]
    },
    {
     "name": "stdout",
     "output_type": "stream",
     "text": [
      "[Stopwatch stopped >>- Train now model LinearSVC()<< (1.017s)]"
     ]
    },
    {
     "name": "stdout",
     "output_type": "stream",
     "text": [
      "\n"
     ]
    },
    {
     "name": "stdout",
     "output_type": "stream",
     "text": [
      "\n"
     ]
    },
    {
     "name": "stdout",
     "output_type": "stream",
     "text": [
      "Who has written 'Folge Attila Hildmann'?"
     ]
    },
    {
     "name": "stdout",
     "output_type": "stream",
     "text": [
      "\n"
     ]
    },
    {
     "name": "stdout",
     "output_type": "stream",
     "text": [
      "['ATTILA HILDMANN ']"
     ]
    },
    {
     "name": "stdout",
     "output_type": "stream",
     "text": [
      "\n"
     ]
    },
    {
     "name": "stdout",
     "output_type": "stream",
     "text": [
      "\n"
     ]
    },
    {
     "name": "stdout",
     "output_type": "stream",
     "text": [
      "Who has written 'Liebe Eva'?"
     ]
    },
    {
     "name": "stdout",
     "output_type": "stream",
     "text": [
      "\n"
     ]
    },
    {
     "name": "stdout",
     "output_type": "stream",
     "text": [
      "['Eva Herman Offiziell']"
     ]
    },
    {
     "name": "stdout",
     "output_type": "stream",
     "text": [
      "\n"
     ]
    },
    {
     "name": "stdout",
     "output_type": "stream",
     "text": [
      "\n"
     ]
    },
    {
     "name": "stdout",
     "output_type": "stream",
     "text": [
      "Who has written 'Premium Kanal'?"
     ]
    },
    {
     "name": "stdout",
     "output_type": "stream",
     "text": [
      "\n"
     ]
    },
    {
     "name": "stdout",
     "output_type": "stream",
     "text": [
      "['Oliver Janich oeffentlich']"
     ]
    },
    {
     "name": "stdout",
     "output_type": "stream",
     "text": [
      "\n"
     ]
    },
    {
     "name": "stdout",
     "output_type": "stream",
     "text": [
      "\n"
     ]
    },
    {
     "name": "stdout",
     "output_type": "stream",
     "text": [
      "Who has written 'OneLove'?"
     ]
    },
    {
     "name": "stdout",
     "output_type": "stream",
     "text": [
      "\n"
     ]
    },
    {
     "name": "stdout",
     "output_type": "stream",
     "text": [
      "['Xavier Naidoo inoffiziell']"
     ]
    },
    {
     "name": "stdout",
     "output_type": "stream",
     "text": [
      "\n"
     ]
    },
    {
     "name": "stdout",
     "output_type": "stream",
     "text": [
      "\n"
     ]
    },
    {
     "name": "stdout",
     "output_type": "stream",
     "text": [
      "Train Score:\t0.9570874386350372"
     ]
    },
    {
     "name": "stdout",
     "output_type": "stream",
     "text": [
      "\n"
     ]
    },
    {
     "name": "stdout",
     "output_type": "stream",
     "text": [
      "Test Score:\t0.6888644789235205"
     ]
    },
    {
     "name": "stdout",
     "output_type": "stream",
     "text": [
      "\n"
     ]
    },
    {
     "name": "stdout",
     "output_type": "stream",
     "text": [
      "\n"
     ]
    },
    {
     "name": "stdout",
     "output_type": "stream",
     "text": [
      "Confusion Matrix on test:"
     ]
    },
    {
     "name": "stdout",
     "output_type": "stream",
     "text": [
      "\n"
     ]
    },
    {
     "data": {
      "image/png": "[encoded data removed]",
      "text/plain": [
       "<Figure size 648x648 with 2 Axes>"
      ]
     },
     "metadata": {},
     "output_type": "display_data"
    }
   ],
   "source": [
    "trainAndEvalModel(LinearSVC(), \"class-linearsvc.svg\")"
   ]
  },
  {
   "cell_type": "markdown",
   "id": "creative-boating",
   "metadata": {
    "papermill": {
     "duration": 0.052468,
     "end_time": "2021-03-27T09:35:37.985845",
     "exception": false,
     "start_time": "2021-03-27T09:35:37.933377",
     "status": "completed"
    },
    "tags": []
   },
   "source": [
    "#### MultinomialNB"
   ]
  },
  {
   "cell_type": "code",
   "execution_count": 39,
   "id": "exciting-banana",
   "metadata": {
    "execution": {
     "iopub.execute_input": "2021-03-27T09:35:38.096367Z",
     "iopub.status.busy": "2021-03-27T09:35:38.095813Z",
     "iopub.status.idle": "2021-03-27T09:35:38.732190Z",
     "shell.execute_reply": "2021-03-27T09:35:38.732669Z"
    },
    "papermill": {
     "duration": 0.693782,
     "end_time": "2021-03-27T09:35:38.732865",
     "exception": false,
     "start_time": "2021-03-27T09:35:38.039083",
     "status": "completed"
    },
    "tags": []
   },
   "outputs": [
    {
     "name": "stdout",
     "output_type": "stream",
     "text": [
      "[Stopwatch started >>- Train now model MultinomialNB()<<]"
     ]
    },
    {
     "name": "stdout",
     "output_type": "stream",
     "text": [
      "\n"
     ]
    },
    {
     "name": "stdout",
     "output_type": "stream",
     "text": [
      "[Stopwatch stopped >>- Train now model MultinomialNB()<< (0.139s)]"
     ]
    },
    {
     "name": "stdout",
     "output_type": "stream",
     "text": [
      "\n"
     ]
    },
    {
     "name": "stdout",
     "output_type": "stream",
     "text": [
      "\n"
     ]
    },
    {
     "name": "stdout",
     "output_type": "stream",
     "text": [
      "Who has written 'Folge Attila Hildmann'?"
     ]
    },
    {
     "name": "stdout",
     "output_type": "stream",
     "text": [
      "\n"
     ]
    },
    {
     "name": "stdout",
     "output_type": "stream",
     "text": [
      "['ATTILA HILDMANN ']"
     ]
    },
    {
     "name": "stdout",
     "output_type": "stream",
     "text": [
      "\n"
     ]
    },
    {
     "name": "stdout",
     "output_type": "stream",
     "text": [
      "\n"
     ]
    },
    {
     "name": "stdout",
     "output_type": "stream",
     "text": [
      "Who has written 'Liebe Eva'?"
     ]
    },
    {
     "name": "stdout",
     "output_type": "stream",
     "text": [
      "\n"
     ]
    },
    {
     "name": "stdout",
     "output_type": "stream",
     "text": [
      "['Eva Herman Offiziell']"
     ]
    },
    {
     "name": "stdout",
     "output_type": "stream",
     "text": [
      "\n"
     ]
    },
    {
     "name": "stdout",
     "output_type": "stream",
     "text": [
      "\n"
     ]
    },
    {
     "name": "stdout",
     "output_type": "stream",
     "text": [
      "Who has written 'Premium Kanal'?"
     ]
    },
    {
     "name": "stdout",
     "output_type": "stream",
     "text": [
      "\n"
     ]
    },
    {
     "name": "stdout",
     "output_type": "stream",
     "text": [
      "['Oliver Janich oeffentlich']"
     ]
    },
    {
     "name": "stdout",
     "output_type": "stream",
     "text": [
      "\n"
     ]
    },
    {
     "name": "stdout",
     "output_type": "stream",
     "text": [
      "\n"
     ]
    },
    {
     "name": "stdout",
     "output_type": "stream",
     "text": [
      "Who has written 'OneLove'?"
     ]
    },
    {
     "name": "stdout",
     "output_type": "stream",
     "text": [
      "\n"
     ]
    },
    {
     "name": "stdout",
     "output_type": "stream",
     "text": [
      "['Xavier Naidoo inoffiziell']"
     ]
    },
    {
     "name": "stdout",
     "output_type": "stream",
     "text": [
      "\n"
     ]
    },
    {
     "name": "stdout",
     "output_type": "stream",
     "text": [
      "\n"
     ]
    },
    {
     "name": "stdout",
     "output_type": "stream",
     "text": [
      "Train Score:\t0.791444951766281"
     ]
    },
    {
     "name": "stdout",
     "output_type": "stream",
     "text": [
      "\n"
     ]
    },
    {
     "name": "stdout",
     "output_type": "stream",
     "text": [
      "Test Score:\t0.6583825346697789"
     ]
    },
    {
     "name": "stdout",
     "output_type": "stream",
     "text": [
      "\n"
     ]
    },
    {
     "name": "stdout",
     "output_type": "stream",
     "text": [
      "\n"
     ]
    },
    {
     "name": "stdout",
     "output_type": "stream",
     "text": [
      "Confusion Matrix on test:"
     ]
    },
    {
     "name": "stdout",
     "output_type": "stream",
     "text": [
      "\n"
     ]
    },
    {
     "data": {
      "image/png": "[encoded data removed]",
      "text/plain": [
       "<Figure size 648x648 with 2 Axes>"
      ]
     },
     "metadata": {},
     "output_type": "display_data"
    }
   ],
   "source": [
    "trainAndEvalModel(MultinomialNB(), \"class-multinomialnb.svg\")"
   ]
  },
  {
   "cell_type": "markdown",
   "id": "amateur-perth",
   "metadata": {
    "papermill": {
     "duration": 0.061749,
     "end_time": "2021-03-27T09:35:38.857977",
     "exception": false,
     "start_time": "2021-03-27T09:35:38.796228",
     "status": "completed"
    },
    "tags": []
   },
   "source": [
    "#### LogisticRegression"
   ]
  },
  {
   "cell_type": "code",
   "execution_count": 40,
   "id": "express-settle",
   "metadata": {
    "execution": {
     "iopub.execute_input": "2021-03-27T09:35:38.986649Z",
     "iopub.status.busy": "2021-03-27T09:35:38.986103Z",
     "iopub.status.idle": "2021-03-27T09:35:46.851157Z",
     "shell.execute_reply": "2021-03-27T09:35:46.850581Z"
    },
    "papermill": {
     "duration": 7.931074,
     "end_time": "2021-03-27T09:35:46.851308",
     "exception": false,
     "start_time": "2021-03-27T09:35:38.920234",
     "status": "completed"
    },
    "tags": []
   },
   "outputs": [
    {
     "name": "stdout",
     "output_type": "stream",
     "text": [
      "[Stopwatch started >>- Train now model LogisticRegression()<<]"
     ]
    },
    {
     "name": "stdout",
     "output_type": "stream",
     "text": [
      "\n"
     ]
    },
    {
     "name": "stderr",
     "output_type": "stream",
     "text": [
      "/opt/conda/lib/python3.8/site-packages/sklearn/linear_model/_logistic.py:763: ConvergenceWarning: lbfgs failed to converge (status=1):\n",
      "STOP: TOTAL NO. of ITERATIONS REACHED LIMIT.\n",
      "\n",
      "Increase the number of iterations (max_iter) or scale the data as shown in:\n",
      "    https://scikit-learn.org/stable/modules/preprocessing.html\n",
      "Please also refer to the documentation for alternative solver options:\n",
      "    https://scikit-learn.org/stable/modules/linear_model.html#logistic-regression\n",
      "  n_iter_i = _check_optimize_result(\n"
     ]
    },
    {
     "name": "stdout",
     "output_type": "stream",
     "text": [
      "[Stopwatch stopped >>- Train now model LogisticRegression()<< (7.351s)]"
     ]
    },
    {
     "name": "stdout",
     "output_type": "stream",
     "text": [
      "\n"
     ]
    },
    {
     "name": "stdout",
     "output_type": "stream",
     "text": [
      "\n"
     ]
    },
    {
     "name": "stdout",
     "output_type": "stream",
     "text": [
      "Who has written 'Folge Attila Hildmann'?"
     ]
    },
    {
     "name": "stdout",
     "output_type": "stream",
     "text": [
      "\n"
     ]
    },
    {
     "name": "stdout",
     "output_type": "stream",
     "text": [
      "['ATTILA HILDMANN ']"
     ]
    },
    {
     "name": "stdout",
     "output_type": "stream",
     "text": [
      "\n"
     ]
    },
    {
     "name": "stdout",
     "output_type": "stream",
     "text": [
      "\n"
     ]
    },
    {
     "name": "stdout",
     "output_type": "stream",
     "text": [
      "Who has written 'Liebe Eva'?"
     ]
    },
    {
     "name": "stdout",
     "output_type": "stream",
     "text": [
      "\n"
     ]
    },
    {
     "name": "stdout",
     "output_type": "stream",
     "text": [
      "['Eva Herman Offiziell']"
     ]
    },
    {
     "name": "stdout",
     "output_type": "stream",
     "text": [
      "\n"
     ]
    },
    {
     "name": "stdout",
     "output_type": "stream",
     "text": [
      "\n"
     ]
    },
    {
     "name": "stdout",
     "output_type": "stream",
     "text": [
      "Who has written 'Premium Kanal'?"
     ]
    },
    {
     "name": "stdout",
     "output_type": "stream",
     "text": [
      "\n"
     ]
    },
    {
     "name": "stdout",
     "output_type": "stream",
     "text": [
      "['Oliver Janich oeffentlich']"
     ]
    },
    {
     "name": "stdout",
     "output_type": "stream",
     "text": [
      "\n"
     ]
    },
    {
     "name": "stdout",
     "output_type": "stream",
     "text": [
      "\n"
     ]
    },
    {
     "name": "stdout",
     "output_type": "stream",
     "text": [
      "Who has written 'OneLove'?"
     ]
    },
    {
     "name": "stdout",
     "output_type": "stream",
     "text": [
      "\n"
     ]
    },
    {
     "name": "stdout",
     "output_type": "stream",
     "text": [
      "['Xavier Naidoo inoffiziell']"
     ]
    },
    {
     "name": "stdout",
     "output_type": "stream",
     "text": [
      "\n"
     ]
    },
    {
     "name": "stdout",
     "output_type": "stream",
     "text": [
      "\n"
     ]
    },
    {
     "name": "stdout",
     "output_type": "stream",
     "text": [
      "Train Score:\t0.854818222390058"
     ]
    },
    {
     "name": "stdout",
     "output_type": "stream",
     "text": [
      "\n"
     ]
    },
    {
     "name": "stdout",
     "output_type": "stream",
     "text": [
      "Test Score:\t0.6969655361801456"
     ]
    },
    {
     "name": "stdout",
     "output_type": "stream",
     "text": [
      "\n"
     ]
    },
    {
     "name": "stdout",
     "output_type": "stream",
     "text": [
      "\n"
     ]
    },
    {
     "name": "stdout",
     "output_type": "stream",
     "text": [
      "Confusion Matrix on test:"
     ]
    },
    {
     "name": "stdout",
     "output_type": "stream",
     "text": [
      "\n"
     ]
    },
    {
     "data": {
      "image/png": "[encoded data removed]",
      "text/plain": [
       "<Figure size 648x648 with 2 Axes>"
      ]
     },
     "metadata": {},
     "output_type": "display_data"
    }
   ],
   "source": [
    "trainAndEvalModel(LogisticRegression(), \"class-logisticregression.svg\")"
   ]
  },
  {
   "cell_type": "markdown",
   "id": "diagnostic-falls",
   "metadata": {
    "papermill": {
     "duration": 0.072225,
     "end_time": "2021-03-27T09:35:46.996434",
     "exception": false,
     "start_time": "2021-03-27T09:35:46.924209",
     "status": "completed"
    },
    "tags": []
   },
   "source": [
    "#### MLPClassifier"
   ]
  },
  {
   "cell_type": "code",
   "execution_count": 41,
   "id": "sitting-evanescence",
   "metadata": {
    "execution": {
     "iopub.execute_input": "2021-03-27T09:35:47.144034Z",
     "iopub.status.busy": "2021-03-27T09:35:47.143489Z",
     "iopub.status.idle": "2021-03-27T10:56:53.098710Z",
     "shell.execute_reply": "2021-03-27T10:56:53.098232Z"
    },
    "papermill": {
     "duration": 4866.03054,
     "end_time": "2021-03-27T10:56:53.098865",
     "exception": false,
     "start_time": "2021-03-27T09:35:47.068325",
     "status": "completed"
    },
    "tags": []
   },
   "outputs": [
    {
     "name": "stdout",
     "output_type": "stream",
     "text": [
      "[Stopwatch started >>- Train now model MLPClassifier()<<]"
     ]
    },
    {
     "name": "stdout",
     "output_type": "stream",
     "text": [
      "\n"
     ]
    },
    {
     "name": "stdout",
     "output_type": "stream",
     "text": [
      "[Stopwatch stopped >>- Train now model MLPClassifier()<< (4865.285s)]"
     ]
    },
    {
     "name": "stdout",
     "output_type": "stream",
     "text": [
      "\n"
     ]
    },
    {
     "name": "stdout",
     "output_type": "stream",
     "text": [
      "\n"
     ]
    },
    {
     "name": "stdout",
     "output_type": "stream",
     "text": [
      "Who has written 'Folge Attila Hildmann'?"
     ]
    },
    {
     "name": "stdout",
     "output_type": "stream",
     "text": [
      "\n"
     ]
    },
    {
     "name": "stdout",
     "output_type": "stream",
     "text": [
      "['Xavier Naidoo inoffiziell']"
     ]
    },
    {
     "name": "stdout",
     "output_type": "stream",
     "text": [
      "\n"
     ]
    },
    {
     "name": "stdout",
     "output_type": "stream",
     "text": [
      "\n"
     ]
    },
    {
     "name": "stdout",
     "output_type": "stream",
     "text": [
      "Who has written 'Liebe Eva'?"
     ]
    },
    {
     "name": "stdout",
     "output_type": "stream",
     "text": [
      "\n"
     ]
    },
    {
     "name": "stdout",
     "output_type": "stream",
     "text": [
      "['Eva Herman Offiziell']"
     ]
    },
    {
     "name": "stdout",
     "output_type": "stream",
     "text": [
      "\n"
     ]
    },
    {
     "name": "stdout",
     "output_type": "stream",
     "text": [
      "\n"
     ]
    },
    {
     "name": "stdout",
     "output_type": "stream",
     "text": [
      "Who has written 'Premium Kanal'?"
     ]
    },
    {
     "name": "stdout",
     "output_type": "stream",
     "text": [
      "\n"
     ]
    },
    {
     "name": "stdout",
     "output_type": "stream",
     "text": [
      "['Oliver Janich oeffentlich']"
     ]
    },
    {
     "name": "stdout",
     "output_type": "stream",
     "text": [
      "\n"
     ]
    },
    {
     "name": "stdout",
     "output_type": "stream",
     "text": [
      "\n"
     ]
    },
    {
     "name": "stdout",
     "output_type": "stream",
     "text": [
      "Who has written 'OneLove'?"
     ]
    },
    {
     "name": "stdout",
     "output_type": "stream",
     "text": [
      "\n"
     ]
    },
    {
     "name": "stdout",
     "output_type": "stream",
     "text": [
      "['Xavier Naidoo inoffiziell']"
     ]
    },
    {
     "name": "stdout",
     "output_type": "stream",
     "text": [
      "\n"
     ]
    },
    {
     "name": "stdout",
     "output_type": "stream",
     "text": [
      "\n"
     ]
    },
    {
     "name": "stdout",
     "output_type": "stream",
     "text": [
      "Train Score:\t0.976895876961104"
     ]
    },
    {
     "name": "stdout",
     "output_type": "stream",
     "text": [
      "\n"
     ]
    },
    {
     "name": "stdout",
     "output_type": "stream",
     "text": [
      "Test Score:\t0.646848826033228"
     ]
    },
    {
     "name": "stdout",
     "output_type": "stream",
     "text": [
      "\n"
     ]
    },
    {
     "name": "stdout",
     "output_type": "stream",
     "text": [
      "\n"
     ]
    },
    {
     "name": "stdout",
     "output_type": "stream",
     "text": [
      "Confusion Matrix on test:"
     ]
    },
    {
     "name": "stdout",
     "output_type": "stream",
     "text": [
      "\n"
     ]
    },
    {
     "data": {
      "image/png": "[encoded data removed]",
      "text/plain": [
       "<Figure size 648x648 with 2 Axes>"
      ]
     },
     "metadata": {},
     "output_type": "display_data"
    }
   ],
   "source": [
    "trainAndEvalModel(MLPClassifier(), \"class-mlp.svg\")"
   ]
  },
  {
   "cell_type": "markdown",
   "id": "floating-occupation",
   "metadata": {
    "papermill": {
     "duration": 0.081486,
     "end_time": "2021-03-27T10:56:53.262690",
     "exception": false,
     "start_time": "2021-03-27T10:56:53.181204",
     "status": "completed"
    },
    "tags": []
   },
   "source": [
    "#### DecisionTreeClassifier"
   ]
  },
  {
   "cell_type": "code",
   "execution_count": 42,
   "id": "international-history",
   "metadata": {
    "execution": {
     "iopub.execute_input": "2021-03-27T10:56:53.432355Z",
     "iopub.status.busy": "2021-03-27T10:56:53.431802Z",
     "iopub.status.idle": "2021-03-27T10:57:22.747324Z",
     "shell.execute_reply": "2021-03-27T10:57:22.746743Z"
    },
    "papermill": {
     "duration": 29.401742,
     "end_time": "2021-03-27T10:57:22.747472",
     "exception": false,
     "start_time": "2021-03-27T10:56:53.345730",
     "status": "completed"
    },
    "tags": []
   },
   "outputs": [
    {
     "name": "stdout",
     "output_type": "stream",
     "text": [
      "[Stopwatch started >>- Train now model DecisionTreeClassifier()<<]"
     ]
    },
    {
     "name": "stdout",
     "output_type": "stream",
     "text": [
      "\n"
     ]
    },
    {
     "name": "stdout",
     "output_type": "stream",
     "text": [
      "[Stopwatch stopped >>- Train now model DecisionTreeClassifier()<< (28.759s)]"
     ]
    },
    {
     "name": "stdout",
     "output_type": "stream",
     "text": [
      "\n"
     ]
    },
    {
     "name": "stdout",
     "output_type": "stream",
     "text": [
      "\n"
     ]
    },
    {
     "name": "stdout",
     "output_type": "stream",
     "text": [
      "Who has written 'Folge Attila Hildmann'?"
     ]
    },
    {
     "name": "stdout",
     "output_type": "stream",
     "text": [
      "\n"
     ]
    },
    {
     "name": "stdout",
     "output_type": "stream",
     "text": [
      "['Xavier Naidoo inoffiziell']"
     ]
    },
    {
     "name": "stdout",
     "output_type": "stream",
     "text": [
      "\n"
     ]
    },
    {
     "name": "stdout",
     "output_type": "stream",
     "text": [
      "\n"
     ]
    },
    {
     "name": "stdout",
     "output_type": "stream",
     "text": [
      "Who has written 'Liebe Eva'?"
     ]
    },
    {
     "name": "stdout",
     "output_type": "stream",
     "text": [
      "\n"
     ]
    },
    {
     "name": "stdout",
     "output_type": "stream",
     "text": [
      "['Eva Herman Offiziell']"
     ]
    },
    {
     "name": "stdout",
     "output_type": "stream",
     "text": [
      "\n"
     ]
    },
    {
     "name": "stdout",
     "output_type": "stream",
     "text": [
      "\n"
     ]
    },
    {
     "name": "stdout",
     "output_type": "stream",
     "text": [
      "Who has written 'Premium Kanal'?"
     ]
    },
    {
     "name": "stdout",
     "output_type": "stream",
     "text": [
      "\n"
     ]
    },
    {
     "name": "stdout",
     "output_type": "stream",
     "text": [
      "['Xavier Naidoo inoffiziell']"
     ]
    },
    {
     "name": "stdout",
     "output_type": "stream",
     "text": [
      "\n"
     ]
    },
    {
     "name": "stdout",
     "output_type": "stream",
     "text": [
      "\n"
     ]
    },
    {
     "name": "stdout",
     "output_type": "stream",
     "text": [
      "Who has written 'OneLove'?"
     ]
    },
    {
     "name": "stdout",
     "output_type": "stream",
     "text": [
      "\n"
     ]
    },
    {
     "name": "stdout",
     "output_type": "stream",
     "text": [
      "['ATTILA HILDMANN ']"
     ]
    },
    {
     "name": "stdout",
     "output_type": "stream",
     "text": [
      "\n"
     ]
    },
    {
     "name": "stdout",
     "output_type": "stream",
     "text": [
      "\n"
     ]
    },
    {
     "name": "stdout",
     "output_type": "stream",
     "text": [
      "Train Score:\t0.9774108276974836"
     ]
    },
    {
     "name": "stdout",
     "output_type": "stream",
     "text": [
      "\n"
     ]
    },
    {
     "name": "stdout",
     "output_type": "stream",
     "text": [
      "Test Score:\t0.5503226692297131"
     ]
    },
    {
     "name": "stdout",
     "output_type": "stream",
     "text": [
      "\n"
     ]
    },
    {
     "name": "stdout",
     "output_type": "stream",
     "text": [
      "\n"
     ]
    },
    {
     "name": "stdout",
     "output_type": "stream",
     "text": [
      "Confusion Matrix on test:"
     ]
    },
    {
     "name": "stdout",
     "output_type": "stream",
     "text": [
      "\n"
     ]
    },
    {
     "data": {
      "image/png": "[encoded data removed]",
      "text/plain": [
       "<Figure size 648x648 with 2 Axes>"
      ]
     },
     "metadata": {},
     "output_type": "display_data"
    }
   ],
   "source": [
    "trainAndEvalModel(DecisionTreeClassifier(), \"class-decisiontree.svg\")"
   ]
  },
  {
   "cell_type": "markdown",
   "id": "attempted-steering",
   "metadata": {
    "papermill": {
     "duration": 0.092086,
     "end_time": "2021-03-27T10:57:22.932081",
     "exception": false,
     "start_time": "2021-03-27T10:57:22.839995",
     "status": "completed"
    },
    "tags": []
   },
   "source": [
    "#### RandomForestClassifier"
   ]
  },
  {
   "cell_type": "code",
   "execution_count": 43,
   "id": "adjacent-feelings",
   "metadata": {
    "execution": {
     "iopub.execute_input": "2021-03-27T10:57:23.120035Z",
     "iopub.status.busy": "2021-03-27T10:57:23.119477Z",
     "iopub.status.idle": "2021-03-27T11:03:37.779748Z",
     "shell.execute_reply": "2021-03-27T11:03:37.780183Z"
    },
    "papermill": {
     "duration": 374.7569,
     "end_time": "2021-03-27T11:03:37.780377",
     "exception": false,
     "start_time": "2021-03-27T10:57:23.023477",
     "status": "completed"
    },
    "tags": []
   },
   "outputs": [
    {
     "name": "stdout",
     "output_type": "stream",
     "text": [
      "[Stopwatch started >>- Train now model RandomForestClassifier()<<]"
     ]
    },
    {
     "name": "stdout",
     "output_type": "stream",
     "text": [
      "\n"
     ]
    },
    {
     "name": "stdout",
     "output_type": "stream",
     "text": [
      "[Stopwatch stopped >>- Train now model RandomForestClassifier()<< (369.937s)]"
     ]
    },
    {
     "name": "stdout",
     "output_type": "stream",
     "text": [
      "\n"
     ]
    },
    {
     "name": "stdout",
     "output_type": "stream",
     "text": [
      "\n"
     ]
    },
    {
     "name": "stdout",
     "output_type": "stream",
     "text": [
      "Who has written 'Folge Attila Hildmann'?"
     ]
    },
    {
     "name": "stdout",
     "output_type": "stream",
     "text": [
      "\n"
     ]
    },
    {
     "name": "stdout",
     "output_type": "stream",
     "text": [
      "['ATTILA HILDMANN ']"
     ]
    },
    {
     "name": "stdout",
     "output_type": "stream",
     "text": [
      "\n"
     ]
    },
    {
     "name": "stdout",
     "output_type": "stream",
     "text": [
      "\n"
     ]
    },
    {
     "name": "stdout",
     "output_type": "stream",
     "text": [
      "Who has written 'Liebe Eva'?"
     ]
    },
    {
     "name": "stdout",
     "output_type": "stream",
     "text": [
      "\n"
     ]
    },
    {
     "name": "stdout",
     "output_type": "stream",
     "text": [
      "['Eva Herman Offiziell']"
     ]
    },
    {
     "name": "stdout",
     "output_type": "stream",
     "text": [
      "\n"
     ]
    },
    {
     "name": "stdout",
     "output_type": "stream",
     "text": [
      "\n"
     ]
    },
    {
     "name": "stdout",
     "output_type": "stream",
     "text": [
      "Who has written 'Premium Kanal'?"
     ]
    },
    {
     "name": "stdout",
     "output_type": "stream",
     "text": [
      "\n"
     ]
    },
    {
     "name": "stdout",
     "output_type": "stream",
     "text": [
      "['ATTILA HILDMANN ']"
     ]
    },
    {
     "name": "stdout",
     "output_type": "stream",
     "text": [
      "\n"
     ]
    },
    {
     "name": "stdout",
     "output_type": "stream",
     "text": [
      "\n"
     ]
    },
    {
     "name": "stdout",
     "output_type": "stream",
     "text": [
      "Who has written 'OneLove'?"
     ]
    },
    {
     "name": "stdout",
     "output_type": "stream",
     "text": [
      "\n"
     ]
    },
    {
     "name": "stdout",
     "output_type": "stream",
     "text": [
      "['Xavier Naidoo inoffiziell']"
     ]
    },
    {
     "name": "stdout",
     "output_type": "stream",
     "text": [
      "\n"
     ]
    },
    {
     "name": "stdout",
     "output_type": "stream",
     "text": [
      "\n"
     ]
    },
    {
     "name": "stdout",
     "output_type": "stream",
     "text": [
      "Train Score:\t0.9774108276974836"
     ]
    },
    {
     "name": "stdout",
     "output_type": "stream",
     "text": [
      "\n"
     ]
    },
    {
     "name": "stdout",
     "output_type": "stream",
     "text": [
      "Test Score:\t0.6338047507895098"
     ]
    },
    {
     "name": "stdout",
     "output_type": "stream",
     "text": [
      "\n"
     ]
    },
    {
     "name": "stdout",
     "output_type": "stream",
     "text": [
      "\n"
     ]
    },
    {
     "name": "stdout",
     "output_type": "stream",
     "text": [
      "Confusion Matrix on test:"
     ]
    },
    {
     "name": "stdout",
     "output_type": "stream",
     "text": [
      "\n"
     ]
    },
    {
     "data": {
      "image/png": "[encoded data removed]",
      "text/plain": [
       "<Figure size 648x648 with 2 Axes>"
      ]
     },
     "metadata": {},
     "output_type": "display_data"
    }
   ],
   "source": [
    "trainAndEvalModel(RandomForestClassifier(), \"class-randomforest.svg\")"
   ]
  },
  {
   "cell_type": "markdown",
   "id": "removable-husband",
   "metadata": {
    "papermill": {
     "duration": 0.126292,
     "end_time": "2021-03-27T11:03:38.011330",
     "exception": false,
     "start_time": "2021-03-27T11:03:37.885038",
     "status": "completed"
    },
    "tags": []
   },
   "source": [
    "#### DummyClassifier"
   ]
  },
  {
   "cell_type": "code",
   "execution_count": 44,
   "id": "surface-therapist",
   "metadata": {
    "execution": {
     "iopub.execute_input": "2021-03-27T11:03:38.219980Z",
     "iopub.status.busy": "2021-03-27T11:03:38.219423Z",
     "iopub.status.idle": "2021-03-27T11:03:38.741443Z",
     "shell.execute_reply": "2021-03-27T11:03:38.741925Z"
    },
    "papermill": {
     "duration": 0.627966,
     "end_time": "2021-03-27T11:03:38.742135",
     "exception": false,
     "start_time": "2021-03-27T11:03:38.114169",
     "status": "completed"
    },
    "tags": []
   },
   "outputs": [
    {
     "name": "stdout",
     "output_type": "stream",
     "text": [
      "[Stopwatch started >>- Train now model DummyClassifier(strategy='uniform')<<]"
     ]
    },
    {
     "name": "stdout",
     "output_type": "stream",
     "text": [
      "\n"
     ]
    },
    {
     "name": "stdout",
     "output_type": "stream",
     "text": [
      "[Stopwatch stopped >>- Train now model DummyClassifier(strategy='uniform')<< (0.026s)]"
     ]
    },
    {
     "name": "stdout",
     "output_type": "stream",
     "text": [
      "\n"
     ]
    },
    {
     "name": "stdout",
     "output_type": "stream",
     "text": [
      "\n"
     ]
    },
    {
     "name": "stdout",
     "output_type": "stream",
     "text": [
      "Who has written 'Folge Attila Hildmann'?"
     ]
    },
    {
     "name": "stdout",
     "output_type": "stream",
     "text": [
      "\n"
     ]
    },
    {
     "name": "stdout",
     "output_type": "stream",
     "text": [
      "['ATTILA HILDMANN ']"
     ]
    },
    {
     "name": "stdout",
     "output_type": "stream",
     "text": [
      "\n"
     ]
    },
    {
     "name": "stdout",
     "output_type": "stream",
     "text": [
      "\n"
     ]
    },
    {
     "name": "stdout",
     "output_type": "stream",
     "text": [
      "Who has written 'Liebe Eva'?"
     ]
    },
    {
     "name": "stdout",
     "output_type": "stream",
     "text": [
      "\n"
     ]
    },
    {
     "name": "stdout",
     "output_type": "stream",
     "text": [
      "['ATTILA HILDMANN ']"
     ]
    },
    {
     "name": "stdout",
     "output_type": "stream",
     "text": [
      "\n"
     ]
    },
    {
     "name": "stdout",
     "output_type": "stream",
     "text": [
      "\n"
     ]
    },
    {
     "name": "stdout",
     "output_type": "stream",
     "text": [
      "Who has written 'Premium Kanal'?"
     ]
    },
    {
     "name": "stdout",
     "output_type": "stream",
     "text": [
      "\n"
     ]
    },
    {
     "name": "stdout",
     "output_type": "stream",
     "text": [
      "['Xavier Naidoo inoffiziell']"
     ]
    },
    {
     "name": "stdout",
     "output_type": "stream",
     "text": [
      "\n"
     ]
    },
    {
     "name": "stdout",
     "output_type": "stream",
     "text": [
      "\n"
     ]
    },
    {
     "name": "stdout",
     "output_type": "stream",
     "text": [
      "Who has written 'OneLove'?"
     ]
    },
    {
     "name": "stdout",
     "output_type": "stream",
     "text": [
      "\n"
     ]
    },
    {
     "name": "stdout",
     "output_type": "stream",
     "text": [
      "['Oliver Janich oeffentlich']"
     ]
    },
    {
     "name": "stdout",
     "output_type": "stream",
     "text": [
      "\n"
     ]
    },
    {
     "name": "stdout",
     "output_type": "stream",
     "text": [
      "\n"
     ]
    },
    {
     "name": "stdout",
     "output_type": "stream",
     "text": [
      "Train Score:\t0.2516735898932336"
     ]
    },
    {
     "name": "stdout",
     "output_type": "stream",
     "text": [
      "\n"
     ]
    },
    {
     "name": "stdout",
     "output_type": "stream",
     "text": [
      "Test Score:\t0.2516819991761637"
     ]
    },
    {
     "name": "stdout",
     "output_type": "stream",
     "text": [
      "\n"
     ]
    },
    {
     "name": "stdout",
     "output_type": "stream",
     "text": [
      "\n"
     ]
    },
    {
     "name": "stdout",
     "output_type": "stream",
     "text": [
      "Confusion Matrix on test:"
     ]
    },
    {
     "name": "stdout",
     "output_type": "stream",
     "text": [
      "\n"
     ]
    },
    {
     "data": {
      "image/png": "[encoded data removed]",
      "text/plain": [
       "<Figure size 648x648 with 2 Axes>"
      ]
     },
     "metadata": {},
     "output_type": "display_data"
    }
   ],
   "source": [
    "trainAndEvalModel(DummyClassifier(strategy=\"uniform\"), \"class-dummy.svg\")"
   ]
  },
  {
   "cell_type": "markdown",
   "id": "oriented-double",
   "metadata": {
    "papermill": {
     "duration": 0.114029,
     "end_time": "2021-03-27T11:03:38.971373",
     "exception": false,
     "start_time": "2021-03-27T11:03:38.857344",
     "status": "completed"
    },
    "tags": []
   },
   "source": [
    "## Mehr lesen / Inspirationen"
   ]
  },
  {
   "cell_type": "markdown",
   "id": "coral-degree",
   "metadata": {
    "papermill": {
     "duration": 0.114201,
     "end_time": "2021-03-27T11:03:39.199171",
     "exception": false,
     "start_time": "2021-03-27T11:03:39.084970",
     "status": "completed"
    },
    "tags": []
   },
   "source": [
    "- https://towardsdatascience.com/multi-class-text-classification-with-scikit-learn-12f1e60e0a9f\n",
    "- https://towardsai.net/p/data-mining/text-mining-in-python-steps-and-examples-78b3f8fd913b\n",
    "- https://towardsdatascience.com/text-mining-for-dummies-text-classification-with-python-98e47c3a9deb\n",
    "- https://www.analyticsvidhya.com/blog/2018/02/the-different-methods-deal-text-data-predictive-python/\n",
    "- https://realpython.com/python-keras-text-classification/\n",
    "- https://www.tidytextmining.com/ngrams.html\n",
    "- http://seaborn.pydata.org/tutorial/categorical.html?highlight=bar%20plot\n",
    "- https://towardsdatascience.com/visualizing-data-with-pair-plots-in-python-f228cf529166\n",
    "- https://www.kirenz.com/post/2019-08-13-network_analysis/\n",
    "- https://tgstat.com\n",
    "- https://huggingface.co/bert-base-german-cased\n",
    "- https://github.com/sekhansen/text-mining-tutorial/tree/master\n",
    "- https://www.machinelearningplus.com/nlp/topic-modeling-gensim-python/\n",
    "- https://towardsdatascience.com/end-to-end-topic-modeling-in-python-latent-dirichlet-allocation-lda-35ce4ed6b3e0\n",
    "- https://github.com/sekhansen/text-mining-tutorial/blob/master/tutorial_notebook.ipynb\n",
    "- https://textmining.wp.hs-hannover.de/Preprocessing.html\n",
    "- https://likegeeks.com/nlp-tutorial-using-python-nltk/\n",
    "- https://www.datacamp.com/community/tutorials/text-analytics-beginners-nltk\n",
    "- https://data-flair.training/blogs/nltk-python-tutorial/\n",
    "- https://github.com/expectocode/telegram-analysis\n",
    "- https://stackoverflow.com/questions/23199796/detect-and-exclude-outliers-in-pandas-data-frame"
   ]
  }
 ],
 "metadata": {
  "kernelspec": {
   "display_name": "Python 3",
   "language": "python",
   "name": "python3"
  },
  "language_info": {
   "codemirror_mode": {
    "name": "ipython",
    "version": 3
   },
   "file_extension": ".py",
   "mimetype": "text/x-python",
   "name": "python",
   "nbconvert_exporter": "python",
   "pygments_lexer": "ipython3",
   "version": "3.8.8"
  },
  "papermill": {
   "default_parameters": {},
   "duration": 5355.12722,
   "end_time": "2021-03-27T11:03:41.845345",
   "environment_variables": {},
   "exception": null,
   "input_path": "work/notebooks/Classifier.ipynb",
   "output_path": "work/notebooks/Classifier-out.ipynb",
   "parameters": {},
   "start_time": "2021-03-27T09:34:26.718125",
   "version": "2.3.2"
  }
 },
 "nbformat": 4,
 "nbformat_minor": 5
}