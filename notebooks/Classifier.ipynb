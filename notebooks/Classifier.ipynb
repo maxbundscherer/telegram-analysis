{
 "metadata": {
  "language_info": {
   "codemirror_mode": {
    "name": "ipython",
    "version": 3
   },
   "file_extension": ".py",
   "mimetype": "text/x-python",
   "name": "python",
   "nbconvert_exporter": "python",
   "pygments_lexer": "ipython3",
   "version": "3.8.6-final"
  },
  "orig_nbformat": 2,
  "kernelspec": {
   "name": "python3",
   "display_name": "Python 3",
   "language": "python"
  }
 },
 "nbformat": 4,
 "nbformat_minor": 2,
 "cells": [
  {
   "source": [
    "# Classifier"
   ],
   "cell_type": "markdown",
   "metadata": {}
  },
  {
   "cell_type": "code",
   "execution_count": 1,
   "metadata": {},
   "outputs": [],
   "source": [
    "C_USE_CACHE_FILE        = \"long-run-server-28-01.pkl\""
   ]
  },
  {
   "cell_type": "code",
   "execution_count": 2,
   "metadata": {},
   "outputs": [],
   "source": [
    "# Import default libs\n",
    "import pandas as pd\n",
    "import numpy as np\n",
    "import seaborn as sns\n",
    "import matplotlib.pyplot as plt"
   ]
  },
  {
   "cell_type": "code",
   "execution_count": 3,
   "metadata": {},
   "outputs": [],
   "source": [
    "# Show all columns (pandas hides columns by default)\n",
    "pd.set_option('display.max_columns', None)"
   ]
  },
  {
   "cell_type": "code",
   "execution_count": 4,
   "metadata": {},
   "outputs": [],
   "source": [
    "# Set plot style\n",
    "# TODO: Test different style\n",
    "plt.style.use('ggplot')"
   ]
  },
  {
   "cell_type": "code",
   "execution_count": 5,
   "metadata": {},
   "outputs": [],
   "source": [
    "dir_var                 = \"./work/notebooks/\"\n",
    "dir_var_pandas_cache    = dir_var + \"cache/pandas/\""
   ]
  },
  {
   "cell_type": "code",
   "execution_count": 6,
   "metadata": {},
   "outputs": [],
   "source": [
    "# Load from cachea\n",
    "dfAllDataMessages = pd.read_pickle(dir_var_pandas_cache + C_USE_CACHE_FILE)"
   ]
  },
  {
   "cell_type": "code",
   "execution_count": 7,
   "metadata": {},
   "outputs": [
    {
     "output_type": "execute_result",
     "data": {
      "text/plain": [
       "Oliver Janich öffentlich         30740\n",
       "ATTILA HILDMANN ⚫️⚪️🔴⚔️          22885\n",
       "Eva Herman Offiziell             14067\n",
       "Xavier Naidoo (inoffiziell)🎵🎶     9103\n",
       "Name: from, dtype: int64"
      ]
     },
     "metadata": {},
     "execution_count": 7
    }
   ],
   "source": [
    "dfAllDataMessages = dfAllDataMessages[dfAllDataMessages.procEvalIsValidText == True]\n",
    "dfAllDataMessages = dfAllDataMessages[dfAllDataMessages.procTDCleanText != \"\"]\n",
    "dfAllDataMessages = dfAllDataMessages[dfAllDataMessages.procTDTextLength > 5]\n",
    "dfAllDataMessages = dfAllDataMessages[dfAllDataMessages.procChatType == \"public_channel\"]\n",
    "\n",
    "dfAllDataMessages = dfAllDataMessages[dfAllDataMessages[\"from\"].str.contains(\"Quer\") == False]\n",
    "dfAllDataMessages = dfAllDataMessages[dfAllDataMessages[\"from\"].str.contains(\"QUER\") == False]\n",
    "\n",
    "dfAllDataMessages[\"from\"].value_counts()"
   ]
  },
  {
   "cell_type": "code",
   "execution_count": 8,
   "metadata": {},
   "outputs": [
    {
     "output_type": "execute_result",
     "data": {
      "text/plain": [
       "Index(['id', 'type', 'date', 'actor', 'actor_id', 'action', 'title', 'text',\n",
       "       'from', 'from_id', 'file', 'media_type', 'mime_type',\n",
       "       'duration_seconds', 'edited', 'thumbnail', 'width', 'height', 'photo',\n",
       "       'forwarded_from', 'poll.question', 'poll.closed', 'poll.total_voters',\n",
       "       'poll.answers', 'sticker_emoji', 'message_id', 'reply_to_message_id',\n",
       "       'location_information.latitude', 'location_information.longitude',\n",
       "       'live_location_period_seconds', 'via_bot', 'performer',\n",
       "       'procChatFilePath', 'procChatType', 'procIsJsonFormatted',\n",
       "       'tmpExtractedTD', 'procTDText', 'procTDURLs', 'procTDHashtags',\n",
       "       'procTDBolds', 'procTDItalics', 'procTDUnderlines', 'procTDEmails',\n",
       "       'procTDCleanText', 'procTDEmojis', 'procTDEmojisDesc', 'procTDSafeText',\n",
       "       'procTDSafeLowercaseText', 'procTDTextLength', 'procEvalIsValidText',\n",
       "       'procEvalContainsPhoto', 'procEvalContainsFile', 'procEvalIsEdited',\n",
       "       'procEvalIsForwarded', 'procEvalContainsUrl', 'procEvalContainsHashtag',\n",
       "       'procEvalContainsBoldItem', 'procEvalContainsItalicItem',\n",
       "       'procEvalContainsUnderlineItem', 'procEvalContainsEmailItem',\n",
       "       'procEvalContainsEmojiItem', 'procPipeline-ner-xlm-roberta',\n",
       "       'procPipeline-ner-bert', 'procPipeline-sen-bert',\n",
       "       'procPipeline-sentiment', 'author', 'saved_from', 'members',\n",
       "       'game_title', 'game_description', 'game_link', 'game_message_id',\n",
       "       'score', 'inviter', 'contact_vcard', 'contact_information.first_name',\n",
       "       'contact_information.last_name', 'contact_information.phone_number',\n",
       "       'place_name', 'address'],\n",
       "      dtype='object')"
      ]
     },
     "metadata": {},
     "execution_count": 8
    }
   ],
   "source": [
    "dfAllDataMessages.columns"
   ]
  },
  {
   "source": [
    "## Let's get started..."
   ],
   "cell_type": "markdown",
   "metadata": {}
  },
  {
   "cell_type": "code",
   "execution_count": 9,
   "metadata": {},
   "outputs": [],
   "source": [
    "df = dfAllDataMessages[[\n",
    " 'date',\n",
    " 'from',\n",
    " 'procEvalIsValidText',\n",
    " 'procIsJsonFormatted',\n",
    " 'procTDCleanText',\n",
    " 'procTDSafeText',\n",
    " 'procTDSafeLowercaseText',\n",
    " 'procTDTextLength',\n",
    " 'procEvalContainsUrl',\n",
    " 'procTDURLs',\n",
    " 'procEvalContainsHashtag',\n",
    " 'procTDHashtags',\n",
    " 'procEvalContainsBoldItem',\n",
    " 'procTDBolds',\n",
    " 'procEvalContainsItalicItem',\n",
    " 'procTDItalics',\n",
    " 'procEvalContainsUnderlineItem',\n",
    " 'procTDUnderlines',\n",
    " 'procEvalContainsEmailItem',\n",
    " 'procTDEmails',\n",
    " 'procEvalContainsEmojiItem',\n",
    " 'procTDEmojis',\n",
    " 'procTDEmojisDesc',\n",
    " 'procEvalContainsPhoto',\n",
    " 'procEvalContainsFile',\n",
    " 'procEvalIsEdited',\n",
    " 'procEvalIsForwarded',\n",
    " 'procPipeline-ner-xlm-roberta',\n",
    " 'procPipeline-ner-bert',\n",
    " 'procPipeline-sen-bert',\n",
    " 'procPipeline-sentiment']].copy()"
   ]
  },
  {
   "cell_type": "code",
   "execution_count": 10,
   "metadata": {},
   "outputs": [
    {
     "output_type": "execute_result",
     "data": {
      "text/plain": [
       "                  date                     from  procEvalIsValidText  \\\n",
       "1  2020-04-28T08:22:29  ATTILA HILDMANN ⚫️⚪️🔴⚔️                 True   \n",
       "4  2020-04-28T08:43:27  ATTILA HILDMANN ⚫️⚪️🔴⚔️                 True   \n",
       "5  2020-04-28T08:43:31  ATTILA HILDMANN ⚫️⚪️🔴⚔️                 True   \n",
       "6  2020-04-28T08:45:01  ATTILA HILDMANN ⚫️⚪️🔴⚔️                 True   \n",
       "7  2020-04-28T08:45:48  ATTILA HILDMANN ⚫️⚪️🔴⚔️                 True   \n",
       "\n",
       "   procIsJsonFormatted                                    procTDCleanText  \\\n",
       "1                False                 Dann schreiben wir mal Geschichte!   \n",
       "4                False  Das Video sollte jeder von euch schauen und ve...   \n",
       "5                 True                              SCHAUT ES EUCH AN!      \n",
       "6                False  Billyboy spricht schon heute, APRIL 2020, von ...   \n",
       "7                False  Beachtet sein Grinsen am Anfang und Ende des V...   \n",
       "\n",
       "                                      procTDSafeText  \\\n",
       "1                 Dann schreiben wir mal Geschichte    \n",
       "4  Das Video sollte jeder von euch schauen und ve...   \n",
       "5                              SCHAUT ES EUCH AN       \n",
       "6  Billyboy spricht schon heute  APRIL 2020  von ...   \n",
       "7  Beachtet sein Grinsen am Anfang und Ende des V...   \n",
       "\n",
       "                             procTDSafeLowercaseText  procTDTextLength  \\\n",
       "1                 dann schreiben wir mal geschichte                 34   \n",
       "4  das video sollte jeder von euch schauen und ve...               100   \n",
       "5                              schaut es euch an                    21   \n",
       "6  billyboy spricht schon heute  april 2020  von ...               129   \n",
       "7  beachtet sein grinsen am anfang und ende des v...               191   \n",
       "\n",
       "   procEvalContainsUrl                                         procTDURLs  \\\n",
       "1                False                                                 []   \n",
       "4                False                                                 []   \n",
       "5                 True  [https://www.instagram.com/tv/B_f_sYFqfvw/?igs...   \n",
       "6                False                                                 []   \n",
       "7                False                                                 []   \n",
       "\n",
       "   procEvalContainsHashtag procTDHashtags  procEvalContainsBoldItem  \\\n",
       "1                    False             []                     False   \n",
       "4                    False             []                     False   \n",
       "5                    False             []                     False   \n",
       "6                    False             []                     False   \n",
       "7                    False             []                     False   \n",
       "\n",
       "  procTDBolds  procEvalContainsItalicItem procTDItalics  \\\n",
       "1          []                       False            []   \n",
       "4          []                       False            []   \n",
       "5          []                       False            []   \n",
       "6          []                       False            []   \n",
       "7          []                       False            []   \n",
       "\n",
       "   procEvalContainsUnderlineItem procTDUnderlines  procEvalContainsEmailItem  \\\n",
       "1                          False               []                      False   \n",
       "4                          False               []                      False   \n",
       "5                          False               []                      False   \n",
       "6                          False               []                      False   \n",
       "7                          False               []                      False   \n",
       "\n",
       "  procTDEmails  procEvalContainsEmojiItem procTDEmojis procTDEmojisDesc  \\\n",
       "1           []                      False           []               []   \n",
       "4           []                      False           []               []   \n",
       "5           []                       True          [🆘]     [SOS button]   \n",
       "6           []                      False           []               []   \n",
       "7           []                      False           []               []   \n",
       "\n",
       "   procEvalContainsPhoto  procEvalContainsFile  procEvalIsEdited  \\\n",
       "1                  False                 False             False   \n",
       "4                  False                 False             False   \n",
       "5                  False                 False              True   \n",
       "6                  False                 False             False   \n",
       "7                  False                 False             False   \n",
       "\n",
       "   procEvalIsForwarded                       procPipeline-ner-xlm-roberta  \\\n",
       "1                False      {'per': [], 'misc': [], 'org': [], 'loc': []}   \n",
       "4                False  {'per': [], 'misc': [], 'org': [], 'loc': ['▁C...   \n",
       "5                False      {'per': [], 'misc': [], 'org': [], 'loc': []}   \n",
       "6                False  {'per': ['▁Billy', 'boy'], 'misc': ['▁PAN'], '...   \n",
       "7                False      {'per': [], 'misc': [], 'org': [], 'loc': []}   \n",
       "\n",
       "                               procPipeline-ner-bert  procPipeline-sen-bert  \\\n",
       "1      {'per': [], 'misc': [], 'org': [], 'loc': []}                    5.0   \n",
       "4      {'per': [], 'misc': [], 'org': [], 'loc': []}                    5.0   \n",
       "5      {'per': [], 'misc': [], 'org': [], 'loc': []}                    5.0   \n",
       "6  {'per': ['bill', '##y', '##boy'], 'misc': [], ...                    1.0   \n",
       "7      {'per': [], 'misc': [], 'org': [], 'loc': []}                    2.0   \n",
       "\n",
       "                     procPipeline-sentiment  \n",
       "1    {'polarity': 0.0, 'subjectivity': 0.0}  \n",
       "4    {'polarity': 0.0, 'subjectivity': 0.0}  \n",
       "5    {'polarity': 0.0, 'subjectivity': 0.0}  \n",
       "6    {'polarity': 0.0, 'subjectivity': 0.0}  \n",
       "7  {'polarity': 0.125, 'subjectivity': 0.0}  "
      ],
      "text/html": "<div>\n<style scoped>\n    .dataframe tbody tr th:only-of-type {\n        vertical-align: middle;\n    }\n\n    .dataframe tbody tr th {\n        vertical-align: top;\n    }\n\n    .dataframe thead th {\n        text-align: right;\n    }\n</style>\n<table border=\"1\" class=\"dataframe\">\n  <thead>\n    <tr style=\"text-align: right;\">\n      <th></th>\n      <th>date</th>\n      <th>from</th>\n      <th>procEvalIsValidText</th>\n      <th>procIsJsonFormatted</th>\n      <th>procTDCleanText</th>\n      <th>procTDSafeText</th>\n      <th>procTDSafeLowercaseText</th>\n      <th>procTDTextLength</th>\n      <th>procEvalContainsUrl</th>\n      <th>procTDURLs</th>\n      <th>procEvalContainsHashtag</th>\n      <th>procTDHashtags</th>\n      <th>procEvalContainsBoldItem</th>\n      <th>procTDBolds</th>\n      <th>procEvalContainsItalicItem</th>\n      <th>procTDItalics</th>\n      <th>procEvalContainsUnderlineItem</th>\n      <th>procTDUnderlines</th>\n      <th>procEvalContainsEmailItem</th>\n      <th>procTDEmails</th>\n      <th>procEvalContainsEmojiItem</th>\n      <th>procTDEmojis</th>\n      <th>procTDEmojisDesc</th>\n      <th>procEvalContainsPhoto</th>\n      <th>procEvalContainsFile</th>\n      <th>procEvalIsEdited</th>\n      <th>procEvalIsForwarded</th>\n      <th>procPipeline-ner-xlm-roberta</th>\n      <th>procPipeline-ner-bert</th>\n      <th>procPipeline-sen-bert</th>\n      <th>procPipeline-sentiment</th>\n    </tr>\n  </thead>\n  <tbody>\n    <tr>\n      <th>1</th>\n      <td>2020-04-28T08:22:29</td>\n      <td>ATTILA HILDMANN ⚫️⚪️🔴⚔️</td>\n      <td>True</td>\n      <td>False</td>\n      <td>Dann schreiben wir mal Geschichte!</td>\n      <td>Dann schreiben wir mal Geschichte</td>\n      <td>dann schreiben wir mal geschichte</td>\n      <td>34</td>\n      <td>False</td>\n      <td>[]</td>\n      <td>False</td>\n      <td>[]</td>\n      <td>False</td>\n      <td>[]</td>\n      <td>False</td>\n      <td>[]</td>\n      <td>False</td>\n      <td>[]</td>\n      <td>False</td>\n      <td>[]</td>\n      <td>False</td>\n      <td>[]</td>\n      <td>[]</td>\n      <td>False</td>\n      <td>False</td>\n      <td>False</td>\n      <td>False</td>\n      <td>{'per': [], 'misc': [], 'org': [], 'loc': []}</td>\n      <td>{'per': [], 'misc': [], 'org': [], 'loc': []}</td>\n      <td>5.0</td>\n      <td>{'polarity': 0.0, 'subjectivity': 0.0}</td>\n    </tr>\n    <tr>\n      <th>4</th>\n      <td>2020-04-28T08:43:27</td>\n      <td>ATTILA HILDMANN ⚫️⚪️🔴⚔️</td>\n      <td>True</td>\n      <td>False</td>\n      <td>Das Video sollte jeder von euch schauen und ve...</td>\n      <td>Das Video sollte jeder von euch schauen und ve...</td>\n      <td>das video sollte jeder von euch schauen und ve...</td>\n      <td>100</td>\n      <td>False</td>\n      <td>[]</td>\n      <td>False</td>\n      <td>[]</td>\n      <td>False</td>\n      <td>[]</td>\n      <td>False</td>\n      <td>[]</td>\n      <td>False</td>\n      <td>[]</td>\n      <td>False</td>\n      <td>[]</td>\n      <td>False</td>\n      <td>[]</td>\n      <td>[]</td>\n      <td>False</td>\n      <td>False</td>\n      <td>False</td>\n      <td>False</td>\n      <td>{'per': [], 'misc': [], 'org': [], 'loc': ['▁C...</td>\n      <td>{'per': [], 'misc': [], 'org': [], 'loc': []}</td>\n      <td>5.0</td>\n      <td>{'polarity': 0.0, 'subjectivity': 0.0}</td>\n    </tr>\n    <tr>\n      <th>5</th>\n      <td>2020-04-28T08:43:31</td>\n      <td>ATTILA HILDMANN ⚫️⚪️🔴⚔️</td>\n      <td>True</td>\n      <td>True</td>\n      <td>SCHAUT ES EUCH AN!</td>\n      <td>SCHAUT ES EUCH AN</td>\n      <td>schaut es euch an</td>\n      <td>21</td>\n      <td>True</td>\n      <td>[https://www.instagram.com/tv/B_f_sYFqfvw/?igs...</td>\n      <td>False</td>\n      <td>[]</td>\n      <td>False</td>\n      <td>[]</td>\n      <td>False</td>\n      <td>[]</td>\n      <td>False</td>\n      <td>[]</td>\n      <td>False</td>\n      <td>[]</td>\n      <td>True</td>\n      <td>[🆘]</td>\n      <td>[SOS button]</td>\n      <td>False</td>\n      <td>False</td>\n      <td>True</td>\n      <td>False</td>\n      <td>{'per': [], 'misc': [], 'org': [], 'loc': []}</td>\n      <td>{'per': [], 'misc': [], 'org': [], 'loc': []}</td>\n      <td>5.0</td>\n      <td>{'polarity': 0.0, 'subjectivity': 0.0}</td>\n    </tr>\n    <tr>\n      <th>6</th>\n      <td>2020-04-28T08:45:01</td>\n      <td>ATTILA HILDMANN ⚫️⚪️🔴⚔️</td>\n      <td>True</td>\n      <td>False</td>\n      <td>Billyboy spricht schon heute, APRIL 2020, von ...</td>\n      <td>Billyboy spricht schon heute  APRIL 2020  von ...</td>\n      <td>billyboy spricht schon heute  april 2020  von ...</td>\n      <td>129</td>\n      <td>False</td>\n      <td>[]</td>\n      <td>False</td>\n      <td>[]</td>\n      <td>False</td>\n      <td>[]</td>\n      <td>False</td>\n      <td>[]</td>\n      <td>False</td>\n      <td>[]</td>\n      <td>False</td>\n      <td>[]</td>\n      <td>False</td>\n      <td>[]</td>\n      <td>[]</td>\n      <td>False</td>\n      <td>False</td>\n      <td>False</td>\n      <td>False</td>\n      <td>{'per': ['▁Billy', 'boy'], 'misc': ['▁PAN'], '...</td>\n      <td>{'per': ['bill', '##y', '##boy'], 'misc': [], ...</td>\n      <td>1.0</td>\n      <td>{'polarity': 0.0, 'subjectivity': 0.0}</td>\n    </tr>\n    <tr>\n      <th>7</th>\n      <td>2020-04-28T08:45:48</td>\n      <td>ATTILA HILDMANN ⚫️⚪️🔴⚔️</td>\n      <td>True</td>\n      <td>False</td>\n      <td>Beachtet sein Grinsen am Anfang und Ende des V...</td>\n      <td>Beachtet sein Grinsen am Anfang und Ende des V...</td>\n      <td>beachtet sein grinsen am anfang und ende des v...</td>\n      <td>191</td>\n      <td>False</td>\n      <td>[]</td>\n      <td>False</td>\n      <td>[]</td>\n      <td>False</td>\n      <td>[]</td>\n      <td>False</td>\n      <td>[]</td>\n      <td>False</td>\n      <td>[]</td>\n      <td>False</td>\n      <td>[]</td>\n      <td>False</td>\n      <td>[]</td>\n      <td>[]</td>\n      <td>False</td>\n      <td>False</td>\n      <td>False</td>\n      <td>False</td>\n      <td>{'per': [], 'misc': [], 'org': [], 'loc': []}</td>\n      <td>{'per': [], 'misc': [], 'org': [], 'loc': []}</td>\n      <td>2.0</td>\n      <td>{'polarity': 0.125, 'subjectivity': 0.0}</td>\n    </tr>\n  </tbody>\n</table>\n</div>"
     },
     "metadata": {},
     "execution_count": 10
    }
   ],
   "source": [
    "df.head(5)"
   ]
  },
  {
   "cell_type": "code",
   "execution_count": 11,
   "metadata": {},
   "outputs": [],
   "source": [
    "df['class-from']    = df['from']\n",
    "df['class-from-id'] = df['from'].factorize()[0]\n",
    "df['class-text']    = df['procTDCleanText']"
   ]
  },
  {
   "cell_type": "code",
   "execution_count": 12,
   "metadata": {},
   "outputs": [
    {
     "output_type": "execute_result",
     "data": {
      "text/plain": [
       "Oliver Janich öffentlich         30740\n",
       "ATTILA HILDMANN ⚫️⚪️🔴⚔️          22885\n",
       "Eva Herman Offiziell             14067\n",
       "Xavier Naidoo (inoffiziell)🎵🎶     9103\n",
       "Name: class-from, dtype: int64"
      ]
     },
     "metadata": {},
     "execution_count": 12
    }
   ],
   "source": [
    "df[\"class-from\"].value_counts()"
   ]
  },
  {
   "cell_type": "code",
   "execution_count": 13,
   "metadata": {},
   "outputs": [
    {
     "output_type": "display_data",
     "data": {
      "text/plain": "<Figure size 432x288 with 1 Axes>",
      "image/svg+xml": "<?xml version=\"1.0\" encoding=\"utf-8\" standalone=\"no\"?>\n<!DOCTYPE svg PUBLIC \"-//W3C//DTD SVG 1.1//EN\"\n  \"http://www.w3.org/Graphics/SVG/1.1/DTD/svg11.dtd\">\n<!-- Created with matplotlib (https://matplotlib.org/) -->\n<svg height=\"245.2025pt\" version=\"1.1\" viewBox=\"0 0 388.0125 245.2025\" width=\"388.0125pt\" xmlns=\"http://www.w3.org/2000/svg\" xmlns:xlink=\"http://www.w3.org/1999/xlink\">\n <metadata>\n  <rdf:RDF xmlns:cc=\"http://creativecommons.org/ns#\" xmlns:dc=\"http://purl.org/dc/elements/1.1/\" xmlns:rdf=\"http://www.w3.org/1999/02/22-rdf-syntax-ns#\">\n   <cc:Work>\n    <dc:type rdf:resource=\"http://purl.org/dc/dcmitype/StillImage\"/>\n    <dc:date>2021-01-31T17:41:36.038370</dc:date>\n    <dc:format>image/svg+xml</dc:format>\n    <dc:creator>\n     <cc:Agent>\n      <dc:title>Matplotlib v3.3.3, https://matplotlib.org/</dc:title>\n     </cc:Agent>\n    </dc:creator>\n   </cc:Work>\n  </rdf:RDF>\n </metadata>\n <defs>\n  <style type=\"text/css\">*{stroke-linecap:butt;stroke-linejoin:round;}</style>\n </defs>\n <g id=\"figure_1\">\n  <g id=\"patch_1\">\n   <path d=\"M 0 245.2025 \nL 388.0125 245.2025 \nL 388.0125 0 \nL 0 0 \nz\n\" style=\"fill:#ffffff;\"/>\n  </g>\n  <g id=\"axes_1\">\n   <g id=\"patch_2\">\n    <path d=\"M 46.0125 224.64 \nL 380.8125 224.64 \nL 380.8125 7.2 \nL 46.0125 7.2 \nz\n\" style=\"fill:#e5e5e5;\"/>\n   </g>\n   <g id=\"matplotlib.axis_1\">\n    <g id=\"xtick_1\">\n     <g id=\"line2d_1\">\n      <path clip-path=\"url(#p0226cff539)\" d=\"M 87.8625 224.64 \nL 87.8625 7.2 \n\" style=\"fill:none;stroke:#ffffff;stroke-linecap:square;stroke-width:0.8;\"/>\n     </g>\n     <g id=\"line2d_2\">\n      <defs>\n       <path d=\"M 0 0 \nL 0 3.5 \n\" id=\"m55b1096ad4\" style=\"stroke:#555555;stroke-width:0.8;\"/>\n      </defs>\n      <g>\n       <use style=\"fill:#555555;stroke:#555555;stroke-width:0.8;\" x=\"87.8625\" xlink:href=\"#m55b1096ad4\" y=\"224.64\"/>\n      </g>\n     </g>\n     <g id=\"text_1\">\n      <!-- 1 -->\n      <g style=\"fill:#555555;\" transform=\"translate(90.621875 238.0025)rotate(-90)scale(0.1 -0.1)\">\n       <defs>\n        <path d=\"M 12.40625 8.296875 \nL 28.515625 8.296875 \nL 28.515625 63.921875 \nL 10.984375 60.40625 \nL 10.984375 69.390625 \nL 28.421875 72.90625 \nL 38.28125 72.90625 \nL 38.28125 8.296875 \nL 54.390625 8.296875 \nL 54.390625 0 \nL 12.40625 0 \nz\n\" id=\"DejaVuSans-49\"/>\n       </defs>\n       <use xlink:href=\"#DejaVuSans-49\"/>\n      </g>\n     </g>\n    </g>\n    <g id=\"xtick_2\">\n     <g id=\"line2d_3\">\n      <path clip-path=\"url(#p0226cff539)\" d=\"M 171.5625 224.64 \nL 171.5625 7.2 \n\" style=\"fill:none;stroke:#ffffff;stroke-linecap:square;stroke-width:0.8;\"/>\n     </g>\n     <g id=\"line2d_4\">\n      <g>\n       <use style=\"fill:#555555;stroke:#555555;stroke-width:0.8;\" x=\"171.5625\" xlink:href=\"#m55b1096ad4\" y=\"224.64\"/>\n      </g>\n     </g>\n     <g id=\"text_2\">\n      <!-- 0 -->\n      <g style=\"fill:#555555;\" transform=\"translate(174.321875 238.0025)rotate(-90)scale(0.1 -0.1)\">\n       <defs>\n        <path d=\"M 31.78125 66.40625 \nQ 24.171875 66.40625 20.328125 58.90625 \nQ 16.5 51.421875 16.5 36.375 \nQ 16.5 21.390625 20.328125 13.890625 \nQ 24.171875 6.390625 31.78125 6.390625 \nQ 39.453125 6.390625 43.28125 13.890625 \nQ 47.125 21.390625 47.125 36.375 \nQ 47.125 51.421875 43.28125 58.90625 \nQ 39.453125 66.40625 31.78125 66.40625 \nz\nM 31.78125 74.21875 \nQ 44.046875 74.21875 50.515625 64.515625 \nQ 56.984375 54.828125 56.984375 36.375 \nQ 56.984375 17.96875 50.515625 8.265625 \nQ 44.046875 -1.421875 31.78125 -1.421875 \nQ 19.53125 -1.421875 13.0625 8.265625 \nQ 6.59375 17.96875 6.59375 36.375 \nQ 6.59375 54.828125 13.0625 64.515625 \nQ 19.53125 74.21875 31.78125 74.21875 \nz\n\" id=\"DejaVuSans-48\"/>\n       </defs>\n       <use xlink:href=\"#DejaVuSans-48\"/>\n      </g>\n     </g>\n    </g>\n    <g id=\"xtick_3\">\n     <g id=\"line2d_5\">\n      <path clip-path=\"url(#p0226cff539)\" d=\"M 255.2625 224.64 \nL 255.2625 7.2 \n\" style=\"fill:none;stroke:#ffffff;stroke-linecap:square;stroke-width:0.8;\"/>\n     </g>\n     <g id=\"line2d_6\">\n      <g>\n       <use style=\"fill:#555555;stroke:#555555;stroke-width:0.8;\" x=\"255.2625\" xlink:href=\"#m55b1096ad4\" y=\"224.64\"/>\n      </g>\n     </g>\n     <g id=\"text_3\">\n      <!-- 2 -->\n      <g style=\"fill:#555555;\" transform=\"translate(258.021875 238.0025)rotate(-90)scale(0.1 -0.1)\">\n       <defs>\n        <path d=\"M 19.1875 8.296875 \nL 53.609375 8.296875 \nL 53.609375 0 \nL 7.328125 0 \nL 7.328125 8.296875 \nQ 12.9375 14.109375 22.625 23.890625 \nQ 32.328125 33.6875 34.8125 36.53125 \nQ 39.546875 41.84375 41.421875 45.53125 \nQ 43.3125 49.21875 43.3125 52.78125 \nQ 43.3125 58.59375 39.234375 62.25 \nQ 35.15625 65.921875 28.609375 65.921875 \nQ 23.96875 65.921875 18.8125 64.3125 \nQ 13.671875 62.703125 7.8125 59.421875 \nL 7.8125 69.390625 \nQ 13.765625 71.78125 18.9375 73 \nQ 24.125 74.21875 28.421875 74.21875 \nQ 39.75 74.21875 46.484375 68.546875 \nQ 53.21875 62.890625 53.21875 53.421875 \nQ 53.21875 48.921875 51.53125 44.890625 \nQ 49.859375 40.875 45.40625 35.40625 \nQ 44.1875 33.984375 37.640625 27.21875 \nQ 31.109375 20.453125 19.1875 8.296875 \nz\n\" id=\"DejaVuSans-50\"/>\n       </defs>\n       <use xlink:href=\"#DejaVuSans-50\"/>\n      </g>\n     </g>\n    </g>\n    <g id=\"xtick_4\">\n     <g id=\"line2d_7\">\n      <path clip-path=\"url(#p0226cff539)\" d=\"M 338.9625 224.64 \nL 338.9625 7.2 \n\" style=\"fill:none;stroke:#ffffff;stroke-linecap:square;stroke-width:0.8;\"/>\n     </g>\n     <g id=\"line2d_8\">\n      <g>\n       <use style=\"fill:#555555;stroke:#555555;stroke-width:0.8;\" x=\"338.9625\" xlink:href=\"#m55b1096ad4\" y=\"224.64\"/>\n      </g>\n     </g>\n     <g id=\"text_4\">\n      <!-- 3 -->\n      <g style=\"fill:#555555;\" transform=\"translate(341.721875 238.0025)rotate(-90)scale(0.1 -0.1)\">\n       <defs>\n        <path d=\"M 40.578125 39.3125 \nQ 47.65625 37.796875 51.625 33 \nQ 55.609375 28.21875 55.609375 21.1875 \nQ 55.609375 10.40625 48.1875 4.484375 \nQ 40.765625 -1.421875 27.09375 -1.421875 \nQ 22.515625 -1.421875 17.65625 -0.515625 \nQ 12.796875 0.390625 7.625 2.203125 \nL 7.625 11.71875 \nQ 11.71875 9.328125 16.59375 8.109375 \nQ 21.484375 6.890625 26.8125 6.890625 \nQ 36.078125 6.890625 40.9375 10.546875 \nQ 45.796875 14.203125 45.796875 21.1875 \nQ 45.796875 27.640625 41.28125 31.265625 \nQ 36.765625 34.90625 28.71875 34.90625 \nL 20.21875 34.90625 \nL 20.21875 43.015625 \nL 29.109375 43.015625 \nQ 36.375 43.015625 40.234375 45.921875 \nQ 44.09375 48.828125 44.09375 54.296875 \nQ 44.09375 59.90625 40.109375 62.90625 \nQ 36.140625 65.921875 28.71875 65.921875 \nQ 24.65625 65.921875 20.015625 65.03125 \nQ 15.375 64.15625 9.8125 62.3125 \nL 9.8125 71.09375 \nQ 15.4375 72.65625 20.34375 73.4375 \nQ 25.25 74.21875 29.59375 74.21875 \nQ 40.828125 74.21875 47.359375 69.109375 \nQ 53.90625 64.015625 53.90625 55.328125 \nQ 53.90625 49.265625 50.4375 45.09375 \nQ 46.96875 40.921875 40.578125 39.3125 \nz\n\" id=\"DejaVuSans-51\"/>\n       </defs>\n       <use xlink:href=\"#DejaVuSans-51\"/>\n      </g>\n     </g>\n    </g>\n   </g>\n   <g id=\"matplotlib.axis_2\">\n    <g id=\"ytick_1\">\n     <g id=\"line2d_9\">\n      <path clip-path=\"url(#p0226cff539)\" d=\"M 46.0125 224.64 \nL 380.8125 224.64 \n\" style=\"fill:none;stroke:#ffffff;stroke-linecap:square;stroke-width:0.8;\"/>\n     </g>\n     <g id=\"line2d_10\">\n      <defs>\n       <path d=\"M 0 0 \nL -3.5 0 \n\" id=\"m48196674a6\" style=\"stroke:#555555;stroke-width:0.8;\"/>\n      </defs>\n      <g>\n       <use style=\"fill:#555555;stroke:#555555;stroke-width:0.8;\" x=\"46.0125\" xlink:href=\"#m48196674a6\" y=\"224.64\"/>\n      </g>\n     </g>\n     <g id=\"text_5\">\n      <!-- 0 -->\n      <g style=\"fill:#555555;\" transform=\"translate(32.65 228.439219)scale(0.1 -0.1)\">\n       <use xlink:href=\"#DejaVuSans-48\"/>\n      </g>\n     </g>\n    </g>\n    <g id=\"ytick_2\">\n     <g id=\"line2d_11\">\n      <path clip-path=\"url(#p0226cff539)\" d=\"M 46.0125 190.956572 \nL 380.8125 190.956572 \n\" style=\"fill:none;stroke:#ffffff;stroke-linecap:square;stroke-width:0.8;\"/>\n     </g>\n     <g id=\"line2d_12\">\n      <g>\n       <use style=\"fill:#555555;stroke:#555555;stroke-width:0.8;\" x=\"46.0125\" xlink:href=\"#m48196674a6\" y=\"190.956572\"/>\n      </g>\n     </g>\n     <g id=\"text_6\">\n      <!-- 5000 -->\n      <g style=\"fill:#555555;\" transform=\"translate(13.5625 194.755791)scale(0.1 -0.1)\">\n       <defs>\n        <path d=\"M 10.796875 72.90625 \nL 49.515625 72.90625 \nL 49.515625 64.59375 \nL 19.828125 64.59375 \nL 19.828125 46.734375 \nQ 21.96875 47.46875 24.109375 47.828125 \nQ 26.265625 48.1875 28.421875 48.1875 \nQ 40.625 48.1875 47.75 41.5 \nQ 54.890625 34.8125 54.890625 23.390625 \nQ 54.890625 11.625 47.5625 5.09375 \nQ 40.234375 -1.421875 26.90625 -1.421875 \nQ 22.3125 -1.421875 17.546875 -0.640625 \nQ 12.796875 0.140625 7.71875 1.703125 \nL 7.71875 11.625 \nQ 12.109375 9.234375 16.796875 8.0625 \nQ 21.484375 6.890625 26.703125 6.890625 \nQ 35.15625 6.890625 40.078125 11.328125 \nQ 45.015625 15.765625 45.015625 23.390625 \nQ 45.015625 31 40.078125 35.4375 \nQ 35.15625 39.890625 26.703125 39.890625 \nQ 22.75 39.890625 18.8125 39.015625 \nQ 14.890625 38.140625 10.796875 36.28125 \nz\n\" id=\"DejaVuSans-53\"/>\n       </defs>\n       <use xlink:href=\"#DejaVuSans-53\"/>\n       <use x=\"63.623047\" xlink:href=\"#DejaVuSans-48\"/>\n       <use x=\"127.246094\" xlink:href=\"#DejaVuSans-48\"/>\n       <use x=\"190.869141\" xlink:href=\"#DejaVuSans-48\"/>\n      </g>\n     </g>\n    </g>\n    <g id=\"ytick_3\">\n     <g id=\"line2d_13\">\n      <path clip-path=\"url(#p0226cff539)\" d=\"M 46.0125 157.273144 \nL 380.8125 157.273144 \n\" style=\"fill:none;stroke:#ffffff;stroke-linecap:square;stroke-width:0.8;\"/>\n     </g>\n     <g id=\"line2d_14\">\n      <g>\n       <use style=\"fill:#555555;stroke:#555555;stroke-width:0.8;\" x=\"46.0125\" xlink:href=\"#m48196674a6\" y=\"157.273144\"/>\n      </g>\n     </g>\n     <g id=\"text_7\">\n      <!-- 10000 -->\n      <g style=\"fill:#555555;\" transform=\"translate(7.2 161.072363)scale(0.1 -0.1)\">\n       <use xlink:href=\"#DejaVuSans-49\"/>\n       <use x=\"63.623047\" xlink:href=\"#DejaVuSans-48\"/>\n       <use x=\"127.246094\" xlink:href=\"#DejaVuSans-48\"/>\n       <use x=\"190.869141\" xlink:href=\"#DejaVuSans-48\"/>\n       <use x=\"254.492188\" xlink:href=\"#DejaVuSans-48\"/>\n      </g>\n     </g>\n    </g>\n    <g id=\"ytick_4\">\n     <g id=\"line2d_15\">\n      <path clip-path=\"url(#p0226cff539)\" d=\"M 46.0125 123.589717 \nL 380.8125 123.589717 \n\" style=\"fill:none;stroke:#ffffff;stroke-linecap:square;stroke-width:0.8;\"/>\n     </g>\n     <g id=\"line2d_16\">\n      <g>\n       <use style=\"fill:#555555;stroke:#555555;stroke-width:0.8;\" x=\"46.0125\" xlink:href=\"#m48196674a6\" y=\"123.589717\"/>\n      </g>\n     </g>\n     <g id=\"text_8\">\n      <!-- 15000 -->\n      <g style=\"fill:#555555;\" transform=\"translate(7.2 127.388935)scale(0.1 -0.1)\">\n       <use xlink:href=\"#DejaVuSans-49\"/>\n       <use x=\"63.623047\" xlink:href=\"#DejaVuSans-53\"/>\n       <use x=\"127.246094\" xlink:href=\"#DejaVuSans-48\"/>\n       <use x=\"190.869141\" xlink:href=\"#DejaVuSans-48\"/>\n       <use x=\"254.492188\" xlink:href=\"#DejaVuSans-48\"/>\n      </g>\n     </g>\n    </g>\n    <g id=\"ytick_5\">\n     <g id=\"line2d_17\">\n      <path clip-path=\"url(#p0226cff539)\" d=\"M 46.0125 89.906289 \nL 380.8125 89.906289 \n\" style=\"fill:none;stroke:#ffffff;stroke-linecap:square;stroke-width:0.8;\"/>\n     </g>\n     <g id=\"line2d_18\">\n      <g>\n       <use style=\"fill:#555555;stroke:#555555;stroke-width:0.8;\" x=\"46.0125\" xlink:href=\"#m48196674a6\" y=\"89.906289\"/>\n      </g>\n     </g>\n     <g id=\"text_9\">\n      <!-- 20000 -->\n      <g style=\"fill:#555555;\" transform=\"translate(7.2 93.705507)scale(0.1 -0.1)\">\n       <use xlink:href=\"#DejaVuSans-50\"/>\n       <use x=\"63.623047\" xlink:href=\"#DejaVuSans-48\"/>\n       <use x=\"127.246094\" xlink:href=\"#DejaVuSans-48\"/>\n       <use x=\"190.869141\" xlink:href=\"#DejaVuSans-48\"/>\n       <use x=\"254.492188\" xlink:href=\"#DejaVuSans-48\"/>\n      </g>\n     </g>\n    </g>\n    <g id=\"ytick_6\">\n     <g id=\"line2d_19\">\n      <path clip-path=\"url(#p0226cff539)\" d=\"M 46.0125 56.222861 \nL 380.8125 56.222861 \n\" style=\"fill:none;stroke:#ffffff;stroke-linecap:square;stroke-width:0.8;\"/>\n     </g>\n     <g id=\"line2d_20\">\n      <g>\n       <use style=\"fill:#555555;stroke:#555555;stroke-width:0.8;\" x=\"46.0125\" xlink:href=\"#m48196674a6\" y=\"56.222861\"/>\n      </g>\n     </g>\n     <g id=\"text_10\">\n      <!-- 25000 -->\n      <g style=\"fill:#555555;\" transform=\"translate(7.2 60.02208)scale(0.1 -0.1)\">\n       <use xlink:href=\"#DejaVuSans-50\"/>\n       <use x=\"63.623047\" xlink:href=\"#DejaVuSans-53\"/>\n       <use x=\"127.246094\" xlink:href=\"#DejaVuSans-48\"/>\n       <use x=\"190.869141\" xlink:href=\"#DejaVuSans-48\"/>\n       <use x=\"254.492188\" xlink:href=\"#DejaVuSans-48\"/>\n      </g>\n     </g>\n    </g>\n    <g id=\"ytick_7\">\n     <g id=\"line2d_21\">\n      <path clip-path=\"url(#p0226cff539)\" d=\"M 46.0125 22.539433 \nL 380.8125 22.539433 \n\" style=\"fill:none;stroke:#ffffff;stroke-linecap:square;stroke-width:0.8;\"/>\n     </g>\n     <g id=\"line2d_22\">\n      <g>\n       <use style=\"fill:#555555;stroke:#555555;stroke-width:0.8;\" x=\"46.0125\" xlink:href=\"#m48196674a6\" y=\"22.539433\"/>\n      </g>\n     </g>\n     <g id=\"text_11\">\n      <!-- 30000 -->\n      <g style=\"fill:#555555;\" transform=\"translate(7.2 26.338652)scale(0.1 -0.1)\">\n       <use xlink:href=\"#DejaVuSans-51\"/>\n       <use x=\"63.623047\" xlink:href=\"#DejaVuSans-48\"/>\n       <use x=\"127.246094\" xlink:href=\"#DejaVuSans-48\"/>\n       <use x=\"190.869141\" xlink:href=\"#DejaVuSans-48\"/>\n       <use x=\"254.492188\" xlink:href=\"#DejaVuSans-48\"/>\n      </g>\n     </g>\n    </g>\n   </g>\n   <g id=\"patch_3\">\n    <path clip-path=\"url(#p0226cff539)\" d=\"M 66.9375 224.64 \nL 108.7875 224.64 \nL 108.7875 17.554286 \nL 66.9375 17.554286 \nz\n\" style=\"fill:#e24a33;\"/>\n   </g>\n   <g id=\"patch_4\">\n    <path clip-path=\"url(#p0226cff539)\" d=\"M 150.6375 224.64 \nL 192.4875 224.64 \nL 192.4875 70.470951 \nL 150.6375 70.470951 \nz\n\" style=\"fill:#e24a33;\"/>\n   </g>\n   <g id=\"patch_5\">\n    <path clip-path=\"url(#p0226cff539)\" d=\"M 234.3375 224.64 \nL 276.1875 224.64 \nL 276.1875 129.875044 \nL 234.3375 129.875044 \nz\n\" style=\"fill:#e24a33;\"/>\n   </g>\n   <g id=\"patch_6\">\n    <path clip-path=\"url(#p0226cff539)\" d=\"M 318.0375 224.64 \nL 359.8875 224.64 \nL 359.8875 163.315951 \nL 318.0375 163.315951 \nz\n\" style=\"fill:#e24a33;\"/>\n   </g>\n   <g id=\"patch_7\">\n    <path d=\"M 46.0125 224.64 \nL 46.0125 7.2 \n\" style=\"fill:none;stroke:#ffffff;stroke-linecap:square;stroke-linejoin:miter;\"/>\n   </g>\n   <g id=\"patch_8\">\n    <path d=\"M 380.8125 224.64 \nL 380.8125 7.2 \n\" style=\"fill:none;stroke:#ffffff;stroke-linecap:square;stroke-linejoin:miter;\"/>\n   </g>\n   <g id=\"patch_9\">\n    <path d=\"M 46.0125 224.64 \nL 380.8125 224.64 \n\" style=\"fill:none;stroke:#ffffff;stroke-linecap:square;stroke-linejoin:miter;\"/>\n   </g>\n   <g id=\"patch_10\">\n    <path d=\"M 46.0125 7.2 \nL 380.8125 7.2 \n\" style=\"fill:none;stroke:#ffffff;stroke-linecap:square;stroke-linejoin:miter;\"/>\n   </g>\n  </g>\n </g>\n <defs>\n  <clipPath id=\"p0226cff539\">\n   <rect height=\"217.44\" width=\"334.8\" x=\"46.0125\" y=\"7.2\"/>\n  </clipPath>\n </defs>\n</svg>\n",
      "image/png": "[encoded data removed]"
     },
     "metadata": {}
    }
   ],
   "source": [
    "_ = df[\"class-from-id\"].value_counts().plot.bar()"
   ]
  },
  {
   "cell_type": "code",
   "execution_count": 14,
   "metadata": {},
   "outputs": [],
   "source": [
    "from sklearn.model_selection import train_test_split\n",
    "from sklearn.feature_extraction.text import CountVectorizer\n",
    "from sklearn.feature_extraction.text import TfidfTransformer\n",
    "from sklearn.naive_bayes import MultinomialNB"
   ]
  },
  {
   "cell_type": "code",
   "execution_count": 15,
   "metadata": {},
   "outputs": [],
   "source": [
    "x_train, x_test, y_train, y_test = train_test_split(df['class-text'], df['class-from'], random_state = 42, test_size=0.30)"
   ]
  },
  {
   "cell_type": "code",
   "execution_count": 16,
   "metadata": {},
   "outputs": [
    {
     "output_type": "execute_result",
     "data": {
      "text/plain": [
       "10827    YouTube hat mein letztes Video geloescht. Das ...\n",
       "39829    \"World Economic Forum will Kapitalismus und So...\n",
       "36070    FAUCI, TRUMP UND SEINE KOMPLETTE ADMINISTRATIO...\n",
       "35412                        Folg dem Wolf @ATTILAHILDMANN\n",
       "9937     Falls euch eure Privatsphaere wichtig ist, dan...\n",
       "                               ...                        \n",
       "24125                                        Auf Twitter: \n",
       "11036                  WILDE TIGER BIO FRUCHTGUMMIS       \n",
       "6807     Wuhan-Shake: Corona-Gruss wird zum viralen Hit...\n",
       "1682     Die Links wurden mir dazugeschickt! Ich bekam ...\n",
       "26734                                  Die und der Klausi \n",
       "Name: class-text, Length: 53756, dtype: object"
      ]
     },
     "metadata": {},
     "execution_count": 16
    }
   ],
   "source": [
    "x_train"
   ]
  },
  {
   "cell_type": "code",
   "execution_count": 17,
   "metadata": {},
   "outputs": [
    {
     "output_type": "execute_result",
     "data": {
      "text/plain": [
       "10827         Oliver Janich öffentlich\n",
       "39829         Oliver Janich öffentlich\n",
       "36070          ATTILA HILDMANN ⚫️⚪️🔴⚔️\n",
       "35412          ATTILA HILDMANN ⚫️⚪️🔴⚔️\n",
       "9937     Xavier Naidoo (inoffiziell)🎵🎶\n",
       "                     ...              \n",
       "24125         Oliver Janich öffentlich\n",
       "11036          ATTILA HILDMANN ⚫️⚪️🔴⚔️\n",
       "6807              Eva Herman Offiziell\n",
       "1682           ATTILA HILDMANN ⚫️⚪️🔴⚔️\n",
       "26734          ATTILA HILDMANN ⚫️⚪️🔴⚔️\n",
       "Name: class-from, Length: 53756, dtype: object"
      ]
     },
     "metadata": {},
     "execution_count": 17
    }
   ],
   "source": [
    "y_train"
   ]
  },
  {
   "cell_type": "code",
   "execution_count": 40,
   "metadata": {},
   "outputs": [
    {
     "output_type": "stream",
     "name": "stdout",
     "text": [
      "Train size:\t53756\nTest size:\t23039\n"
     ]
    }
   ],
   "source": [
    "print(\"Train size:\\t\" + str(len(x_train.index)))\n",
    "print(\"Test size:\\t\" + str(len(x_test.index)))"
   ]
  },
  {
   "cell_type": "code",
   "execution_count": 74,
   "metadata": {},
   "outputs": [
    {
     "output_type": "error",
     "ename": "NotFittedError",
     "evalue": "Vocabulary not fitted or provided",
     "traceback": [
      "\u001b[0;31m---------------------------------------------------------------------------\u001b[0m",
      "\u001b[0;31mNotFittedError\u001b[0m                            Traceback (most recent call last)",
      "\u001b[0;32m<ipython-input-74-d6b9b34a3522>\u001b[0m in \u001b[0;36m<module>\u001b[0;34m\u001b[0m\n\u001b[0;32m----> 1\u001b[0;31m \u001b[0maTarget\u001b[0m \u001b[0;34m=\u001b[0m \u001b[0mCountVectorizer\u001b[0m\u001b[0;34m(\u001b[0m\u001b[0;34m)\u001b[0m\u001b[0;34m.\u001b[0m\u001b[0mtransform\u001b[0m\u001b[0;34m(\u001b[0m\u001b[0mx_train\u001b[0m\u001b[0;34m)\u001b[0m\u001b[0;34m\u001b[0m\u001b[0;34m\u001b[0m\u001b[0m\n\u001b[0m\u001b[1;32m      2\u001b[0m \u001b[0;34m\u001b[0m\u001b[0m\n\u001b[1;32m      3\u001b[0m \u001b[0mtfidf_transformer\u001b[0m \u001b[0;34m=\u001b[0m \u001b[0mTfidfTransformer\u001b[0m\u001b[0;34m(\u001b[0m\u001b[0;34m)\u001b[0m\u001b[0;34m\u001b[0m\u001b[0;34m\u001b[0m\u001b[0m\n\u001b[1;32m      4\u001b[0m \u001b[0mx_train_tfidf\u001b[0m \u001b[0;34m=\u001b[0m \u001b[0mtfidf_transformer\u001b[0m\u001b[0;34m.\u001b[0m\u001b[0mfit_transform\u001b[0m\u001b[0;34m(\u001b[0m\u001b[0maTarget\u001b[0m\u001b[0;34m)\u001b[0m\u001b[0;34m\u001b[0m\u001b[0;34m\u001b[0m\u001b[0m\n\u001b[1;32m      5\u001b[0m \u001b[0;34m\u001b[0m\u001b[0m\n",
      "\u001b[0;32m/opt/conda/lib/python3.8/site-packages/sklearn/feature_extraction/text.py\u001b[0m in \u001b[0;36mtransform\u001b[0;34m(self, raw_documents)\u001b[0m\n\u001b[1;32m   1245\u001b[0m                 \u001b[0;34m\"Iterable over raw text documents expected, \"\u001b[0m\u001b[0;34m\u001b[0m\u001b[0;34m\u001b[0m\u001b[0m\n\u001b[1;32m   1246\u001b[0m                 \"string object received.\")\n\u001b[0;32m-> 1247\u001b[0;31m         \u001b[0mself\u001b[0m\u001b[0;34m.\u001b[0m\u001b[0m_check_vocabulary\u001b[0m\u001b[0;34m(\u001b[0m\u001b[0;34m)\u001b[0m\u001b[0;34m\u001b[0m\u001b[0;34m\u001b[0m\u001b[0m\n\u001b[0m\u001b[1;32m   1248\u001b[0m \u001b[0;34m\u001b[0m\u001b[0m\n\u001b[1;32m   1249\u001b[0m         \u001b[0;31m# use the same matrix-building strategy as fit_transform\u001b[0m\u001b[0;34m\u001b[0m\u001b[0;34m\u001b[0m\u001b[0;34m\u001b[0m\u001b[0m\n",
      "\u001b[0;32m/opt/conda/lib/python3.8/site-packages/sklearn/feature_extraction/text.py\u001b[0m in \u001b[0;36m_check_vocabulary\u001b[0;34m(self)\u001b[0m\n\u001b[1;32m    465\u001b[0m             \u001b[0mself\u001b[0m\u001b[0;34m.\u001b[0m\u001b[0m_validate_vocabulary\u001b[0m\u001b[0;34m(\u001b[0m\u001b[0;34m)\u001b[0m\u001b[0;34m\u001b[0m\u001b[0;34m\u001b[0m\u001b[0m\n\u001b[1;32m    466\u001b[0m             \u001b[0;32mif\u001b[0m \u001b[0;32mnot\u001b[0m \u001b[0mself\u001b[0m\u001b[0;34m.\u001b[0m\u001b[0mfixed_vocabulary_\u001b[0m\u001b[0;34m:\u001b[0m\u001b[0;34m\u001b[0m\u001b[0;34m\u001b[0m\u001b[0m\n\u001b[0;32m--> 467\u001b[0;31m                 \u001b[0;32mraise\u001b[0m \u001b[0mNotFittedError\u001b[0m\u001b[0;34m(\u001b[0m\u001b[0;34m\"Vocabulary not fitted or provided\"\u001b[0m\u001b[0;34m)\u001b[0m\u001b[0;34m\u001b[0m\u001b[0;34m\u001b[0m\u001b[0m\n\u001b[0m\u001b[1;32m    468\u001b[0m \u001b[0;34m\u001b[0m\u001b[0m\n\u001b[1;32m    469\u001b[0m         \u001b[0;32mif\u001b[0m \u001b[0mlen\u001b[0m\u001b[0;34m(\u001b[0m\u001b[0mself\u001b[0m\u001b[0;34m.\u001b[0m\u001b[0mvocabulary_\u001b[0m\u001b[0;34m)\u001b[0m \u001b[0;34m==\u001b[0m \u001b[0;36m0\u001b[0m\u001b[0;34m:\u001b[0m\u001b[0;34m\u001b[0m\u001b[0;34m\u001b[0m\u001b[0m\n",
      "\u001b[0;31mNotFittedError\u001b[0m: Vocabulary not fitted or provided"
     ]
    }
   ],
   "source": [
    "aTarget = CountVectorizer().fit_transform(x_train)\n",
    "\n",
    "tfidf_transformer = TfidfTransformer()\n",
    "x_train_tfidf = tfidf_transformer.fit_transform(aTarget)\n",
    "\n",
    "tfidf_transformer2 = TfidfTransformer()\n",
    "x_test_tfidf = tfidf_transformer2.fit_transform(CountVectorizer(aTarget.vocabulary_).fit_transform(x_test))"
   ]
  },
  {
   "cell_type": "code",
   "execution_count": 62,
   "metadata": {},
   "outputs": [],
   "source": [
    "clf = MultinomialNB().fit(x_train_tfidf, y_train)"
   ]
  },
  {
   "cell_type": "code",
   "execution_count": 47,
   "metadata": {},
   "outputs": [
    {
     "output_type": "execute_result",
     "data": {
      "text/plain": [
       "MultinomialNB()"
      ]
     },
     "metadata": {},
     "execution_count": 47
    }
   ],
   "source": [
    "clf"
   ]
  },
  {
   "cell_type": "code",
   "execution_count": 66,
   "metadata": {},
   "outputs": [],
   "source": [
    "from sklearn.metrics import accuracy_score\n",
    "from sklearn.metrics import confusion_matrix"
   ]
  },
  {
   "cell_type": "code",
   "execution_count": 67,
   "metadata": {},
   "outputs": [],
   "source": [
    "predictTrain    = clf.predict(x_train_tfidf)"
   ]
  },
  {
   "cell_type": "code",
   "execution_count": 70,
   "metadata": {},
   "outputs": [
    {
     "output_type": "error",
     "ename": "ValueError",
     "evalue": "dimension mismatch",
     "traceback": [
      "\u001b[0;31m---------------------------------------------------------------------------\u001b[0m",
      "\u001b[0;31mValueError\u001b[0m                                Traceback (most recent call last)",
      "\u001b[0;32m<ipython-input-70-1ccdae09d528>\u001b[0m in \u001b[0;36m<module>\u001b[0;34m\u001b[0m\n\u001b[0;32m----> 1\u001b[0;31m \u001b[0mpredictTest\u001b[0m     \u001b[0;34m=\u001b[0m \u001b[0mclf\u001b[0m\u001b[0;34m.\u001b[0m\u001b[0mpredict\u001b[0m\u001b[0;34m(\u001b[0m\u001b[0mx_test_tfidf\u001b[0m\u001b[0;34m)\u001b[0m\u001b[0;34m\u001b[0m\u001b[0;34m\u001b[0m\u001b[0m\n\u001b[0m",
      "\u001b[0;32m/opt/conda/lib/python3.8/site-packages/sklearn/naive_bayes.py\u001b[0m in \u001b[0;36mpredict\u001b[0;34m(self, X)\u001b[0m\n\u001b[1;32m     76\u001b[0m         \u001b[0mcheck_is_fitted\u001b[0m\u001b[0;34m(\u001b[0m\u001b[0mself\u001b[0m\u001b[0;34m)\u001b[0m\u001b[0;34m\u001b[0m\u001b[0;34m\u001b[0m\u001b[0m\n\u001b[1;32m     77\u001b[0m         \u001b[0mX\u001b[0m \u001b[0;34m=\u001b[0m \u001b[0mself\u001b[0m\u001b[0;34m.\u001b[0m\u001b[0m_check_X\u001b[0m\u001b[0;34m(\u001b[0m\u001b[0mX\u001b[0m\u001b[0;34m)\u001b[0m\u001b[0;34m\u001b[0m\u001b[0;34m\u001b[0m\u001b[0m\n\u001b[0;32m---> 78\u001b[0;31m         \u001b[0mjll\u001b[0m \u001b[0;34m=\u001b[0m \u001b[0mself\u001b[0m\u001b[0;34m.\u001b[0m\u001b[0m_joint_log_likelihood\u001b[0m\u001b[0;34m(\u001b[0m\u001b[0mX\u001b[0m\u001b[0;34m)\u001b[0m\u001b[0;34m\u001b[0m\u001b[0;34m\u001b[0m\u001b[0m\n\u001b[0m\u001b[1;32m     79\u001b[0m         \u001b[0;32mreturn\u001b[0m \u001b[0mself\u001b[0m\u001b[0;34m.\u001b[0m\u001b[0mclasses_\u001b[0m\u001b[0;34m[\u001b[0m\u001b[0mnp\u001b[0m\u001b[0;34m.\u001b[0m\u001b[0margmax\u001b[0m\u001b[0;34m(\u001b[0m\u001b[0mjll\u001b[0m\u001b[0;34m,\u001b[0m \u001b[0maxis\u001b[0m\u001b[0;34m=\u001b[0m\u001b[0;36m1\u001b[0m\u001b[0;34m)\u001b[0m\u001b[0;34m]\u001b[0m\u001b[0;34m\u001b[0m\u001b[0;34m\u001b[0m\u001b[0m\n\u001b[1;32m     80\u001b[0m \u001b[0;34m\u001b[0m\u001b[0m\n",
      "\u001b[0;32m/opt/conda/lib/python3.8/site-packages/sklearn/naive_bayes.py\u001b[0m in \u001b[0;36m_joint_log_likelihood\u001b[0;34m(self, X)\u001b[0m\n\u001b[1;32m    775\u001b[0m     \u001b[0;32mdef\u001b[0m \u001b[0m_joint_log_likelihood\u001b[0m\u001b[0;34m(\u001b[0m\u001b[0mself\u001b[0m\u001b[0;34m,\u001b[0m \u001b[0mX\u001b[0m\u001b[0;34m)\u001b[0m\u001b[0;34m:\u001b[0m\u001b[0;34m\u001b[0m\u001b[0;34m\u001b[0m\u001b[0m\n\u001b[1;32m    776\u001b[0m         \u001b[0;34m\"\"\"Calculate the posterior log probability of the samples X\"\"\"\u001b[0m\u001b[0;34m\u001b[0m\u001b[0;34m\u001b[0m\u001b[0m\n\u001b[0;32m--> 777\u001b[0;31m         return (safe_sparse_dot(X, self.feature_log_prob_.T) +\n\u001b[0m\u001b[1;32m    778\u001b[0m                 self.class_log_prior_)\n\u001b[1;32m    779\u001b[0m \u001b[0;34m\u001b[0m\u001b[0m\n",
      "\u001b[0;32m/opt/conda/lib/python3.8/site-packages/sklearn/utils/validation.py\u001b[0m in \u001b[0;36minner_f\u001b[0;34m(*args, **kwargs)\u001b[0m\n\u001b[1;32m     70\u001b[0m                           FutureWarning)\n\u001b[1;32m     71\u001b[0m         \u001b[0mkwargs\u001b[0m\u001b[0;34m.\u001b[0m\u001b[0mupdate\u001b[0m\u001b[0;34m(\u001b[0m\u001b[0;34m{\u001b[0m\u001b[0mk\u001b[0m\u001b[0;34m:\u001b[0m \u001b[0marg\u001b[0m \u001b[0;32mfor\u001b[0m \u001b[0mk\u001b[0m\u001b[0;34m,\u001b[0m \u001b[0marg\u001b[0m \u001b[0;32min\u001b[0m \u001b[0mzip\u001b[0m\u001b[0;34m(\u001b[0m\u001b[0msig\u001b[0m\u001b[0;34m.\u001b[0m\u001b[0mparameters\u001b[0m\u001b[0;34m,\u001b[0m \u001b[0margs\u001b[0m\u001b[0;34m)\u001b[0m\u001b[0;34m}\u001b[0m\u001b[0;34m)\u001b[0m\u001b[0;34m\u001b[0m\u001b[0;34m\u001b[0m\u001b[0m\n\u001b[0;32m---> 72\u001b[0;31m         \u001b[0;32mreturn\u001b[0m \u001b[0mf\u001b[0m\u001b[0;34m(\u001b[0m\u001b[0;34m**\u001b[0m\u001b[0mkwargs\u001b[0m\u001b[0;34m)\u001b[0m\u001b[0;34m\u001b[0m\u001b[0;34m\u001b[0m\u001b[0m\n\u001b[0m\u001b[1;32m     73\u001b[0m     \u001b[0;32mreturn\u001b[0m \u001b[0minner_f\u001b[0m\u001b[0;34m\u001b[0m\u001b[0;34m\u001b[0m\u001b[0m\n\u001b[1;32m     74\u001b[0m \u001b[0;34m\u001b[0m\u001b[0m\n",
      "\u001b[0;32m/opt/conda/lib/python3.8/site-packages/sklearn/utils/extmath.py\u001b[0m in \u001b[0;36msafe_sparse_dot\u001b[0;34m(a, b, dense_output)\u001b[0m\n\u001b[1;32m    151\u001b[0m             \u001b[0mret\u001b[0m \u001b[0;34m=\u001b[0m \u001b[0mnp\u001b[0m\u001b[0;34m.\u001b[0m\u001b[0mdot\u001b[0m\u001b[0;34m(\u001b[0m\u001b[0ma\u001b[0m\u001b[0;34m,\u001b[0m \u001b[0mb\u001b[0m\u001b[0;34m)\u001b[0m\u001b[0;34m\u001b[0m\u001b[0;34m\u001b[0m\u001b[0m\n\u001b[1;32m    152\u001b[0m     \u001b[0;32melse\u001b[0m\u001b[0;34m:\u001b[0m\u001b[0;34m\u001b[0m\u001b[0;34m\u001b[0m\u001b[0m\n\u001b[0;32m--> 153\u001b[0;31m         \u001b[0mret\u001b[0m \u001b[0;34m=\u001b[0m \u001b[0ma\u001b[0m \u001b[0;34m@\u001b[0m \u001b[0mb\u001b[0m\u001b[0;34m\u001b[0m\u001b[0;34m\u001b[0m\u001b[0m\n\u001b[0m\u001b[1;32m    154\u001b[0m \u001b[0;34m\u001b[0m\u001b[0m\n\u001b[1;32m    155\u001b[0m     if (sparse.issparse(a) and sparse.issparse(b)\n",
      "\u001b[0;32m/opt/conda/lib/python3.8/site-packages/scipy/sparse/base.py\u001b[0m in \u001b[0;36m__matmul__\u001b[0;34m(self, other)\u001b[0m\n\u001b[1;32m    558\u001b[0m             raise ValueError(\"Scalar operands are not allowed, \"\n\u001b[1;32m    559\u001b[0m                              \"use '*' instead\")\n\u001b[0;32m--> 560\u001b[0;31m         \u001b[0;32mreturn\u001b[0m \u001b[0mself\u001b[0m\u001b[0;34m.\u001b[0m\u001b[0m__mul__\u001b[0m\u001b[0;34m(\u001b[0m\u001b[0mother\u001b[0m\u001b[0;34m)\u001b[0m\u001b[0;34m\u001b[0m\u001b[0;34m\u001b[0m\u001b[0m\n\u001b[0m\u001b[1;32m    561\u001b[0m \u001b[0;34m\u001b[0m\u001b[0m\n\u001b[1;32m    562\u001b[0m     \u001b[0;32mdef\u001b[0m \u001b[0m__rmatmul__\u001b[0m\u001b[0;34m(\u001b[0m\u001b[0mself\u001b[0m\u001b[0;34m,\u001b[0m \u001b[0mother\u001b[0m\u001b[0;34m)\u001b[0m\u001b[0;34m:\u001b[0m\u001b[0;34m\u001b[0m\u001b[0;34m\u001b[0m\u001b[0m\n",
      "\u001b[0;32m/opt/conda/lib/python3.8/site-packages/scipy/sparse/base.py\u001b[0m in \u001b[0;36m__mul__\u001b[0;34m(self, other)\u001b[0m\n\u001b[1;32m    514\u001b[0m \u001b[0;34m\u001b[0m\u001b[0m\n\u001b[1;32m    515\u001b[0m             \u001b[0;32mif\u001b[0m \u001b[0mother\u001b[0m\u001b[0;34m.\u001b[0m\u001b[0mshape\u001b[0m\u001b[0;34m[\u001b[0m\u001b[0;36m0\u001b[0m\u001b[0;34m]\u001b[0m \u001b[0;34m!=\u001b[0m \u001b[0mself\u001b[0m\u001b[0;34m.\u001b[0m\u001b[0mshape\u001b[0m\u001b[0;34m[\u001b[0m\u001b[0;36m1\u001b[0m\u001b[0;34m]\u001b[0m\u001b[0;34m:\u001b[0m\u001b[0;34m\u001b[0m\u001b[0;34m\u001b[0m\u001b[0m\n\u001b[0;32m--> 516\u001b[0;31m                 \u001b[0;32mraise\u001b[0m \u001b[0mValueError\u001b[0m\u001b[0;34m(\u001b[0m\u001b[0;34m'dimension mismatch'\u001b[0m\u001b[0;34m)\u001b[0m\u001b[0;34m\u001b[0m\u001b[0;34m\u001b[0m\u001b[0m\n\u001b[0m\u001b[1;32m    517\u001b[0m \u001b[0;34m\u001b[0m\u001b[0m\n\u001b[1;32m    518\u001b[0m             \u001b[0mresult\u001b[0m \u001b[0;34m=\u001b[0m \u001b[0mself\u001b[0m\u001b[0;34m.\u001b[0m\u001b[0m_mul_multivector\u001b[0m\u001b[0;34m(\u001b[0m\u001b[0mnp\u001b[0m\u001b[0;34m.\u001b[0m\u001b[0masarray\u001b[0m\u001b[0;34m(\u001b[0m\u001b[0mother\u001b[0m\u001b[0;34m)\u001b[0m\u001b[0;34m)\u001b[0m\u001b[0;34m\u001b[0m\u001b[0;34m\u001b[0m\u001b[0m\n",
      "\u001b[0;31mValueError\u001b[0m: dimension mismatch"
     ]
    }
   ],
   "source": [
    "predictTest     = clf.predict(x_test_tfidf)"
   ]
  },
  {
   "cell_type": "code",
   "execution_count": 51,
   "metadata": {},
   "outputs": [
    {
     "output_type": "execute_result",
     "data": {
      "text/plain": [
       "0.7406615075526453"
      ]
     },
     "metadata": {},
     "execution_count": 51
    }
   ],
   "source": [
    "accuracy_score(predictTrain, y_train)"
   ]
  },
  {
   "cell_type": "code",
   "execution_count": 52,
   "metadata": {},
   "outputs": [
    {
     "output_type": "error",
     "ename": "NameError",
     "evalue": "name 'predictTest' is not defined",
     "traceback": [
      "\u001b[0;31m---------------------------------------------------------------------------\u001b[0m",
      "\u001b[0;31mNameError\u001b[0m                                 Traceback (most recent call last)",
      "\u001b[0;32m<ipython-input-52-261b3c2f2280>\u001b[0m in \u001b[0;36m<module>\u001b[0;34m\u001b[0m\n\u001b[0;32m----> 1\u001b[0;31m \u001b[0maccuracy_score\u001b[0m\u001b[0;34m(\u001b[0m\u001b[0mpredictTest\u001b[0m\u001b[0;34m,\u001b[0m \u001b[0my_test\u001b[0m\u001b[0;34m)\u001b[0m\u001b[0;34m\u001b[0m\u001b[0;34m\u001b[0m\u001b[0m\n\u001b[0m",
      "\u001b[0;31mNameError\u001b[0m: name 'predictTest' is not defined"
     ]
    }
   ],
   "source": [
    "accuracy_score(predictTest, y_test)"
   ]
  },
  {
   "cell_type": "code",
   "execution_count": null,
   "metadata": {},
   "outputs": [],
   "source": [
    "print(str(confusion_matrix(predictTrain, y_train)))"
   ]
  },
  {
   "cell_type": "code",
   "execution_count": null,
   "metadata": {},
   "outputs": [],
   "source": [
    "print(str(confusion_matrix(predictTest, y_test)))"
   ]
  },
  {
   "cell_type": "code",
   "execution_count": null,
   "metadata": {},
   "outputs": [],
   "source": []
  }
 ]
}