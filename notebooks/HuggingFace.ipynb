{
 "metadata": {
  "language_info": {
   "codemirror_mode": {
    "name": "ipython",
    "version": 3
   },
   "file_extension": ".py",
   "mimetype": "text/x-python",
   "name": "python",
   "nbconvert_exporter": "python",
   "pygments_lexer": "ipython3",
   "version": "3.8.6-final"
  },
  "orig_nbformat": 2,
  "kernelspec": {
   "name": "python3",
   "display_name": "Python 3",
   "language": "python"
  }
 },
 "nbformat": 4,
 "nbformat_minor": 2,
 "cells": [
  {
   "cell_type": "code",
   "execution_count": 1,
   "metadata": {},
   "outputs": [
    {
     "output_type": "stream",
     "name": "stdout",
     "text": [
      "Looking in links: https://download.pytorch.org/whl/torch_stable.html\nRequirement already satisfied: torch==1.7.1+cpu in /opt/conda/lib/python3.8/site-packages (1.7.1+cpu)\nRequirement already satisfied: torchvision==0.8.2+cpu in /opt/conda/lib/python3.8/site-packages (0.8.2+cpu)\nRequirement already satisfied: torchaudio==0.7.2 in /opt/conda/lib/python3.8/site-packages (0.7.2)\nRequirement already satisfied: typing-extensions in /opt/conda/lib/python3.8/site-packages (from torch==1.7.1+cpu) (3.7.4.3)\nRequirement already satisfied: numpy in /opt/conda/lib/python3.8/site-packages (from torch==1.7.1+cpu) (1.19.4)\nRequirement already satisfied: pillow>=4.1.1 in /opt/conda/lib/python3.8/site-packages (from torchvision==0.8.2+cpu) (8.0.1)\n"
     ]
    }
   ],
   "source": [
    "# https://pytorch.org/get-started/locally/#start-locally\n",
    "\n",
    "import sys\n",
    "!{sys.executable} -m pip install torch==1.7.1+cpu torchvision==0.8.2+cpu torchaudio==0.7.2 -f https://download.pytorch.org/whl/torch_stable.html"
   ]
  },
  {
   "cell_type": "code",
   "execution_count": 2,
   "metadata": {},
   "outputs": [
    {
     "output_type": "stream",
     "name": "stdout",
     "text": [
      "Requirement already satisfied: transformers in /opt/conda/lib/python3.8/site-packages (4.2.1)\n",
      "Requirement already satisfied: regex!=2019.12.17 in /opt/conda/lib/python3.8/site-packages (from transformers) (2020.11.13)\n",
      "Requirement already satisfied: requests in /opt/conda/lib/python3.8/site-packages (from transformers) (2.25.1)\n",
      "Requirement already satisfied: filelock in /opt/conda/lib/python3.8/site-packages (from transformers) (3.0.12)\n",
      "Requirement already satisfied: tokenizers==0.9.4 in /opt/conda/lib/python3.8/site-packages (from transformers) (0.9.4)\n",
      "Requirement already satisfied: numpy in /opt/conda/lib/python3.8/site-packages (from transformers) (1.19.4)\n",
      "Requirement already satisfied: tqdm>=4.27 in /opt/conda/lib/python3.8/site-packages (from transformers) (4.54.1)\n",
      "Requirement already satisfied: packaging in /opt/conda/lib/python3.8/site-packages (from transformers) (20.8)\n",
      "Requirement already satisfied: sacremoses in /opt/conda/lib/python3.8/site-packages (from transformers) (0.0.43)\n",
      "Requirement already satisfied: pyparsing>=2.0.2 in /opt/conda/lib/python3.8/site-packages (from packaging->transformers) (2.4.7)\n",
      "Requirement already satisfied: idna<3,>=2.5 in /opt/conda/lib/python3.8/site-packages (from requests->transformers) (2.10)\n",
      "Requirement already satisfied: urllib3<1.27,>=1.21.1 in /opt/conda/lib/python3.8/site-packages (from requests->transformers) (1.26.2)\n",
      "Requirement already satisfied: certifi>=2017.4.17 in /opt/conda/lib/python3.8/site-packages (from requests->transformers) (2020.12.5)\n",
      "Requirement already satisfied: chardet<5,>=3.0.2 in /opt/conda/lib/python3.8/site-packages (from requests->transformers) (4.0.0)\n",
      "Requirement already satisfied: six in /opt/conda/lib/python3.8/site-packages (from sacremoses->transformers) (1.15.0)\n",
      "Requirement already satisfied: joblib in /opt/conda/lib/python3.8/site-packages (from sacremoses->transformers) (1.0.0)\n",
      "Requirement already satisfied: click in /opt/conda/lib/python3.8/site-packages (from sacremoses->transformers) (7.1.2)\n"
     ]
    }
   ],
   "source": [
    "!{sys.executable} -m pip install transformers"
   ]
  },
  {
   "cell_type": "code",
   "execution_count": 3,
   "metadata": {},
   "outputs": [],
   "source": [
    "import torch"
   ]
  },
  {
   "cell_type": "code",
   "execution_count": 4,
   "metadata": {},
   "outputs": [],
   "source": [
    "from transformers import AutoTokenizer, AutoModelForTokenClassification, pipeline\t\t\t"
   ]
  },
  {
   "cell_type": "code",
   "execution_count": 5,
   "metadata": {},
   "outputs": [
    {
     "output_type": "execute_result",
     "data": {
      "text/plain": [
       "\"\\nnlp = pipeline(\\n    'ner', \\n    model='bert-base-german-cased',\\n    #tokenizer=('xlm-roberta-large-finetuned-conll03-german')\\n    )\\n\""
      ]
     },
     "metadata": {},
     "execution_count": 5
    }
   ],
   "source": [
    "\"\"\"\n",
    "nlp = pipeline(\n",
    "    'ner', \n",
    "    model='bert-base-german-cased',\n",
    "    #tokenizer=('xlm-roberta-large-finetuned-conll03-german')\n",
    "    )\n",
    "\"\"\""
   ]
  },
  {
   "source": [
    "## xlm-roberta-large-finetuned-conll03-german"
   ],
   "cell_type": "markdown",
   "metadata": {}
  },
  {
   "cell_type": "code",
   "execution_count": 10,
   "metadata": {},
   "outputs": [],
   "source": [
    "nlp = pipeline(\n",
    "    'ner', \n",
    "    model='xlm-roberta-large-finetuned-conll03-german',\n",
    "    tokenizer='xlm-roberta-large-finetuned-conll03-german'\n",
    "    )"
   ]
  },
  {
   "cell_type": "code",
   "execution_count": 28,
   "metadata": {},
   "outputs": [],
   "source": [
    "data = nlp(\"Eine Telegram-Gruppe ist nicht kompliziert. Jeder Nutzer der App kann Gruppen erstellen, diesen beitreten oder einfach nur mitlesen. Attila Hildmanns oeffentliche Gruppe ist fuer alle freigeschaltet. Dazu hat er noch geschlossene Gruppen. Waehrend Telegram in Deutschland meist nur fuer Kurznachrichten genutzt wird, dient es in vielen anderen Laendern auch als soziales Netzwerk. Hildmann benutzt Telegram, um einen Corona-Feldzug zu fuehrend. Pausenlos teilt er in einer oeffentlichen Gruppe Texte, Videos, Wortbeitraege und Bilder – manchmal kommentiert, manchmal ohne Kontext. In Berlin gibt es Eis zu essen.\")"
   ]
  },
  {
   "cell_type": "code",
   "execution_count": 29,
   "metadata": {},
   "outputs": [
    {
     "output_type": "stream",
     "name": "stdout",
     "text": [
      "{'word': '▁Telegram', 'score': 0.9562285542488098, 'entity': 'I-MISC', 'index': 2, 'start': 5, 'end': 13}\n{'word': '▁Attila', 'score': 0.9999949336051941, 'entity': 'I-PER', 'index': 26, 'start': 133, 'end': 139}\n{'word': '▁Hil', 'score': 0.9999942183494568, 'entity': 'I-PER', 'index': 27, 'start': 140, 'end': 143}\n{'word': 'd', 'score': 0.9999877214431763, 'entity': 'I-PER', 'index': 28, 'start': 143, 'end': 144}\n{'word': '▁Telegram', 'score': 0.9502644538879395, 'entity': 'I-ORG', 'index': 53, 'start': 248, 'end': 256}\n{'word': '▁Deutschland', 'score': 0.9999683499336243, 'entity': 'I-LOC', 'index': 55, 'start': 260, 'end': 271}\n{'word': '▁Hil', 'score': 0.9999887347221375, 'entity': 'I-PER', 'index': 80, 'start': 381, 'end': 384}\n{'word': 'd', 'score': 0.9999831914901733, 'entity': 'I-PER', 'index': 81, 'start': 384, 'end': 385}\n{'word': 'mann', 'score': 0.9999226331710815, 'entity': 'I-PER', 'index': 82, 'start': 385, 'end': 389}\n{'word': '▁Telegram', 'score': 0.9604212045669556, 'entity': 'I-ORG', 'index': 84, 'start': 398, 'end': 406}\n{'word': '▁Corona', 'score': 0.8868582248687744, 'entity': 'I-MISC', 'index': 88, 'start': 417, 'end': 423}\n{'word': '▁Berlin', 'score': 0.9999877214431763, 'entity': 'I-LOC', 'index': 133, 'start': 584, 'end': 590}\n"
     ]
    }
   ],
   "source": [
    "for d in data:\n",
    "    print(str(d))"
   ]
  },
  {
   "source": [
    "## nlptown/bert-base-multilingual-uncased-sentiment"
   ],
   "cell_type": "markdown",
   "metadata": {}
  },
  {
   "cell_type": "code",
   "execution_count": 13,
   "metadata": {},
   "outputs": [],
   "source": [
    "nlp2 = pipeline(\n",
    "    \"sentiment-analysis\", \n",
    "    model='nlptown/bert-base-multilingual-uncased-sentiment',\n",
    "    tokenizer ='nlptown/bert-base-multilingual-uncased-sentiment'\n",
    "    )"
   ]
  },
  {
   "cell_type": "code",
   "execution_count": 14,
   "metadata": {},
   "outputs": [
    {
     "output_type": "execute_result",
     "data": {
      "text/plain": [
       "[{'label': '5 stars', 'score': 0.802029013633728}]"
      ]
     },
     "metadata": {},
     "execution_count": 14
    }
   ],
   "source": [
    "nlp2(\"Ich benutze es oft. Das ist echt toll! Ich würde es mir gerne wieder kaufen!\")"
   ]
  },
  {
   "cell_type": "code",
   "execution_count": 15,
   "metadata": {},
   "outputs": [
    {
     "output_type": "execute_result",
     "data": {
      "text/plain": [
       "[{'label': '2 stars', 'score': 0.39873000979423523}]"
      ]
     },
     "metadata": {},
     "execution_count": 15
    }
   ],
   "source": [
    "nlp2(\"Ich benutze es nicht oft. Das ist echt toll! Würde es mir aber nicht mehr kaufen!\")"
   ]
  },
  {
   "source": [
    "nlp2(\"Ich benutzte es nicht oft. Ich würde es mir nie wieder kaufen! Es geht kaputt!\")"
   ],
   "cell_type": "code",
   "metadata": {},
   "execution_count": 16,
   "outputs": [
    {
     "output_type": "execute_result",
     "data": {
      "text/plain": [
       "[{'label': '1 star', 'score': 0.7767518162727356}]"
      ]
     },
     "metadata": {},
     "execution_count": 16
    }
   ]
  },
  {
   "source": [
    "## dbmdz/german-gpt2"
   ],
   "cell_type": "markdown",
   "metadata": {}
  },
  {
   "cell_type": "code",
   "execution_count": 17,
   "metadata": {},
   "outputs": [
    {
     "output_type": "stream",
     "name": "stderr",
     "text": [
      "Special tokens have been added in the vocabulary, make sure the associated word embedding are fine-tuned or trained.\n"
     ]
    }
   ],
   "source": [
    "nlp3 = pipeline(\n",
    "    \"text-generation\", \n",
    "    model='dbmdz/german-gpt2',\n",
    "    tokenizer=\"dbmdz/german-gpt2\",\n",
    "    config={'config.max_length':80099}\n",
    "    )"
   ]
  },
  {
   "cell_type": "code",
   "execution_count": 18,
   "metadata": {},
   "outputs": [
    {
     "output_type": "stream",
     "name": "stderr",
     "text": [
      "Setting `pad_token_id` to `eos_token_id`:50256 for open-end generation.\n"
     ]
    },
    {
     "output_type": "execute_result",
     "data": {
      "text/plain": [
       "[{'generated_text': 'Hallo. Wie geht’s eigentlich?\\nWie geht’s überhaupt?\\nDas ist eine schwierige Frage.\\nIn der Zwischenzeit ist alles gut.\\nAlles perfekt.\\nUnd wieder eine Frage für den PC.\\nWas ist der Grund für den'}]"
      ]
     },
     "metadata": {},
     "execution_count": 18
    }
   ],
   "source": [
    "nlp3(\"Hallo. Wie geht\")"
   ]
  },
  {
   "cell_type": "code",
   "execution_count": 19,
   "metadata": {},
   "outputs": [
    {
     "output_type": "stream",
     "name": "stderr",
     "text": [
      "Setting `pad_token_id` to `eos_token_id`:50256 for open-end generation.\n"
     ]
    },
    {
     "output_type": "execute_result",
     "data": {
      "text/plain": [
       "[{'generated_text': 'Ich hasse euch alle! Das ist ein blöder Computer!\\n«\\nEr begann, seine Fähigkeiten zu testen und sagte: «\\nNun, das sind keine Blitze, du hast eine kleine Schwäche für dich selbst, du bist ein kleines Kind!'}]"
      ]
     },
     "metadata": {},
     "execution_count": 19
    }
   ],
   "source": [
    "nlp3(\"Ich hasse euch alle! Das ist ein blöder Computer!\")"
   ]
  },
  {
   "cell_type": "code",
   "execution_count": 20,
   "metadata": {},
   "outputs": [
    {
     "output_type": "stream",
     "name": "stderr",
     "text": [
      "Setting `pad_token_id` to `eos_token_id`:50256 for open-end generation.\n",
      "Input length of input_ids is 110, but ``max_length`` is set to 50.This can lead to unexpected behavior. You should consider increasing ``config.max_length`` or ``max_length``.\n"
     ]
    },
    {
     "output_type": "execute_result",
     "data": {
      "text/plain": [
       "[{'generated_text': 'Das Couven-Museum ist ein Museum der Stadt Aachen. Es zeigt auf drei Etagen buergerliche Wohnkultur des 18. und fruehen 19. Jahrhunderts aus Aachen und Umgebung. Die Raeume des Museums werden ausserdem fuer wechselnde Ausstellungen genutzt. Der Name des Museums bezieht sich auf die Aachener Barockarchitekten Johann Joseph Couven und Jakob Couven. Das Museum wurde 1929 im Haus Fey am Seilgraben gegruendet und nach dessen Zerstoerung im Zweiten Weltkrieg 1958 im Haus Monheim am Huehnermarkt wiedereroeffnet.'}]"
      ]
     },
     "metadata": {},
     "execution_count": 20
    }
   ],
   "source": [
    "nlp3(\"Das Couven-Museum ist ein Museum der Stadt Aachen. Es zeigt auf drei Etagen buergerliche Wohnkultur des 18. und fruehen 19. Jahrhunderts aus Aachen und Umgebung. Die Raeume des Museums werden ausserdem fuer wechselnde Ausstellungen genutzt. Der Name des Museums bezieht sich auf die Aachener Barockarchitekten Johann Joseph Couven und Jakob Couven. Das Museum wurde 1929 im Haus Fey am Seilgraben gegruendet und nach dessen Zerstoerung im Zweiten Weltkrieg 1958 im Haus Monheim am Huehnermarkt wiedereroeffnet.\")"
   ]
  },
  {
   "source": [
    "## mrm8488/bert-base-german-dbmdz-cased-finetuned-pawsx-de"
   ],
   "cell_type": "markdown",
   "metadata": {}
  },
  {
   "cell_type": "code",
   "execution_count": 30,
   "metadata": {},
   "outputs": [
    {
     "output_type": "display_data",
     "data": {
      "text/plain": "HBox(children=(HTML(value='Downloading'), FloatProgress(value=0.0, max=482.0), HTML(value='')))",
      "application/vnd.jupyter.widget-view+json": {
       "version_major": 2,
       "version_minor": 0,
       "model_id": "a86fc1f2795d4c5083bb0b71db1efc81"
      }
     },
     "metadata": {}
    },
    {
     "output_type": "stream",
     "name": "stdout",
     "text": [
      "\n"
     ]
    },
    {
     "output_type": "display_data",
     "data": {
      "text/plain": "HBox(children=(HTML(value='Downloading'), FloatProgress(value=0.0, max=439803916.0), HTML(value='')))",
      "application/vnd.jupyter.widget-view+json": {
       "version_major": 2,
       "version_minor": 0,
       "model_id": "8f42fb62f6f0456eaab833416c399858"
      }
     },
     "metadata": {}
    },
    {
     "output_type": "stream",
     "name": "stdout",
     "text": [
      "\n"
     ]
    },
    {
     "output_type": "display_data",
     "data": {
      "text/plain": "HBox(children=(HTML(value='Downloading'), FloatProgress(value=0.0, max=239836.0), HTML(value='')))",
      "application/vnd.jupyter.widget-view+json": {
       "version_major": 2,
       "version_minor": 0,
       "model_id": "e14f1e7d89754e65b4fc7989d3ba8d42"
      }
     },
     "metadata": {}
    },
    {
     "output_type": "stream",
     "name": "stdout",
     "text": [
      "\n"
     ]
    },
    {
     "output_type": "display_data",
     "data": {
      "text/plain": "HBox(children=(HTML(value='Downloading'), FloatProgress(value=0.0, max=112.0), HTML(value='')))",
      "application/vnd.jupyter.widget-view+json": {
       "version_major": 2,
       "version_minor": 0,
       "model_id": "649ca4cc9d774472b16725f1774e9020"
      }
     },
     "metadata": {}
    },
    {
     "output_type": "stream",
     "name": "stdout",
     "text": [
      "\n"
     ]
    },
    {
     "output_type": "display_data",
     "data": {
      "text/plain": "HBox(children=(HTML(value='Downloading'), FloatProgress(value=0.0, max=49.0), HTML(value='')))",
      "application/vnd.jupyter.widget-view+json": {
       "version_major": 2,
       "version_minor": 0,
       "model_id": "6c728a388cee4353b4c6e5d0b3ee5563"
      }
     },
     "metadata": {}
    },
    {
     "output_type": "stream",
     "name": "stdout",
     "text": [
      "\n"
     ]
    }
   ],
   "source": [
    "nlp4 = pipeline(\n",
    "    \"ner\", \n",
    "    model='mrm8488/bert-base-german-dbmdz-cased-finetuned-pawsx-de',\n",
    "    tokenizer=\"mrm8488/bert-base-german-dbmdz-cased-finetuned-pawsx-de\"\n",
    "    )"
   ]
  },
  {
   "cell_type": "code",
   "execution_count": 32,
   "metadata": {},
   "outputs": [],
   "source": [
    "data = nlp4(\"Das Couven-Museum ist ein Museum der Stadt Aachen. Es zeigt auf drei Etagen buergerliche Wohnkultur des 18. und fruehen 19. Jahrhunderts aus Aachen und Umgebung. Die Raeume des Museums werden ausserdem fuer wechselnde Ausstellungen genutzt. Der Name des Museums bezieht sich auf die Aachener Barockarchitekten Johann Joseph Couven und Jakob Couven. Das Museum wurde 1929 im Haus Fey am Seilgraben gegruendet und nach dessen Zerstoerung im Zweiten Weltkrieg 1958 im Haus Monheim am Huehnermarkt wiedereroeffnet.\")"
   ]
  },
  {
   "cell_type": "code",
   "execution_count": 34,
   "metadata": {},
   "outputs": [
    {
     "output_type": "stream",
     "name": "stdout",
     "text": [
      "{'word': 'Das', 'score': 0.6192968487739563, 'entity': 'LABEL_0', 'index': 1, 'start': 0, 'end': 3}\n{'word': 'Co', 'score': 0.5871309638023376, 'entity': 'LABEL_1', 'index': 2, 'start': 4, 'end': 6}\n{'word': '##uv', 'score': 0.5889987945556641, 'entity': 'LABEL_1', 'index': 3, 'start': 6, 'end': 8}\n{'word': '##en', 'score': 0.543214738368988, 'entity': 'LABEL_0', 'index': 4, 'start': 8, 'end': 10}\n{'word': '-', 'score': 0.5578234195709229, 'entity': 'LABEL_1', 'index': 5, 'start': 10, 'end': 11}\n{'word': 'Museum', 'score': 0.5651533007621765, 'entity': 'LABEL_0', 'index': 6, 'start': 11, 'end': 17}\n{'word': 'ist', 'score': 0.5576585531234741, 'entity': 'LABEL_0', 'index': 7, 'start': 18, 'end': 21}\n{'word': 'ein', 'score': 0.6172189712524414, 'entity': 'LABEL_0', 'index': 8, 'start': 22, 'end': 25}\n{'word': 'Museum', 'score': 0.5887534618377686, 'entity': 'LABEL_0', 'index': 9, 'start': 26, 'end': 32}\n{'word': 'der', 'score': 0.555679440498352, 'entity': 'LABEL_0', 'index': 10, 'start': 33, 'end': 36}\n{'word': 'Stadt', 'score': 0.6426100134849548, 'entity': 'LABEL_0', 'index': 11, 'start': 37, 'end': 42}\n{'word': 'Aachen', 'score': 0.5272107720375061, 'entity': 'LABEL_0', 'index': 12, 'start': 43, 'end': 49}\n{'word': '.', 'score': 0.5965341329574585, 'entity': 'LABEL_0', 'index': 13, 'start': 49, 'end': 50}\n{'word': 'Es', 'score': 0.6195200085639954, 'entity': 'LABEL_0', 'index': 14, 'start': 51, 'end': 53}\n{'word': 'zeigt', 'score': 0.5696843266487122, 'entity': 'LABEL_0', 'index': 15, 'start': 54, 'end': 59}\n{'word': 'auf', 'score': 0.5720421075820923, 'entity': 'LABEL_0', 'index': 16, 'start': 60, 'end': 63}\n{'word': 'drei', 'score': 0.5273235440254211, 'entity': 'LABEL_1', 'index': 17, 'start': 64, 'end': 68}\n{'word': 'Etagen', 'score': 0.5611180067062378, 'entity': 'LABEL_0', 'index': 18, 'start': 69, 'end': 75}\n{'word': 'bu', 'score': 0.6536545157432556, 'entity': 'LABEL_0', 'index': 19, 'start': 76, 'end': 78}\n{'word': '##erg', 'score': 0.5367735624313354, 'entity': 'LABEL_0', 'index': 20, 'start': 78, 'end': 81}\n{'word': '##erl', 'score': 0.5522350072860718, 'entity': 'LABEL_0', 'index': 21, 'start': 81, 'end': 84}\n{'word': '##iche', 'score': 0.5654212832450867, 'entity': 'LABEL_0', 'index': 22, 'start': 84, 'end': 88}\n{'word': 'Wohn', 'score': 0.6322361826896667, 'entity': 'LABEL_0', 'index': 23, 'start': 89, 'end': 93}\n{'word': '##kultur', 'score': 0.584972620010376, 'entity': 'LABEL_0', 'index': 24, 'start': 93, 'end': 99}\n{'word': 'des', 'score': 0.6385042667388916, 'entity': 'LABEL_0', 'index': 25, 'start': 100, 'end': 103}\n{'word': '18', 'score': 0.5085968971252441, 'entity': 'LABEL_1', 'index': 26, 'start': 104, 'end': 106}\n{'word': '.', 'score': 0.6242058277130127, 'entity': 'LABEL_0', 'index': 27, 'start': 106, 'end': 107}\n{'word': 'und', 'score': 0.5999710559844971, 'entity': 'LABEL_0', 'index': 28, 'start': 108, 'end': 111}\n{'word': 'fr', 'score': 0.6408689022064209, 'entity': 'LABEL_0', 'index': 29, 'start': 112, 'end': 114}\n{'word': '##ue', 'score': 0.5802193284034729, 'entity': 'LABEL_0', 'index': 30, 'start': 114, 'end': 116}\n{'word': '##hen', 'score': 0.5088047981262207, 'entity': 'LABEL_1', 'index': 31, 'start': 116, 'end': 119}\n{'word': '19', 'score': 0.7173604369163513, 'entity': 'LABEL_0', 'index': 32, 'start': 120, 'end': 122}\n{'word': '.', 'score': 0.6398284435272217, 'entity': 'LABEL_0', 'index': 33, 'start': 122, 'end': 123}\n{'word': 'Jahrhunderts', 'score': 0.6862086653709412, 'entity': 'LABEL_0', 'index': 34, 'start': 124, 'end': 136}\n{'word': 'aus', 'score': 0.7540950775146484, 'entity': 'LABEL_0', 'index': 35, 'start': 137, 'end': 140}\n{'word': 'Aachen', 'score': 0.5428950786590576, 'entity': 'LABEL_0', 'index': 36, 'start': 141, 'end': 147}\n{'word': 'und', 'score': 0.6893492341041565, 'entity': 'LABEL_0', 'index': 37, 'start': 148, 'end': 151}\n{'word': 'Umgebung', 'score': 0.6990584135055542, 'entity': 'LABEL_0', 'index': 38, 'start': 152, 'end': 160}\n{'word': '.', 'score': 0.688227117061615, 'entity': 'LABEL_0', 'index': 39, 'start': 160, 'end': 161}\n{'word': 'Die', 'score': 0.6085330843925476, 'entity': 'LABEL_0', 'index': 40, 'start': 162, 'end': 165}\n{'word': 'Ra', 'score': 0.6073489785194397, 'entity': 'LABEL_0', 'index': 41, 'start': 166, 'end': 168}\n{'word': '##eu', 'score': 0.5872231125831604, 'entity': 'LABEL_0', 'index': 42, 'start': 168, 'end': 170}\n{'word': '##me', 'score': 0.5129414200782776, 'entity': 'LABEL_1', 'index': 43, 'start': 170, 'end': 172}\n{'word': 'des', 'score': 0.6669317483901978, 'entity': 'LABEL_0', 'index': 44, 'start': 173, 'end': 176}\n{'word': 'Museums', 'score': 0.6977332234382629, 'entity': 'LABEL_0', 'index': 45, 'start': 177, 'end': 184}\n{'word': 'werden', 'score': 0.527492880821228, 'entity': 'LABEL_1', 'index': 46, 'start': 185, 'end': 191}\n{'word': 'ausser', 'score': 0.6054821610450745, 'entity': 'LABEL_0', 'index': 47, 'start': 192, 'end': 198}\n{'word': '##dem', 'score': 0.520526111125946, 'entity': 'LABEL_0', 'index': 48, 'start': 198, 'end': 201}\n{'word': 'fuer', 'score': 0.531449556350708, 'entity': 'LABEL_1', 'index': 49, 'start': 202, 'end': 206}\n{'word': 'wechseln', 'score': 0.5076430439949036, 'entity': 'LABEL_0', 'index': 50, 'start': 207, 'end': 215}\n{'word': '##de', 'score': 0.5941639542579651, 'entity': 'LABEL_1', 'index': 51, 'start': 215, 'end': 217}\n{'word': 'Ausstellungen', 'score': 0.5233954191207886, 'entity': 'LABEL_1', 'index': 52, 'start': 218, 'end': 231}\n{'word': 'genutzt', 'score': 0.5466614961624146, 'entity': 'LABEL_0', 'index': 53, 'start': 232, 'end': 239}\n{'word': '.', 'score': 0.6881049871444702, 'entity': 'LABEL_0', 'index': 54, 'start': 239, 'end': 240}\n{'word': 'Der', 'score': 0.5836721062660217, 'entity': 'LABEL_0', 'index': 55, 'start': 241, 'end': 244}\n{'word': 'Name', 'score': 0.5486630797386169, 'entity': 'LABEL_1', 'index': 56, 'start': 245, 'end': 249}\n{'word': 'des', 'score': 0.6771087646484375, 'entity': 'LABEL_0', 'index': 57, 'start': 250, 'end': 253}\n{'word': 'Museums', 'score': 0.6817619800567627, 'entity': 'LABEL_0', 'index': 58, 'start': 254, 'end': 261}\n{'word': 'bezieht', 'score': 0.5803103446960449, 'entity': 'LABEL_0', 'index': 59, 'start': 262, 'end': 269}\n{'word': 'sich', 'score': 0.5909405946731567, 'entity': 'LABEL_0', 'index': 60, 'start': 270, 'end': 274}\n{'word': 'auf', 'score': 0.6322760581970215, 'entity': 'LABEL_0', 'index': 61, 'start': 275, 'end': 278}\n{'word': 'die', 'score': 0.6508440971374512, 'entity': 'LABEL_0', 'index': 62, 'start': 279, 'end': 282}\n{'word': 'Aachener', 'score': 0.6577743291854858, 'entity': 'LABEL_0', 'index': 63, 'start': 283, 'end': 291}\n{'word': 'Barock', 'score': 0.6424180865287781, 'entity': 'LABEL_0', 'index': 64, 'start': 292, 'end': 298}\n{'word': '##archite', 'score': 0.7022610306739807, 'entity': 'LABEL_0', 'index': 65, 'start': 298, 'end': 305}\n{'word': '##kten', 'score': 0.7033696174621582, 'entity': 'LABEL_0', 'index': 66, 'start': 305, 'end': 309}\n{'word': 'Johann', 'score': 0.5967751741409302, 'entity': 'LABEL_0', 'index': 67, 'start': 310, 'end': 316}\n{'word': 'Joseph', 'score': 0.6087148785591125, 'entity': 'LABEL_1', 'index': 68, 'start': 317, 'end': 323}\n{'word': 'Co', 'score': 0.6891549825668335, 'entity': 'LABEL_1', 'index': 69, 'start': 324, 'end': 326}\n{'word': '##uv', 'score': 0.6620798110961914, 'entity': 'LABEL_1', 'index': 70, 'start': 326, 'end': 328}\n{'word': '##en', 'score': 0.5760747194290161, 'entity': 'LABEL_1', 'index': 71, 'start': 328, 'end': 330}\n{'word': 'und', 'score': 0.5562450885772705, 'entity': 'LABEL_1', 'index': 72, 'start': 331, 'end': 334}\n{'word': 'Jakob', 'score': 0.5974151492118835, 'entity': 'LABEL_1', 'index': 73, 'start': 335, 'end': 340}\n{'word': 'Co', 'score': 0.6504993438720703, 'entity': 'LABEL_1', 'index': 74, 'start': 341, 'end': 343}\n{'word': '##uv', 'score': 0.6849170923233032, 'entity': 'LABEL_1', 'index': 75, 'start': 343, 'end': 345}\n{'word': '##en', 'score': 0.580490231513977, 'entity': 'LABEL_1', 'index': 76, 'start': 345, 'end': 347}\n{'word': '.', 'score': 0.5174920558929443, 'entity': 'LABEL_0', 'index': 77, 'start': 347, 'end': 348}\n{'word': 'Das', 'score': 0.6843875050544739, 'entity': 'LABEL_0', 'index': 78, 'start': 349, 'end': 352}\n{'word': 'Museum', 'score': 0.6299449801445007, 'entity': 'LABEL_0', 'index': 79, 'start': 353, 'end': 359}\n{'word': 'wurde', 'score': 0.6174901127815247, 'entity': 'LABEL_0', 'index': 80, 'start': 360, 'end': 365}\n{'word': '1929', 'score': 0.5880885124206543, 'entity': 'LABEL_0', 'index': 81, 'start': 366, 'end': 370}\n{'word': 'im', 'score': 0.7757863402366638, 'entity': 'LABEL_0', 'index': 82, 'start': 371, 'end': 373}\n{'word': 'Haus', 'score': 0.560616135597229, 'entity': 'LABEL_0', 'index': 83, 'start': 374, 'end': 378}\n{'word': 'Fe', 'score': 0.5038842558860779, 'entity': 'LABEL_1', 'index': 84, 'start': 379, 'end': 381}\n{'word': '##y', 'score': 0.6086112856864929, 'entity': 'LABEL_0', 'index': 85, 'start': 381, 'end': 382}\n{'word': 'am', 'score': 0.6789081692695618, 'entity': 'LABEL_0', 'index': 86, 'start': 383, 'end': 385}\n{'word': 'Seil', 'score': 0.764625608921051, 'entity': 'LABEL_0', 'index': 87, 'start': 386, 'end': 390}\n{'word': '##graben', 'score': 0.6802383661270142, 'entity': 'LABEL_0', 'index': 88, 'start': 390, 'end': 396}\n{'word': 'geg', 'score': 0.5866810083389282, 'entity': 'LABEL_1', 'index': 89, 'start': 397, 'end': 400}\n{'word': '##rue', 'score': 0.5328646302223206, 'entity': 'LABEL_0', 'index': 90, 'start': 400, 'end': 403}\n{'word': '##nde', 'score': 0.6460099220275879, 'entity': 'LABEL_1', 'index': 91, 'start': 403, 'end': 406}\n{'word': '##t', 'score': 0.5531997084617615, 'entity': 'LABEL_1', 'index': 92, 'start': 406, 'end': 407}\n{'word': 'und', 'score': 0.5139352679252625, 'entity': 'LABEL_0', 'index': 93, 'start': 408, 'end': 411}\n{'word': 'nach', 'score': 0.5893596410751343, 'entity': 'LABEL_0', 'index': 94, 'start': 412, 'end': 416}\n{'word': 'dessen', 'score': 0.6222702860832214, 'entity': 'LABEL_0', 'index': 95, 'start': 417, 'end': 423}\n{'word': 'Zerst', 'score': 0.5479918718338013, 'entity': 'LABEL_0', 'index': 96, 'start': 424, 'end': 429}\n{'word': '##oe', 'score': 0.5441446304321289, 'entity': 'LABEL_0', 'index': 97, 'start': 429, 'end': 431}\n{'word': '##rung', 'score': 0.5729559659957886, 'entity': 'LABEL_0', 'index': 98, 'start': 431, 'end': 435}\n{'word': 'im', 'score': 0.5908133387565613, 'entity': 'LABEL_0', 'index': 99, 'start': 436, 'end': 438}\n{'word': 'Zweiten', 'score': 0.5670292973518372, 'entity': 'LABEL_0', 'index': 100, 'start': 439, 'end': 446}\n{'word': 'Weltkrieg', 'score': 0.548147976398468, 'entity': 'LABEL_0', 'index': 101, 'start': 447, 'end': 456}\n{'word': '1958', 'score': 0.7237458229064941, 'entity': 'LABEL_0', 'index': 102, 'start': 457, 'end': 461}\n{'word': 'im', 'score': 0.7560125589370728, 'entity': 'LABEL_0', 'index': 103, 'start': 462, 'end': 464}\n{'word': 'Haus', 'score': 0.6202598214149475, 'entity': 'LABEL_0', 'index': 104, 'start': 465, 'end': 469}\n{'word': 'Mon', 'score': 0.7158030271530151, 'entity': 'LABEL_0', 'index': 105, 'start': 470, 'end': 473}\n{'word': '##heim', 'score': 0.6837366819381714, 'entity': 'LABEL_0', 'index': 106, 'start': 473, 'end': 477}\n{'word': 'am', 'score': 0.5738897919654846, 'entity': 'LABEL_0', 'index': 107, 'start': 478, 'end': 480}\n{'word': 'Hu', 'score': 0.5206759572029114, 'entity': 'LABEL_1', 'index': 108, 'start': 481, 'end': 483}\n{'word': '##ehner', 'score': 0.539396345615387, 'entity': 'LABEL_0', 'index': 109, 'start': 483, 'end': 488}\n{'word': '##markt', 'score': 0.5699655413627625, 'entity': 'LABEL_0', 'index': 110, 'start': 488, 'end': 493}\n{'word': 'wieder', 'score': 0.6019746661186218, 'entity': 'LABEL_1', 'index': 111, 'start': 494, 'end': 500}\n{'word': '##ero', 'score': 0.6422122716903687, 'entity': 'LABEL_1', 'index': 112, 'start': 500, 'end': 503}\n{'word': '##ef', 'score': 0.578071117401123, 'entity': 'LABEL_1', 'index': 113, 'start': 503, 'end': 505}\n{'word': '##fn', 'score': 0.6446807384490967, 'entity': 'LABEL_0', 'index': 114, 'start': 505, 'end': 507}\n{'word': '##et', 'score': 0.5713058710098267, 'entity': 'LABEL_0', 'index': 115, 'start': 507, 'end': 509}\n{'word': '.', 'score': 0.6896244287490845, 'entity': 'LABEL_0', 'index': 116, 'start': 509, 'end': 510}\n"
     ]
    }
   ],
   "source": [
    "for d in data:\n",
    "    print(str(d))"
   ]
  },
  {
   "cell_type": "code",
   "execution_count": null,
   "metadata": {},
   "outputs": [],
   "source": []
  }
 ]
}