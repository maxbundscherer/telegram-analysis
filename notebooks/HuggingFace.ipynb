{
 "metadata": {
  "language_info": {
   "codemirror_mode": {
    "name": "ipython",
    "version": 3
   },
   "file_extension": ".py",
   "mimetype": "text/x-python",
   "name": "python",
   "nbconvert_exporter": "python",
   "pygments_lexer": "ipython3",
   "version": "3.8.6-final"
  },
  "orig_nbformat": 2,
  "kernelspec": {
   "name": "python3",
   "display_name": "Python 3",
   "language": "python"
  }
 },
 "nbformat": 4,
 "nbformat_minor": 2,
 "cells": [
  {
   "cell_type": "code",
   "execution_count": 1,
   "metadata": {},
   "outputs": [],
   "source": [
    "# https://pytorch.org/get-started/locally/#start-locally\n",
    "\n",
    "#import sys\n",
    "#!{sys.executable} -m pip install torch==1.7.1+cpu torchvision==0.8.2+cpu torchaudio==0.7.2 -f https://download.pytorch.org/whl/torch_stable.html"
   ]
  },
  {
   "cell_type": "code",
   "execution_count": 2,
   "metadata": {},
   "outputs": [],
   "source": [
    "#!{sys.executable} -m pip install transformers"
   ]
  },
  {
   "cell_type": "code",
   "execution_count": 3,
   "metadata": {},
   "outputs": [],
   "source": [
    "import torch"
   ]
  },
  {
   "cell_type": "code",
   "execution_count": 4,
   "metadata": {},
   "outputs": [],
   "source": [
    "from transformers import AutoTokenizer, AutoModelForTokenClassification, pipeline\t\t\t"
   ]
  },
  {
   "cell_type": "code",
   "execution_count": 5,
   "metadata": {},
   "outputs": [
    {
     "output_type": "execute_result",
     "data": {
      "text/plain": [
       "\"\\nnlp = pipeline(\\n    'ner', \\n    model='bert-base-german-cased',\\n    #tokenizer=('xlm-roberta-large-finetuned-conll03-german')\\n    )\\n\""
      ]
     },
     "metadata": {},
     "execution_count": 5
    }
   ],
   "source": [
    "\"\"\"\n",
    "nlp = pipeline(\n",
    "    'ner', \n",
    "    model='bert-base-german-cased',\n",
    "    #tokenizer=('xlm-roberta-large-finetuned-conll03-german')\n",
    "    )\n",
    "\"\"\""
   ]
  },
  {
   "source": [
    "## xlm-roberta-large-finetuned-conll03-german"
   ],
   "cell_type": "markdown",
   "metadata": {}
  },
  {
   "cell_type": "code",
   "execution_count": 6,
   "metadata": {},
   "outputs": [
    {
     "output_type": "display_data",
     "data": {
      "text/plain": "HBox(children=(HTML(value='Downloading'), FloatProgress(value=0.0, max=886.0), HTML(value='')))",
      "application/vnd.jupyter.widget-view+json": {
       "version_major": 2,
       "version_minor": 0,
       "model_id": "b11d4bd3f7694f43a84f6f92c7f2f918"
      }
     },
     "metadata": {}
    },
    {
     "output_type": "stream",
     "name": "stdout",
     "text": [
      "\n"
     ]
    },
    {
     "output_type": "display_data",
     "data": {
      "text/plain": "HBox(children=(HTML(value='Downloading'), FloatProgress(value=0.0, max=2239696654.0), HTML(value='')))",
      "application/vnd.jupyter.widget-view+json": {
       "version_major": 2,
       "version_minor": 0,
       "model_id": "7366ccd399da4034927737a3e78f978f"
      }
     },
     "metadata": {}
    },
    {
     "output_type": "stream",
     "name": "stdout",
     "text": [
      "\n"
     ]
    },
    {
     "output_type": "display_data",
     "data": {
      "text/plain": "HBox(children=(HTML(value='Downloading'), FloatProgress(value=0.0, max=5069051.0), HTML(value='')))",
      "application/vnd.jupyter.widget-view+json": {
       "version_major": 2,
       "version_minor": 0,
       "model_id": "caf1687ba5de47c3b8f40c07f40ba2af"
      }
     },
     "metadata": {}
    },
    {
     "output_type": "stream",
     "name": "stdout",
     "text": [
      "\n"
     ]
    },
    {
     "output_type": "display_data",
     "data": {
      "text/plain": "HBox(children=(HTML(value='Downloading'), FloatProgress(value=0.0, max=9096718.0), HTML(value='')))",
      "application/vnd.jupyter.widget-view+json": {
       "version_major": 2,
       "version_minor": 0,
       "model_id": "d6a34caf29164f878d02b0c7413b6a66"
      }
     },
     "metadata": {}
    },
    {
     "output_type": "stream",
     "name": "stdout",
     "text": [
      "\n"
     ]
    }
   ],
   "source": [
    "nlp = pipeline(\n",
    "    'ner', \n",
    "    model='xlm-roberta-large-finetuned-conll03-german',\n",
    "    tokenizer='xlm-roberta-large-finetuned-conll03-german'\n",
    "    )"
   ]
  },
  {
   "cell_type": "code",
   "execution_count": 7,
   "metadata": {},
   "outputs": [],
   "source": [
    "data = nlp(\"Eine Telegram-Gruppe ist nicht kompliziert. Jeder Nutzer der App kann Gruppen erstellen, diesen beitreten oder einfach nur mitlesen. Attila Hildmanns oeffentliche Gruppe ist fuer alle freigeschaltet. Dazu hat er noch geschlossene Gruppen. Waehrend Telegram in Deutschland meist nur fuer Kurznachrichten genutzt wird, dient es in vielen anderen Laendern auch als soziales Netzwerk. Hildmann benutzt Telegram, um einen Corona-Feldzug zu fuehrend. Pausenlos teilt er in einer oeffentlichen Gruppe Texte, Videos, Wortbeitraege und Bilder – manchmal kommentiert, manchmal ohne Kontext. In Berlin gibt es Eis zu essen.\")"
   ]
  },
  {
   "cell_type": "code",
   "execution_count": 8,
   "metadata": {},
   "outputs": [
    {
     "output_type": "stream",
     "name": "stdout",
     "text": [
      "{'word': '▁Telegram', 'score': 0.9562285542488098, 'entity': 'I-MISC', 'index': 2, 'start': 5, 'end': 13}\n{'word': '▁Attila', 'score': 0.9999949336051941, 'entity': 'I-PER', 'index': 26, 'start': 133, 'end': 139}\n{'word': '▁Hil', 'score': 0.9999942183494568, 'entity': 'I-PER', 'index': 27, 'start': 140, 'end': 143}\n{'word': 'd', 'score': 0.9999877214431763, 'entity': 'I-PER', 'index': 28, 'start': 143, 'end': 144}\n{'word': '▁Telegram', 'score': 0.9502644538879395, 'entity': 'I-ORG', 'index': 53, 'start': 248, 'end': 256}\n{'word': '▁Deutschland', 'score': 0.9999683499336243, 'entity': 'I-LOC', 'index': 55, 'start': 260, 'end': 271}\n{'word': '▁Hil', 'score': 0.9999887347221375, 'entity': 'I-PER', 'index': 80, 'start': 381, 'end': 384}\n{'word': 'd', 'score': 0.9999831914901733, 'entity': 'I-PER', 'index': 81, 'start': 384, 'end': 385}\n{'word': 'mann', 'score': 0.9999226331710815, 'entity': 'I-PER', 'index': 82, 'start': 385, 'end': 389}\n{'word': '▁Telegram', 'score': 0.9604212045669556, 'entity': 'I-ORG', 'index': 84, 'start': 398, 'end': 406}\n{'word': '▁Corona', 'score': 0.8868582248687744, 'entity': 'I-MISC', 'index': 88, 'start': 417, 'end': 423}\n{'word': '▁Berlin', 'score': 0.9999877214431763, 'entity': 'I-LOC', 'index': 133, 'start': 584, 'end': 590}\n"
     ]
    }
   ],
   "source": [
    "for d in data:\n",
    "    print(str(d))"
   ]
  },
  {
   "source": [
    "## fhswf/bert_de_ner"
   ],
   "cell_type": "markdown",
   "metadata": {}
  },
  {
   "cell_type": "code",
   "execution_count": 9,
   "metadata": {},
   "outputs": [
    {
     "output_type": "display_data",
     "data": {
      "text/plain": "HBox(children=(HTML(value='Downloading'), FloatProgress(value=0.0, max=1535.0), HTML(value='')))",
      "application/vnd.jupyter.widget-view+json": {
       "version_major": 2,
       "version_minor": 0,
       "model_id": "3f1392d7b6bb410e966ae98201636b04"
      }
     },
     "metadata": {}
    },
    {
     "output_type": "stream",
     "name": "stdout",
     "text": [
      "\n"
     ]
    },
    {
     "output_type": "display_data",
     "data": {
      "text/plain": "HBox(children=(HTML(value='Downloading'), FloatProgress(value=0.0, max=439876937.0), HTML(value='')))",
      "application/vnd.jupyter.widget-view+json": {
       "version_major": 2,
       "version_minor": 0,
       "model_id": "f0329151f549454d92392dacd7254082"
      }
     },
     "metadata": {}
    },
    {
     "output_type": "stream",
     "name": "stdout",
     "text": [
      "\n"
     ]
    },
    {
     "output_type": "display_data",
     "data": {
      "text/plain": "HBox(children=(HTML(value='Downloading'), FloatProgress(value=0.0, max=239836.0), HTML(value='')))",
      "application/vnd.jupyter.widget-view+json": {
       "version_major": 2,
       "version_minor": 0,
       "model_id": "147659470f694d68bd9e6fa620141140"
      }
     },
     "metadata": {}
    },
    {
     "output_type": "stream",
     "name": "stdout",
     "text": [
      "\n"
     ]
    },
    {
     "output_type": "display_data",
     "data": {
      "text/plain": "HBox(children=(HTML(value='Downloading'), FloatProgress(value=0.0, max=112.0), HTML(value='')))",
      "application/vnd.jupyter.widget-view+json": {
       "version_major": 2,
       "version_minor": 0,
       "model_id": "3ca7d0d49fba4cd3a71e2eff3fc1668b"
      }
     },
     "metadata": {}
    },
    {
     "output_type": "stream",
     "name": "stdout",
     "text": [
      "\n"
     ]
    },
    {
     "output_type": "display_data",
     "data": {
      "text/plain": "HBox(children=(HTML(value='Downloading'), FloatProgress(value=0.0, max=62.0), HTML(value='')))",
      "application/vnd.jupyter.widget-view+json": {
       "version_major": 2,
       "version_minor": 0,
       "model_id": "06a198ac0f3541769fbd7ea15e9f9f38"
      }
     },
     "metadata": {}
    },
    {
     "output_type": "stream",
     "name": "stdout",
     "text": [
      "\n"
     ]
    }
   ],
   "source": [
    "nlp0 = pipeline(\n",
    "    'ner', \n",
    "    model='fhswf/bert_de_ner',\n",
    "    tokenizer='fhswf/bert_de_ner'\n",
    "    )"
   ]
  },
  {
   "cell_type": "code",
   "execution_count": 10,
   "metadata": {},
   "outputs": [
    {
     "output_type": "stream",
     "name": "stderr",
     "text": [
      "Asking to truncate to max_length but no maximum length is provided and the model has no predefined maximum length. Default to no truncation.\n"
     ]
    }
   ],
   "source": [
    "data = nlp0(\"Eine Telegram-Gruppe ist nicht kompliziert. Jeder Nutzer der App kann Gruppen erstellen, diesen beitreten oder einfach nur mitlesen. Attila Hildmanns oeffentliche Gruppe ist fuer alle freigeschaltet. Dazu hat er noch geschlossene Gruppen. Waehrend Telegram in Deutschland meist nur fuer Kurznachrichten genutzt wird, dient es in vielen anderen Laendern auch als soziales Netzwerk. Hildmann benutzt Telegram, um einen Corona-Feldzug zu fuehrend. Pausenlos teilt er in einer oeffentlichen Gruppe Texte, Videos, Wortbeitraege und Bilder – manchmal kommentiert, manchmal ohne Kontext. In Berlin gibt es Eis zu essen.\")"
   ]
  },
  {
   "cell_type": "code",
   "execution_count": 11,
   "metadata": {},
   "outputs": [
    {
     "output_type": "stream",
     "name": "stdout",
     "text": [
      "{'word': 'att', 'score': 0.9991539120674133, 'entity': 'B-PER', 'index': 33, 'start': 133, 'end': 136}\n{'word': 'hil', 'score': 0.9990091323852539, 'entity': 'I-PER', 'index': 35, 'start': 140, 'end': 143}\n{'word': '##d', 'score': 0.9602457880973816, 'entity': 'I-PER', 'index': 36, 'start': 143, 'end': 144}\n{'word': 'deutsch', 'score': 0.9997794032096863, 'entity': 'B-LOC', 'index': 67, 'start': 260, 'end': 267}\n{'word': '##land', 'score': 0.9681532979011536, 'entity': 'B-LOC', 'index': 68, 'start': 267, 'end': 271}\n{'word': 'hil', 'score': 0.9977797865867615, 'entity': 'B-PER', 'index': 93, 'start': 381, 'end': 384}\n{'word': 'ber', 'score': 0.9997140765190125, 'entity': 'B-LOC', 'index': 153, 'start': 584, 'end': 587}\n{'word': '##lin', 'score': 0.9762290120124817, 'entity': 'B-LOC', 'index': 154, 'start': 587, 'end': 590}\n"
     ]
    }
   ],
   "source": [
    "for d in data:\n",
    "    print(str(d))"
   ]
  },
  {
   "source": [
    "## nlptown/bert-base-multilingual-uncased-sentiment"
   ],
   "cell_type": "markdown",
   "metadata": {}
  },
  {
   "cell_type": "code",
   "execution_count": 12,
   "metadata": {},
   "outputs": [
    {
     "output_type": "display_data",
     "data": {
      "text/plain": "HBox(children=(HTML(value='Downloading'), FloatProgress(value=0.0, max=953.0), HTML(value='')))",
      "application/vnd.jupyter.widget-view+json": {
       "version_major": 2,
       "version_minor": 0,
       "model_id": "67740cca24764aefbaf55f95eac573aa"
      }
     },
     "metadata": {}
    },
    {
     "output_type": "stream",
     "name": "stdout",
     "text": [
      "\n"
     ]
    },
    {
     "output_type": "display_data",
     "data": {
      "text/plain": "HBox(children=(HTML(value='Downloading'), FloatProgress(value=0.0, max=669491321.0), HTML(value='')))",
      "application/vnd.jupyter.widget-view+json": {
       "version_major": 2,
       "version_minor": 0,
       "model_id": "8bf65f0d744f4c36a54a6125f57ae579"
      }
     },
     "metadata": {}
    },
    {
     "output_type": "stream",
     "name": "stdout",
     "text": [
      "\n"
     ]
    },
    {
     "output_type": "display_data",
     "data": {
      "text/plain": "HBox(children=(HTML(value='Downloading'), FloatProgress(value=0.0, max=871891.0), HTML(value='')))",
      "application/vnd.jupyter.widget-view+json": {
       "version_major": 2,
       "version_minor": 0,
       "model_id": "0f8cd1098f934f3fac5ed5d9ed931310"
      }
     },
     "metadata": {}
    },
    {
     "output_type": "stream",
     "name": "stdout",
     "text": [
      "\n"
     ]
    },
    {
     "output_type": "display_data",
     "data": {
      "text/plain": "HBox(children=(HTML(value='Downloading'), FloatProgress(value=0.0, max=112.0), HTML(value='')))",
      "application/vnd.jupyter.widget-view+json": {
       "version_major": 2,
       "version_minor": 0,
       "model_id": "08c10455277c4fd1818e98a3ea4524ce"
      }
     },
     "metadata": {}
    },
    {
     "output_type": "stream",
     "name": "stdout",
     "text": [
      "\n"
     ]
    },
    {
     "output_type": "display_data",
     "data": {
      "text/plain": "HBox(children=(HTML(value='Downloading'), FloatProgress(value=0.0, max=39.0), HTML(value='')))",
      "application/vnd.jupyter.widget-view+json": {
       "version_major": 2,
       "version_minor": 0,
       "model_id": "af1c890add9c4befa45c32c7b3fda619"
      }
     },
     "metadata": {}
    },
    {
     "output_type": "stream",
     "name": "stdout",
     "text": [
      "\n"
     ]
    }
   ],
   "source": [
    "nlp2 = pipeline(\n",
    "    \"sentiment-analysis\", \n",
    "    model='nlptown/bert-base-multilingual-uncased-sentiment',\n",
    "    tokenizer ='nlptown/bert-base-multilingual-uncased-sentiment'\n",
    "    )"
   ]
  },
  {
   "cell_type": "code",
   "execution_count": 13,
   "metadata": {},
   "outputs": [
    {
     "output_type": "execute_result",
     "data": {
      "text/plain": [
       "[{'label': '5 stars', 'score': 0.802029013633728}]"
      ]
     },
     "metadata": {},
     "execution_count": 13
    }
   ],
   "source": [
    "nlp2(\"Ich benutze es oft. Das ist echt toll! Ich würde es mir gerne wieder kaufen!\")"
   ]
  },
  {
   "cell_type": "code",
   "execution_count": 14,
   "metadata": {},
   "outputs": [
    {
     "output_type": "execute_result",
     "data": {
      "text/plain": [
       "[{'label': '2 stars', 'score': 0.39873000979423523}]"
      ]
     },
     "metadata": {},
     "execution_count": 14
    }
   ],
   "source": [
    "nlp2(\"Ich benutze es nicht oft. Das ist echt toll! Würde es mir aber nicht mehr kaufen!\")"
   ]
  },
  {
   "source": [
    "nlp2(\"Ich benutzte es nicht oft. Ich würde es mir nie wieder kaufen! Es geht kaputt!\")"
   ],
   "cell_type": "code",
   "metadata": {},
   "execution_count": 15,
   "outputs": [
    {
     "output_type": "execute_result",
     "data": {
      "text/plain": [
       "[{'label': '1 star', 'score': 0.7767518162727356}]"
      ]
     },
     "metadata": {},
     "execution_count": 15
    }
   ]
  },
  {
   "source": [
    "## dbmdz/german-gpt2"
   ],
   "cell_type": "markdown",
   "metadata": {}
  },
  {
   "cell_type": "code",
   "execution_count": 16,
   "metadata": {},
   "outputs": [
    {
     "output_type": "display_data",
     "data": {
      "text/plain": "HBox(children=(HTML(value='Downloading'), FloatProgress(value=0.0, max=666.0), HTML(value='')))",
      "application/vnd.jupyter.widget-view+json": {
       "version_major": 2,
       "version_minor": 0,
       "model_id": "d54eeeffa9884d4aae01d643414559e9"
      }
     },
     "metadata": {}
    },
    {
     "output_type": "stream",
     "name": "stdout",
     "text": [
      "\n"
     ]
    },
    {
     "output_type": "display_data",
     "data": {
      "text/plain": "HBox(children=(HTML(value='Downloading'), FloatProgress(value=0.0, max=675497284.0), HTML(value='')))",
      "application/vnd.jupyter.widget-view+json": {
       "version_major": 2,
       "version_minor": 0,
       "model_id": "31ccac38ffa54482a0ac01dc043e7950"
      }
     },
     "metadata": {}
    },
    {
     "output_type": "stream",
     "name": "stdout",
     "text": [
      "\n"
     ]
    },
    {
     "output_type": "display_data",
     "data": {
      "text/plain": "HBox(children=(HTML(value='Downloading'), FloatProgress(value=0.0, max=970833.0), HTML(value='')))",
      "application/vnd.jupyter.widget-view+json": {
       "version_major": 2,
       "version_minor": 0,
       "model_id": "c08dc6206efc4566bef1c7b0b60995ab"
      }
     },
     "metadata": {}
    },
    {
     "output_type": "stream",
     "name": "stdout",
     "text": [
      "\n"
     ]
    },
    {
     "output_type": "display_data",
     "data": {
      "text/plain": "HBox(children=(HTML(value='Downloading'), FloatProgress(value=0.0, max=512918.0), HTML(value='')))",
      "application/vnd.jupyter.widget-view+json": {
       "version_major": 2,
       "version_minor": 0,
       "model_id": "8b505b413a044a4dbce42a56526d9126"
      }
     },
     "metadata": {}
    },
    {
     "output_type": "stream",
     "name": "stdout",
     "text": [
      "\n"
     ]
    },
    {
     "output_type": "display_data",
     "data": {
      "text/plain": "HBox(children=(HTML(value='Downloading'), FloatProgress(value=0.0, max=62.0), HTML(value='')))",
      "application/vnd.jupyter.widget-view+json": {
       "version_major": 2,
       "version_minor": 0,
       "model_id": "9c9c95441e4e411fad56e5fd4a11552a"
      }
     },
     "metadata": {}
    },
    {
     "output_type": "stream",
     "name": "stderr",
     "text": [
      "Special tokens have been added in the vocabulary, make sure the associated word embedding are fine-tuned or trained.\n",
      "\n"
     ]
    }
   ],
   "source": [
    "nlp3 = pipeline('text-generation',\n",
    "                model=\"dbmdz/german-gpt2\",\n",
    "                 tokenizer=\"dbmdz/german-gpt2\"\n",
    "                 )"
   ]
  },
  {
   "cell_type": "code",
   "execution_count": 17,
   "metadata": {},
   "outputs": [
    {
     "output_type": "stream",
     "name": "stderr",
     "text": [
      "Setting `pad_token_id` to `eos_token_id`:50256 for open-end generation.\n"
     ]
    },
    {
     "output_type": "execute_result",
     "data": {
      "text/plain": [
       "'Hallo. Wie geht ihr so vor ?\\n?\\nIch liebe die Musik und den Style.\\nWir haben eine Menge Spaß miteinander gemacht, nicht nur für die Musik, die ihr singt, sondern auch für alle.\\nIch habe lange genug mit meinen'"
      ]
     },
     "metadata": {},
     "execution_count": 17
    }
   ],
   "source": [
    "nlp3(\"Hallo. Wie geht\")[0][\"generated_text\"]"
   ]
  },
  {
   "cell_type": "code",
   "execution_count": 18,
   "metadata": {},
   "outputs": [
    {
     "output_type": "stream",
     "name": "stderr",
     "text": [
      "Setting `pad_token_id` to `eos_token_id`:50256 for open-end generation.\n"
     ]
    },
    {
     "output_type": "execute_result",
     "data": {
      "text/plain": [
       "'Ich hasse euch alle! Das ist ein blöder Computer!\\nWas soll das denn sein?\\nDu bist ein Idiot.\\nIch liebe diesen Film!\\nIch wollte nur erwähnen, dass ich nicht gerne Filme spielen würde, die mir auf dem Computer'"
      ]
     },
     "metadata": {},
     "execution_count": 18
    }
   ],
   "source": [
    "nlp3(\"Ich hasse euch alle! Das ist ein blöder Computer!\")[0][\"generated_text\"]"
   ]
  },
  {
   "cell_type": "code",
   "execution_count": 23,
   "metadata": {},
   "outputs": [
    {
     "output_type": "stream",
     "name": "stderr",
     "text": [
      "Setting `pad_token_id` to `eos_token_id`:50256 for open-end generation.\n"
     ]
    },
    {
     "output_type": "execute_result",
     "data": {
      "text/plain": [
       "'Das Couven-Museum ist ein Museum der Stadt Aachen. Es zeigt auf drei Etagen buergerliche Wohnkultur des 18. und fruehen 19. Jahrhunderts aus Aachen und Umgebung. Aachen und Umgebung.Aachen und Umgebung.Aachen und Umgebung.Aachen und Umgebung.Aachen und Umgebung.\\nAachen und Umgebung (12)\\nAachen (16)\\nUtrecht\\n(38)\\nRotterdam (38)\\nHaarlem\\n(16)\\nArnsberg/Hamm -\\n(16)\\nBonn\\n(\\n8)\\nCologne/Leverkusen (12)\\nKoblenz\\n(5)\\nMainz\\n(9)\\nSiegen\\n(\\n8)\\nDortmund\\n(19)\\nDuisburg (15)\\nDüsseldorf (14)\\nEmsland (4)\\nEssen (16)\\nMönchengladbach\\n(\\n8)\\nMünster (18)\\nOberhausen (18)\\nOsnabruck (12)\\nAschaffenburg (10)\\nDarmstadt\\n(13)\\nFrankfurt on Main (9)\\nHeidelberg\\n(13)\\nKaiserslautern (13)\\nMannheim\\n(16)\\nSaarbrücken (10)\\nWiesbaden (14)\\nAmberg\\n(7)\\nAnsbach (18)\\nBamberg\\n(11)\\nErfurt\\n(3)\\nErlangen (11)\\nHof\\n(10)\\nNuremberg\\n(14)\\nPassau (9)\\nRegensburg\\n(6)\\nSchweinfurt (13)\\nSuhl (9)\\nWürzburg (10)\\nAugsburg\\n(11)\\nFriedrichshafen (13)\\nGarmisch-Partenkirchen (9)\\nKempten (16)\\nLandsberg am Lech (1)\\nLandshut (9)\\nMunich north (16)\\nMunich south (4)\\nNeuburg\\n/ Donau-Ries\\n(6)\\nRosenheim (15)\\nUlm\\n(7)\\nFreiburg (26)\\nHeilbronn (27)\\nKarlsruhe\\n(6)\\nKonstanz (12)\\nLudwigsburg/Leonberg (12)\\nOffenburg\\n(12)\\nPforzheim\\n(8)\\nStuttgart\\n(5)\\nTübingen (11)\\nBautzen/Görlitz (16)\\nChemnitz (10)\\nDessau (4)\\nDresden (7)\\nGera\\n(3)\\nHalle\\n/\\nSaale\\n(3)\\nLeipsic (2)\\nZwickau (3)\\nBielefeld\\n(11)\\nBraunschweig (11)\\nFulda (4)\\nGießen (13)\\nGöttingen\\n(7)\\nHannover western surrounding (7)\\nHerford (4)\\nHildesheim (11)\\nKassel\\n(11)\\nHarz (5)\\nMagdeburg\\n(16)\\nStendal\\n(2)\\nBerlin center\\n(7)\\nBerlin north (26)\\nBerlin south (22)\\nEberswalde (3)\\nFrankfurt on\\nOder\\n(4)\\nPotsdam/Brandenburg (6)\\nPrignitz-Oberhavel\\n(5)\\nRostock/Stralsund (4)\\nSchwerin\\n(\\n8) Wismar (11)\\nBremen\\n(9)\\nBremerhaven (11)\\nBuchholz\\n/ Lüneburg\\n(5)\\nFlensburg\\n/\\nSchleswig (9)\\nHamburg (14)\\nHamburger northern surrounding (5)\\nHeide /\\nHusum\\n(16)\\nKiel (13)\\nLübeck (18)\\nOldenburg\\n/\\nEmden\\n(11)\\nStade und Umland (4)\\nAachen (7)\\nArnsberg/Hamm\\n(4)\\nBonn\\n(7)\\nCologne (13)\\nCologne/Leverkusen (12)\\nHagen\\n(3)\\nKoblenz\\n(7)\\nMainz\\n(2)\\nSiegen (2)\\nTrier (2)\\nDortmund\\n(7)\\nDuisburg\\n(6)\\nDüsseldorf\\n(\\n8)\\nEmsland (2)\\nEssen (14)\\nMönchengladbach\\n(7)\\nMünster (12)\\nOberhausen\\n(6)\\nOsnabruck\\n(5)\\nWuppertal\\n(\\n8)\\nAschaffenburg (11)\\nBad Homburg/Friedberg (2)\\nDarmstadt\\n(5)\\nFrankfurt on Main (1)\\nHeidelberg\\n(2)\\nKaiserslautern (9)\\nMannheim\\n(3)\\nSaarbrücken\\n(15)\\nWiesbaden (3)\\nAmberg (9)\\nAnsbach\\n(7)\\nAus dem Raum Frankfurt'"
      ]
     },
     "metadata": {},
     "execution_count": 23
    }
   ],
   "source": [
    "nlp3(\"Das Couven-Museum ist ein Museum der Stadt Aachen. Es zeigt auf drei Etagen buergerliche Wohnkultur des 18. und fruehen 19. Jahrhunderts aus Aachen und Umgebung. Aachen und Umgebung.Aachen und Umgebung.Aachen und Umgebung.Aachen und Umgebung.Aachen und Umgebung.\", max_length=1000)[0][\"generated_text\"]"
   ]
  },
  {
   "source": [
    "## mrm8488/bert-base-german-dbmdz-cased-finetuned-pawsx-de"
   ],
   "cell_type": "markdown",
   "metadata": {}
  },
  {
   "cell_type": "code",
   "execution_count": 20,
   "metadata": {},
   "outputs": [
    {
     "output_type": "display_data",
     "data": {
      "text/plain": "HBox(children=(HTML(value='Downloading'), FloatProgress(value=0.0, max=482.0), HTML(value='')))",
      "application/vnd.jupyter.widget-view+json": {
       "version_major": 2,
       "version_minor": 0,
       "model_id": "2fefbb4de45d4259a25e160aae7fcfd1"
      }
     },
     "metadata": {}
    },
    {
     "output_type": "stream",
     "name": "stdout",
     "text": [
      "\n"
     ]
    },
    {
     "output_type": "display_data",
     "data": {
      "text/plain": "HBox(children=(HTML(value='Downloading'), FloatProgress(value=0.0, max=439803916.0), HTML(value='')))",
      "application/vnd.jupyter.widget-view+json": {
       "version_major": 2,
       "version_minor": 0,
       "model_id": "0af7b5e7f48144d5ab212026471c39fb"
      }
     },
     "metadata": {}
    },
    {
     "output_type": "stream",
     "name": "stdout",
     "text": [
      "\n"
     ]
    },
    {
     "output_type": "display_data",
     "data": {
      "text/plain": "HBox(children=(HTML(value='Downloading'), FloatProgress(value=0.0, max=239836.0), HTML(value='')))",
      "application/vnd.jupyter.widget-view+json": {
       "version_major": 2,
       "version_minor": 0,
       "model_id": "22d03cb20f214f32b000ecb31c8441a7"
      }
     },
     "metadata": {}
    },
    {
     "output_type": "stream",
     "name": "stdout",
     "text": [
      "\n"
     ]
    },
    {
     "output_type": "display_data",
     "data": {
      "text/plain": "HBox(children=(HTML(value='Downloading'), FloatProgress(value=0.0, max=112.0), HTML(value='')))",
      "application/vnd.jupyter.widget-view+json": {
       "version_major": 2,
       "version_minor": 0,
       "model_id": "adfca5cc4cfc4a6097d54432dea1ed21"
      }
     },
     "metadata": {}
    },
    {
     "output_type": "stream",
     "name": "stdout",
     "text": [
      "\n"
     ]
    },
    {
     "output_type": "display_data",
     "data": {
      "text/plain": "HBox(children=(HTML(value='Downloading'), FloatProgress(value=0.0, max=49.0), HTML(value='')))",
      "application/vnd.jupyter.widget-view+json": {
       "version_major": 2,
       "version_minor": 0,
       "model_id": "88a3620186924dd1a07a5a5a5fdf9147"
      }
     },
     "metadata": {}
    },
    {
     "output_type": "stream",
     "name": "stdout",
     "text": [
      "\n"
     ]
    }
   ],
   "source": [
    "nlp4 = pipeline(\n",
    "    \"ner\", \n",
    "    model='mrm8488/bert-base-german-dbmdz-cased-finetuned-pawsx-de',\n",
    "    tokenizer=\"mrm8488/bert-base-german-dbmdz-cased-finetuned-pawsx-de\"\n",
    "    )"
   ]
  },
  {
   "cell_type": "code",
   "execution_count": 21,
   "metadata": {},
   "outputs": [],
   "source": [
    "data = nlp4(\"Das Couven-Museum ist ein Museum der Stadt Aachen. Es zeigt auf drei Etagen buergerliche Wohnkultur des 18. und fruehen 19. Jahrhunderts aus Aachen und Umgebung. Die Raeume des Museums werden ausserdem fuer wechselnde Ausstellungen genutzt. Der Name des Museums bezieht sich auf die Aachener Barockarchitekten Johann Joseph Couven und Jakob Couven. Das Museum wurde 1929 im Haus Fey am Seilgraben gegruendet und nach dessen Zerstoerung im Zweiten Weltkrieg 1958 im Haus Monheim am Huehnermarkt wiedereroeffnet.\")"
   ]
  },
  {
   "cell_type": "code",
   "execution_count": 22,
   "metadata": {},
   "outputs": [
    {
     "output_type": "stream",
     "name": "stdout",
     "text": [
      "{'word': 'Das', 'score': 0.6192968487739563, 'entity': 'LABEL_0', 'index': 1, 'start': 0, 'end': 3}\n{'word': 'Co', 'score': 0.5871309638023376, 'entity': 'LABEL_1', 'index': 2, 'start': 4, 'end': 6}\n{'word': '##uv', 'score': 0.5889988541603088, 'entity': 'LABEL_1', 'index': 3, 'start': 6, 'end': 8}\n{'word': '##en', 'score': 0.5432147979736328, 'entity': 'LABEL_0', 'index': 4, 'start': 8, 'end': 10}\n{'word': '-', 'score': 0.5578235387802124, 'entity': 'LABEL_1', 'index': 5, 'start': 10, 'end': 11}\n{'word': 'Museum', 'score': 0.5651533603668213, 'entity': 'LABEL_0', 'index': 6, 'start': 11, 'end': 17}\n{'word': 'ist', 'score': 0.5576584935188293, 'entity': 'LABEL_0', 'index': 7, 'start': 18, 'end': 21}\n{'word': 'ein', 'score': 0.6172189116477966, 'entity': 'LABEL_0', 'index': 8, 'start': 22, 'end': 25}\n{'word': 'Museum', 'score': 0.5887534618377686, 'entity': 'LABEL_0', 'index': 9, 'start': 26, 'end': 32}\n{'word': 'der', 'score': 0.555679440498352, 'entity': 'LABEL_0', 'index': 10, 'start': 33, 'end': 36}\n{'word': 'Stadt', 'score': 0.6426099538803101, 'entity': 'LABEL_0', 'index': 11, 'start': 37, 'end': 42}\n{'word': 'Aachen', 'score': 0.5272107720375061, 'entity': 'LABEL_0', 'index': 12, 'start': 43, 'end': 49}\n{'word': '.', 'score': 0.5965340733528137, 'entity': 'LABEL_0', 'index': 13, 'start': 49, 'end': 50}\n{'word': 'Es', 'score': 0.6195199489593506, 'entity': 'LABEL_0', 'index': 14, 'start': 51, 'end': 53}\n{'word': 'zeigt', 'score': 0.5696843266487122, 'entity': 'LABEL_0', 'index': 15, 'start': 54, 'end': 59}\n{'word': 'auf', 'score': 0.5720421075820923, 'entity': 'LABEL_0', 'index': 16, 'start': 60, 'end': 63}\n{'word': 'drei', 'score': 0.5273234844207764, 'entity': 'LABEL_1', 'index': 17, 'start': 64, 'end': 68}\n{'word': 'Etagen', 'score': 0.5611180067062378, 'entity': 'LABEL_0', 'index': 18, 'start': 69, 'end': 75}\n{'word': 'bu', 'score': 0.6536544561386108, 'entity': 'LABEL_0', 'index': 19, 'start': 76, 'end': 78}\n{'word': '##erg', 'score': 0.5367735624313354, 'entity': 'LABEL_0', 'index': 20, 'start': 78, 'end': 81}\n{'word': '##erl', 'score': 0.552234947681427, 'entity': 'LABEL_0', 'index': 21, 'start': 81, 'end': 84}\n{'word': '##iche', 'score': 0.5654212832450867, 'entity': 'LABEL_0', 'index': 22, 'start': 84, 'end': 88}\n{'word': 'Wohn', 'score': 0.6322361826896667, 'entity': 'LABEL_0', 'index': 23, 'start': 89, 'end': 93}\n{'word': '##kultur', 'score': 0.584972620010376, 'entity': 'LABEL_0', 'index': 24, 'start': 93, 'end': 99}\n{'word': 'des', 'score': 0.6385042071342468, 'entity': 'LABEL_0', 'index': 25, 'start': 100, 'end': 103}\n{'word': '18', 'score': 0.5085968375205994, 'entity': 'LABEL_1', 'index': 26, 'start': 104, 'end': 106}\n{'word': '.', 'score': 0.6242057085037231, 'entity': 'LABEL_0', 'index': 27, 'start': 106, 'end': 107}\n{'word': 'und', 'score': 0.5999710559844971, 'entity': 'LABEL_0', 'index': 28, 'start': 108, 'end': 111}\n{'word': 'fr', 'score': 0.6408688426017761, 'entity': 'LABEL_0', 'index': 29, 'start': 112, 'end': 114}\n{'word': '##ue', 'score': 0.5802193880081177, 'entity': 'LABEL_0', 'index': 30, 'start': 114, 'end': 116}\n{'word': '##hen', 'score': 0.5088048577308655, 'entity': 'LABEL_1', 'index': 31, 'start': 116, 'end': 119}\n{'word': '19', 'score': 0.7173604369163513, 'entity': 'LABEL_0', 'index': 32, 'start': 120, 'end': 122}\n{'word': '.', 'score': 0.6398285031318665, 'entity': 'LABEL_0', 'index': 33, 'start': 122, 'end': 123}\n{'word': 'Jahrhunderts', 'score': 0.6862087249755859, 'entity': 'LABEL_0', 'index': 34, 'start': 124, 'end': 136}\n{'word': 'aus', 'score': 0.7540951371192932, 'entity': 'LABEL_0', 'index': 35, 'start': 137, 'end': 140}\n{'word': 'Aachen', 'score': 0.5428951382637024, 'entity': 'LABEL_0', 'index': 36, 'start': 141, 'end': 147}\n{'word': 'und', 'score': 0.6893492341041565, 'entity': 'LABEL_0', 'index': 37, 'start': 148, 'end': 151}\n{'word': 'Umgebung', 'score': 0.699058473110199, 'entity': 'LABEL_0', 'index': 38, 'start': 152, 'end': 160}\n{'word': '.', 'score': 0.6882269978523254, 'entity': 'LABEL_0', 'index': 39, 'start': 160, 'end': 161}\n{'word': 'Die', 'score': 0.6085330843925476, 'entity': 'LABEL_0', 'index': 40, 'start': 162, 'end': 165}\n{'word': 'Ra', 'score': 0.6073489785194397, 'entity': 'LABEL_0', 'index': 41, 'start': 166, 'end': 168}\n{'word': '##eu', 'score': 0.5872231125831604, 'entity': 'LABEL_0', 'index': 42, 'start': 168, 'end': 170}\n{'word': '##me', 'score': 0.512941300868988, 'entity': 'LABEL_1', 'index': 43, 'start': 170, 'end': 172}\n{'word': 'des', 'score': 0.6669318079948425, 'entity': 'LABEL_0', 'index': 44, 'start': 173, 'end': 176}\n{'word': 'Museums', 'score': 0.6977332234382629, 'entity': 'LABEL_0', 'index': 45, 'start': 177, 'end': 184}\n{'word': 'werden', 'score': 0.527492880821228, 'entity': 'LABEL_1', 'index': 46, 'start': 185, 'end': 191}\n{'word': 'ausser', 'score': 0.6054821610450745, 'entity': 'LABEL_0', 'index': 47, 'start': 192, 'end': 198}\n{'word': '##dem', 'score': 0.5205260515213013, 'entity': 'LABEL_0', 'index': 48, 'start': 198, 'end': 201}\n{'word': 'fuer', 'score': 0.531449556350708, 'entity': 'LABEL_1', 'index': 49, 'start': 202, 'end': 206}\n{'word': 'wechseln', 'score': 0.5076430439949036, 'entity': 'LABEL_0', 'index': 50, 'start': 207, 'end': 215}\n{'word': '##de', 'score': 0.5941639542579651, 'entity': 'LABEL_1', 'index': 51, 'start': 215, 'end': 217}\n{'word': 'Ausstellungen', 'score': 0.5233955383300781, 'entity': 'LABEL_1', 'index': 52, 'start': 218, 'end': 231}\n{'word': 'genutzt', 'score': 0.5466614961624146, 'entity': 'LABEL_0', 'index': 53, 'start': 232, 'end': 239}\n{'word': '.', 'score': 0.6881049871444702, 'entity': 'LABEL_0', 'index': 54, 'start': 239, 'end': 240}\n{'word': 'Der', 'score': 0.5836721062660217, 'entity': 'LABEL_0', 'index': 55, 'start': 241, 'end': 244}\n{'word': 'Name', 'score': 0.5486631989479065, 'entity': 'LABEL_1', 'index': 56, 'start': 245, 'end': 249}\n{'word': 'des', 'score': 0.6771087646484375, 'entity': 'LABEL_0', 'index': 57, 'start': 250, 'end': 253}\n{'word': 'Museums', 'score': 0.6817619800567627, 'entity': 'LABEL_0', 'index': 58, 'start': 254, 'end': 261}\n{'word': 'bezieht', 'score': 0.5803102850914001, 'entity': 'LABEL_0', 'index': 59, 'start': 262, 'end': 269}\n{'word': 'sich', 'score': 0.590940535068512, 'entity': 'LABEL_0', 'index': 60, 'start': 270, 'end': 274}\n{'word': 'auf', 'score': 0.6322759985923767, 'entity': 'LABEL_0', 'index': 61, 'start': 275, 'end': 278}\n{'word': 'die', 'score': 0.650844156742096, 'entity': 'LABEL_0', 'index': 62, 'start': 279, 'end': 282}\n{'word': 'Aachener', 'score': 0.6577743291854858, 'entity': 'LABEL_0', 'index': 63, 'start': 283, 'end': 291}\n{'word': 'Barock', 'score': 0.6424180865287781, 'entity': 'LABEL_0', 'index': 64, 'start': 292, 'end': 298}\n{'word': '##archite', 'score': 0.7022610902786255, 'entity': 'LABEL_0', 'index': 65, 'start': 298, 'end': 305}\n{'word': '##kten', 'score': 0.703369677066803, 'entity': 'LABEL_0', 'index': 66, 'start': 305, 'end': 309}\n{'word': 'Johann', 'score': 0.596775233745575, 'entity': 'LABEL_0', 'index': 67, 'start': 310, 'end': 316}\n{'word': 'Joseph', 'score': 0.6087148189544678, 'entity': 'LABEL_1', 'index': 68, 'start': 317, 'end': 323}\n{'word': 'Co', 'score': 0.6891549229621887, 'entity': 'LABEL_1', 'index': 69, 'start': 324, 'end': 326}\n{'word': '##uv', 'score': 0.6620797514915466, 'entity': 'LABEL_1', 'index': 70, 'start': 326, 'end': 328}\n{'word': '##en', 'score': 0.5760747194290161, 'entity': 'LABEL_1', 'index': 71, 'start': 328, 'end': 330}\n{'word': 'und', 'score': 0.5562450885772705, 'entity': 'LABEL_1', 'index': 72, 'start': 331, 'end': 334}\n{'word': 'Jakob', 'score': 0.5974151492118835, 'entity': 'LABEL_1', 'index': 73, 'start': 335, 'end': 340}\n{'word': 'Co', 'score': 0.6504993438720703, 'entity': 'LABEL_1', 'index': 74, 'start': 341, 'end': 343}\n{'word': '##uv', 'score': 0.6849170923233032, 'entity': 'LABEL_1', 'index': 75, 'start': 343, 'end': 345}\n{'word': '##en', 'score': 0.5804901719093323, 'entity': 'LABEL_1', 'index': 76, 'start': 345, 'end': 347}\n{'word': '.', 'score': 0.5174919962882996, 'entity': 'LABEL_0', 'index': 77, 'start': 347, 'end': 348}\n{'word': 'Das', 'score': 0.6843874454498291, 'entity': 'LABEL_0', 'index': 78, 'start': 349, 'end': 352}\n{'word': 'Museum', 'score': 0.6299449801445007, 'entity': 'LABEL_0', 'index': 79, 'start': 353, 'end': 359}\n{'word': 'wurde', 'score': 0.6174901127815247, 'entity': 'LABEL_0', 'index': 80, 'start': 360, 'end': 365}\n{'word': '1929', 'score': 0.5880885720252991, 'entity': 'LABEL_0', 'index': 81, 'start': 366, 'end': 370}\n{'word': 'im', 'score': 0.7757863402366638, 'entity': 'LABEL_0', 'index': 82, 'start': 371, 'end': 373}\n{'word': 'Haus', 'score': 0.5606160163879395, 'entity': 'LABEL_0', 'index': 83, 'start': 374, 'end': 378}\n{'word': 'Fe', 'score': 0.5038842558860779, 'entity': 'LABEL_1', 'index': 84, 'start': 379, 'end': 381}\n{'word': '##y', 'score': 0.6086112260818481, 'entity': 'LABEL_0', 'index': 85, 'start': 381, 'end': 382}\n{'word': 'am', 'score': 0.6789081692695618, 'entity': 'LABEL_0', 'index': 86, 'start': 383, 'end': 385}\n{'word': 'Seil', 'score': 0.764625608921051, 'entity': 'LABEL_0', 'index': 87, 'start': 386, 'end': 390}\n{'word': '##graben', 'score': 0.6802384257316589, 'entity': 'LABEL_0', 'index': 88, 'start': 390, 'end': 396}\n{'word': 'geg', 'score': 0.5866810083389282, 'entity': 'LABEL_1', 'index': 89, 'start': 397, 'end': 400}\n{'word': '##rue', 'score': 0.5328645706176758, 'entity': 'LABEL_0', 'index': 90, 'start': 400, 'end': 403}\n{'word': '##nde', 'score': 0.6460098624229431, 'entity': 'LABEL_1', 'index': 91, 'start': 403, 'end': 406}\n{'word': '##t', 'score': 0.5531997084617615, 'entity': 'LABEL_1', 'index': 92, 'start': 406, 'end': 407}\n{'word': 'und', 'score': 0.5139352083206177, 'entity': 'LABEL_0', 'index': 93, 'start': 408, 'end': 411}\n{'word': 'nach', 'score': 0.5893597602844238, 'entity': 'LABEL_0', 'index': 94, 'start': 412, 'end': 416}\n{'word': 'dessen', 'score': 0.622270405292511, 'entity': 'LABEL_0', 'index': 95, 'start': 417, 'end': 423}\n{'word': 'Zerst', 'score': 0.5479918122291565, 'entity': 'LABEL_0', 'index': 96, 'start': 424, 'end': 429}\n{'word': '##oe', 'score': 0.5441446304321289, 'entity': 'LABEL_0', 'index': 97, 'start': 429, 'end': 431}\n{'word': '##rung', 'score': 0.5729559659957886, 'entity': 'LABEL_0', 'index': 98, 'start': 431, 'end': 435}\n{'word': 'im', 'score': 0.5908132791519165, 'entity': 'LABEL_0', 'index': 99, 'start': 436, 'end': 438}\n{'word': 'Zweiten', 'score': 0.5670293569564819, 'entity': 'LABEL_0', 'index': 100, 'start': 439, 'end': 446}\n{'word': 'Weltkrieg', 'score': 0.5481480956077576, 'entity': 'LABEL_0', 'index': 101, 'start': 447, 'end': 456}\n{'word': '1958', 'score': 0.7237458825111389, 'entity': 'LABEL_0', 'index': 102, 'start': 457, 'end': 461}\n{'word': 'im', 'score': 0.7560125589370728, 'entity': 'LABEL_0', 'index': 103, 'start': 462, 'end': 464}\n{'word': 'Haus', 'score': 0.6202598214149475, 'entity': 'LABEL_0', 'index': 104, 'start': 465, 'end': 469}\n{'word': 'Mon', 'score': 0.7158029675483704, 'entity': 'LABEL_0', 'index': 105, 'start': 470, 'end': 473}\n{'word': '##heim', 'score': 0.6837366819381714, 'entity': 'LABEL_0', 'index': 106, 'start': 473, 'end': 477}\n{'word': 'am', 'score': 0.5738899111747742, 'entity': 'LABEL_0', 'index': 107, 'start': 478, 'end': 480}\n{'word': 'Hu', 'score': 0.5206759572029114, 'entity': 'LABEL_1', 'index': 108, 'start': 481, 'end': 483}\n{'word': '##ehner', 'score': 0.5393962860107422, 'entity': 'LABEL_0', 'index': 109, 'start': 483, 'end': 488}\n{'word': '##markt', 'score': 0.5699656009674072, 'entity': 'LABEL_0', 'index': 110, 'start': 488, 'end': 493}\n{'word': 'wieder', 'score': 0.6019746661186218, 'entity': 'LABEL_1', 'index': 111, 'start': 494, 'end': 500}\n{'word': '##ero', 'score': 0.6422123312950134, 'entity': 'LABEL_1', 'index': 112, 'start': 500, 'end': 503}\n{'word': '##ef', 'score': 0.5780711770057678, 'entity': 'LABEL_1', 'index': 113, 'start': 503, 'end': 505}\n{'word': '##fn', 'score': 0.6446807384490967, 'entity': 'LABEL_0', 'index': 114, 'start': 505, 'end': 507}\n{'word': '##et', 'score': 0.5713058710098267, 'entity': 'LABEL_0', 'index': 115, 'start': 507, 'end': 509}\n{'word': '.', 'score': 0.6896244287490845, 'entity': 'LABEL_0', 'index': 116, 'start': 509, 'end': 510}\n"
     ]
    }
   ],
   "source": [
    "for d in data:\n",
    "    print(str(d))"
   ]
  }
 ]
}